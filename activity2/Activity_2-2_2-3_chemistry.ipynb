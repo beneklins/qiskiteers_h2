{
 "cells": [
  {
   "cell_type": "markdown",
   "metadata": {
    "id": "OMpi7dugR0Vn"
   },
   "source": [
    "# **QUANTUM CHEMISTRY THEORY**"
   ]
  },
  {
   "cell_type": "markdown",
   "metadata": {
    "id": "iG5DRzuXWv50"
   },
   "source": [
    "\n",
    " **Jean Paul FAYE**\n",
    "\n",
    "Quantum specialist,\n",
    "\n",
    "**CMC MICROSYSTEMS**"
   ]
  },
  {
   "cell_type": "markdown",
   "metadata": {
    "id": "TGnSqlnPTLnH"
   },
   "source": [
    "# **Why this activity**?"
   ]
  },
  {
   "cell_type": "markdown",
   "metadata": {
    "id": "sXac7eaaczto"
   },
   "source": [
    "The aim of this activity is to show how to transform the Hamiltonian describing the electronic structure of molecules in second quantization form,  which will be used to map to quantum computing operations.\n",
    "\n",
    "In this transformation, we need to compute one-body and two-body integrals. In this activity, we will learn how to calculate those integrals using `Pyscf` package. "
   ]
  },
  {
   "cell_type": "markdown",
   "metadata": {
    "id": "GqVV3xIURhZf"
   },
   "source": [
    "# **Electronic structure Hamiltonian** "
   ]
  },
  {
   "cell_type": "markdown",
   "metadata": {
    "id": "TqV_mco1iPqI"
   },
   "source": [
    "We consider a molecule composed of $N_n$ nuclei of mass $M_I$ and $N_e$ electrons of mass $m_e$. The Hamiltonian describing this molecule is written as:\n",
    "\\begin{eqnarray}\n",
    "    H = -\\sum^{N_e}_{i=1}\\frac{\\hbar^2}{2m_e}\\nabla^2_i-\\sum^{N_n}_{I=1}\\frac{\\hbar^2}{2M_I}\\nabla^2_I -\\sum^{N_e,N_n}_{i,I=1}\\frac{e^2}{4\\pi\\epsilon_0}\\frac{Z_I}{|{\\bf r}_i-{\\bf R}_I|} + \\frac{1}{2}\\sum^{N_e}_{\\substack{i,j = 1\\\\i<j}}\\frac{e^2}{4\\pi\\epsilon_0}\\frac{1}{|{\\bf r}_i-{\\bf r}_j|} + \n",
    "    \\frac{1}{2}\\sum^{N_n}_{\\substack{I,J = 1\\\\I<J}}\\frac{e^2}{4\\pi\\epsilon_0}\\frac{Z_IZ_J}{|{\\bf R}_I-{\\bf R}_J|},\n",
    "\\end{eqnarray}\n",
    "where the first and second terms are the kinetic energy of electrons and nuclei, respectively. The thirt term is the Coulomb attractive interaction between electrons and nuclei. The two last terms are the electron-electron and nuclei-nuclei interactions, respectively.\n",
    "In this equation, $\\hbar$ is Planck's constant $h$ divided by $2\\pi$, and $e$ is the electron charge. To simplify, it is convenient to rewrite the Hamiltonian in **Hartree atomic units**. "
   ]
  },
  {
   "cell_type": "markdown",
   "metadata": {
    "id": "VFS8t_ealbrG"
   },
   "source": [
    "# **How to write the Hamiltonian in Hartree atomic units?**\n",
    "\n"
   ]
  },
  {
   "cell_type": "markdown",
   "metadata": {
    "id": "Ojb3jictldfv"
   },
   "source": [
    "Let us consider the hydrogen atom, which is composed by one electron and one nucleus. The Schrödinger equation for hydrogen atom is:\n",
    "\\begin{equation}\n",
    "\\left(-\\frac{\\hbar^2}{2M_I}\\nabla^2 -\\frac{\\hbar^2}{2m_e}\\nabla^2 -\\frac{e^2}{4\\pi\\epsilon_0}\\frac{1}{{|\\bf r|}}\\right)\\Phi = E\\Phi \n",
    "\\end{equation}\n",
    "In order to cast this equation into Hartree atomic units, we do the following change of variable: ${\\bf r} \\rightarrow \\lambda {\\bf r}^{\\prime}$, which transform the Schrödinger equation as follow:\n",
    "\\begin{equation}\n",
    "\\left(-\\frac{\\hbar^2}{2m_e\\lambda^2}\\nabla^{\\prime 2} -\\frac{e^2}{4\\pi\\epsilon_0\\lambda}\\frac{1}{{|\\bf r^{\\prime}|}}\\right)\\Phi^{\\prime} = E\\Phi^{\\prime}. \n",
    "\\end{equation}\n",
    "To factorize the constant in front of the electron kinetic and potential energies, we require that \n",
    "\\begin{equation}\n",
    "\\frac{\\hbar^2}{m_e\\lambda^2} = \\frac{e^2}{4\\pi\\epsilon_0\\lambda} = E_a,\n",
    "\\end{equation} \n",
    "where $E_a$ is the unit of energy called the **Hartree**.\n",
    "Solving this equation, we obtain $\\lambda = \\frac{4\\pi\\epsilon_0\\hbar^2}{m_ee^2} = a_0$, where $a_0 = 0.52918\\times 10^{-11} $ m is the Bohr radius.\n",
    "We can write now:\n",
    "\\begin{equation}\n",
    "\\left(-\\frac{\\nabla^{\\prime 2}}{2} -\\frac{1}{{|\\bf r^{\\prime}|}}\\right)\\Phi^{\\prime} = E^{\\prime}\\Phi^{\\prime} \n",
    "\\end{equation}\n",
    "with $E^{\\prime} = E/E_a$.\n",
    "\n",
    "Using this procedure, the Hamiltonian of the molecule takes the form\n",
    "\\begin{eqnarray}\n",
    "    H = -\\sum^{N_e}_{i=1}\\frac{\\nabla^2_i}{2}-\\sum^{N_n}_{I=1}\\frac{\\nabla^2_I}{2M_{I/e}} -\\sum^{N_e, N_n}_{i,I = 1}\\frac{Z_I}{|{\\bf r}_i-{\\bf R}_I|} + \\frac{1}{2}\\sum^{N_e}_{\\substack{i,j = 1\\\\i<j}}\\frac{1}{|{\\bf r}_i-{\\bf r}_j|} + \n",
    "    \\frac{1}{2}\\sum^{N_n}_{\\substack{I,J = 1\\\\I<J}}\\frac{Z_I Z_J}{|{\\bf R}_I-{\\bf R}_J|}\n",
    "\\end{eqnarray}\n",
    "where $M_{I/e} = M_I/m_e$."
   ]
  },
  {
   "cell_type": "markdown",
   "metadata": {
    "id": "50CouAvoiT3L"
   },
   "source": [
    "# **Born-Oppenheimer approximation**"
   ]
  },
  {
   "cell_type": "markdown",
   "metadata": {
    "id": "nBDuZuQEs1K_"
   },
   "source": [
    "As the mass of a nucleus is around one thousand times heavier than the mass of one electron, one can simplify the Hamiltonian by considering the nuclei to be fixed charge points. We end up with a Hamiltonian that describes the motion of electrons in the ion's potential. This is the so-called Born-Oppenheimer approximation. In this approximation, we separate the Hamiltonian of the nuclei part from the electronic part:\n",
    "\\begin{eqnarray}\n",
    "H = H_n + H_e,\n",
    "\\end{eqnarray}\n",
    "with the nuclei Hamiltonian defined as:\n",
    "\\begin{eqnarray}\n",
    "   H_n = -\\sum^{N_n}_{I=1}\\frac{\\nabla^2_I}{2M_{I/e}}   + \n",
    "    \\frac{1}{2}\\sum^{N_n}_{\\substack{I,J = 1\\\\I<J}}\\frac{Z_I Z_J}{|{\\bf R}_I-{\\bf R}_J|},\n",
    "\\end{eqnarray}\n",
    "and the electronic Hamiltonian\n",
    "\\begin{eqnarray}\n",
    "    H_e = -\\sum^N_{i}\\frac{\\nabla^2_i}{2} -\\sum^N_{i=1}\\sum^M_{I=1}\\frac{Z_I}{|{\\bf r}_i-{\\bf R}_I|} + \\sum^N_{i=1}\\sum_{j\\neq i}\\frac{1}{|{\\bf r}_i-{\\bf r}_j|}, \n",
    "\\end{eqnarray}\n",
    "is the Hamiltonian of interest.\n",
    "It is composed by the kinetic energy term $T$ and the electron-electron interaction $V$,\n",
    "where $T$ and $V$ are defined as:\n",
    "\\begin{eqnarray}\n",
    "T = \\sum^{N_e}_{i= 1}T_i = -\\sum^{N_e}_{i= 1}\\left(\\frac{\\nabla^2_i}{2} +\\sum^{N_n}_{I=1}\\frac{Z_I}{|{\\bf r}_i-{\\bf R}_I|}\\right),  \\\\ V = \\sum^{N_e}_{i=1}\\sum_{j>i}V({\\bf r}_i, {\\bf r}_j) = \\sum^{N_e}_{i=1}\\sum_{j>i}\\frac{1}{|{\\bf r}_i-{\\bf r}_j|}.\n",
    "\\end{eqnarray}\n",
    "\n",
    "The total wavefunction is also seperated $\\Psi({\\bf R}, {\\bf r}) = \\Phi_n({\\bf R})\\psi_e({\\bf R}, {\\bf r})$. Thus, in the Born-Oppenheimer approximation, the electronic structure of the molecule is obtained by solving the Schrödinger equation\n",
    "\\begin{equation}\n",
    "H_e \\psi_e({\\bf R}, {\\bf r}) = E_e({\\bf R}) \\psi_e({\\bf R}, {\\bf r})\n",
    "\\end{equation}\n",
    "for a fixed nuclear configuration ${\\bf R}$. \n",
    "\n",
    "\n",
    "\n"
   ]
  },
  {
   "cell_type": "markdown",
   "metadata": {
    "id": "-7bqCDiZ9gj1"
   },
   "source": [
    "# **Many-electron wavefucntion and single-particle wave function**"
   ]
  },
  {
   "cell_type": "markdown",
   "metadata": {
    "id": "8WD_XYxG-t6Q"
   },
   "source": [
    "In the absence of electron-electron interaction, the electronic Hamiltonian $H_e$ is given by the sum of single-electron Hamiltonians. Thus, the $N_e$-electron wavefunction can be written as the product of the eigenfunctions $\\phi_j$ of the single-electron Hamiltonian. In this case, the many-electron wavefunction takes the form\n",
    "\\begin{equation}\n",
    "\\psi_e^\\prime ({\\bf x}) = \\prod_{j=1}^{N_e} \\phi_j({\\bf x}_j)= \\phi_1({\\bf x}_1)\\phi_2({\\bf x}_2) \\ldots \\phi_{N_e}({\\bf r}_{N_e}).\n",
    "\\end{equation}\n",
    "The basis states for the $N_e$-electron system can be built from the complete orthonormal single-particle basis $\\{ \\phi_j({\\bf x}_j)\\}$,\n",
    "\\begin{equation}\n",
    "\\sum_j\\phi^*_j({\\bf x}_j^{\\prime})\\phi_j({\\bf x}_j) = \\delta({\\bf x}_j- {\\bf x}^{\\prime}_j) ~ ~ ~ \\text{and}~ ~ ~ \\int d {\\bf x}~\\phi_i^*({\\bf x}_i)\\phi_j({\\bf x}_j) = \\delta_{i,j},\n",
    "\\end{equation}\n",
    "where ${\\bf x}_i = ({\\bf r}_i, \\sigma_i)$ describing both spatial position ${\\bf r}_i$ and spin $\\sigma_i = \\uparrow, \\downarrow $ of an electron.\n",
    "\n",
    "However, the wavefucntion $\\psi_e^\\prime ({\\bf x})$ it is not anti-symmetric, i.e., if we interchange any two of the electron coordinates ${\\bf x}_i$, the wavefunction does not change signal. For electrons, the wavefunction must be antisymetric, and we can write $\\psi_e^\\prime({\\bf x})$ in a antisymetrized way by acting the fermionic anti-symmetrization operator $A$ on $\\psi_e^\\prime ({\\bf x})$:\n",
    "\\begin{equation}\n",
    "A\\psi_e^\\prime ({\\bf x}) = \\frac{1}{\\sqrt{N_e!}}\n",
    "\\begin{vmatrix}\n",
    "\\phi_{1}({\\bf x}_1) & \\phi_{1}({\\bf x}_2) & \\cdots & \\phi_{1}({\\bf x}_{N_e}) \\\\ \n",
    "\\phi_{2}({\\bf x}_1) & \\phi_{2}({\\bf x}_2) & \\cdots & \\phi_{2}({\\bf x}_{N_e}) \\\\ \n",
    "\\cdots & \\cdots & \\cdots & \\cdots \\\\ \n",
    "\\phi_{N_e} ({\\bf x}_1) & \\phi_{N_e}({\\bf x}_2) & \\cdots & \\phi_{N_e}({\\bf x}_{N_e})\n",
    "\\end{vmatrix} = \\langle {\\bf x}|\\phi_{1}\\phi_{2}\\cdots\\phi_{N_e}\\rangle,\n",
    "\\end{equation}\n",
    "which is known as the **Slater determinant** .\n",
    "\n",
    "In the presence of electron-electron interaction, $\\psi_e^\\prime ({\\bf x})$ is no longer an eigenfunction of $H_e$. However, as $\\psi_e^\\prime ({\\bf x})$ forms a complete set, the $N_e$-electron wavefucntion can be expanded in terms of Slater determinants\n",
    "\\begin{equation}\n",
    "\\psi_e({\\bf x})= \\sum_{j} c_j \\psi_e^\\prime (j,{\\bf x}), \n",
    "\\end{equation}\n",
    "where $j = 1, \\ldots, N_o$ (number of orbitals) denotes the various states $\\phi_j$ that can exist in a determinant.  "
   ]
  },
  {
   "cell_type": "markdown",
   "metadata": {
    "id": "8wLUfYd1KzK3"
   },
   "source": [
    "# **Operators in first quantization**"
   ]
  },
  {
   "cell_type": "markdown",
   "metadata": {
    "id": "q9ZU88F3K-Xb"
   },
   "source": [
    "\n",
    "\n",
    "*   **One-electron operators**\n",
    "\n",
    "The one-electron operators defined on single-particle states described by the coordinate ${\\bf x}_j$ can be writen as:\n",
    "\\begin{equation}\n",
    "T = \\sum^{N_e}_{j=1}T_j = \\sum^{N_e}_{j=1}\\sum_{kl}T_{kl}|\\phi_k({\\bf x}_j)\\rangle\\langle\\phi_l({\\bf x}_j)| ~~ \\text{with} ~~ T_{kl} = \\int d{\\bf x}_j\\phi^*_l({\\bf x}_j)T({\\bf x}_j)\\phi_k({\\bf x}_j)\n",
    "\\end{equation}\n",
    "\n",
    "*   **Two-electron operators**\n",
    "\n",
    "The two-electron operators defined on single-particle states described by the coordinates ${\\bf x}_j$ and ${\\bf x}_i$ can be writen as:\n",
    "\\begin{equation}\n",
    "V = \\frac{1}{2}\\sum^{N_e}_{i,j\\neq i = 1}V_{ij} = \\frac{1}{2}\\sum^{N_e}_{i,j\\neq i = 1}\\sum_{klmn}V_{klmn}|\\phi_m({\\bf x}_i)\\rangle|\\phi_n({\\bf x}_j)\\rangle\\langle\\phi_k({\\bf x}_j)|\\langle\\phi_l({\\bf x}_i)|,\n",
    "\\end{equation}\n",
    "with,\n",
    "\\begin{equation}\n",
    "V_{klmn} = \\int d{\\bf x}_j\\phi^*_m({\\bf x}_i)\\phi^*_n({\\bf x}_j)V({\\bf x}_i-{\\bf x}_j)\\phi_k({\\bf x}_i)\\phi_l({\\bf x}_j)\n",
    "\\end{equation}\n"
   ]
  },
  {
   "cell_type": "markdown",
   "metadata": {
    "id": "Wq3Au7C4MKxd"
   },
   "source": [
    "# **Occupation number representation**"
   ]
  },
  {
   "cell_type": "markdown",
   "metadata": {
    "id": "-GzOzxyHMTzZ"
   },
   "source": [
    "We showed that total electron wavefunction can be written as a linear combination of Slater determinantes. Slater determinants are very cumbersome to work, even in the absence of interactions. However, to simplify the description of $\\psi_e$, we can use the **occupation number representation**. In the occupation number representation, we list the number of electrons, $n_{j}$, in each occupied state $\\phi_j$. \n",
    "\n",
    "In this representation, we write $\\psi^{\\prime}_e$ as  $|n\\rangle = |n_{N_o},n_{N_o-1},\\cdots, n_{1}\\rangle$. For electrons, $n_{j} $=$ 1$ if $\\phi_{j}$ is occupied and $n_{j} $=$ 0$ if $\\phi_{j}$ is empty. The vector $|n\\rangle$ is called the occupation number vector and the space of all such vectors is known as Fock space. The second quantization defines **creation** and **annihilation** operators to manipulate this occupation number vector. "
   ]
  },
  {
   "cell_type": "markdown",
   "metadata": {
    "id": "8oejDrK5qsCR"
   },
   "source": [
    "# **Creation and Annihilation operators**"
   ]
  },
  {
   "cell_type": "markdown",
   "metadata": {
    "id": "eOX_21hZqz96"
   },
   "source": [
    "In the second quantization description, creation $c^{\\dagger}_j$ and annihilation $c_j$ operators are defined to manipulate the state $|n\\rangle$. The operator $n_j = c^{\\dagger}_j c_j$ gives the number of electron at orbital $\\phi_j$. The creation and annihilation operators satisfy the anti-commutation relations:\n",
    "\\begin{equation}\n",
    "\\{c_i,c^{\\dagger}_j\\} = \\delta_{i,j}, ~~~~ \\{c_i,c_j\\} = 0,~~~~\\{c^{\\dagger}_i,c^{\\dagger}_j\\} = 0.\n",
    "\\end{equation}\n",
    "\n",
    "The action of $c^{\\dagger}_j$ is to create an electron at $\\phi_j$,  and $c_j$ annihilates an electron at $\\phi_j$. Their action on the state  $|n\\rangle$ is as follow:\n",
    "\\begin{equation}\n",
    "c_j|n_{N_o},n_{N_o-1},\\cdots,n_j, \\cdots n_1\\rangle = \\delta_{n_j,1}(-1)^{\\sum^{j-1}_{i=1}n_i}|n_{N_o},n_{N_o-1},\\cdots,0, \\cdots n_1\\rangle \\\\\n",
    "c^{\\dagger}_j|n_{N_o},n_{N_o-1},\\cdots,n_j, \\cdots n_1\\rangle = \\delta_{n_j,0}(-1)^{\\sum^{j-1}_{i=1}n_i}|n_{N_o},n_{N_o-1},\\cdots,1, \\cdots n_1\\rangle \\\\\n",
    "n_j |n_{N_o},n_{N_o-1},\\cdots,n_j, \\cdots n_1\\rangle = n_j|n_{N_o},n_{N_o-1},\\cdots,n_j, \\cdots n_1\\rangle\n",
    "\\end{equation} "
   ]
  },
  {
   "cell_type": "markdown",
   "metadata": {
    "id": "toRXVU8H5JLT"
   },
   "source": [
    "We identify the first and second quantized basis states as:\n",
    "\\begin{equation}\n",
    "A |\\phi_{{N_o}}({\\bf x}_{N_o})\\rangle |\\phi_{{N_o-1}}({\\bf x}_{N_o-1})\\rangle  \\ldots |\\phi_{1}({\\bf x}_1)\\rangle = c^{\\dagger}_{{N_o}} c^{\\dagger}_{{N_o-1}}  \\dots c^{\\dagger}_{1}|00\\ldots 0\\rangle\n",
    "\\end{equation}"
   ]
  },
  {
   "cell_type": "markdown",
   "metadata": {
    "id": "3fMMQl9-7tvn"
   },
   "source": [
    "# **Form of operators in second quantization**"
   ]
  },
  {
   "cell_type": "markdown",
   "metadata": {
    "id": "eFQm580P8Czy"
   },
   "source": [
    "In second quantization all operators can be expressed in terms of creation and annihilation operators.\n",
    "\n",
    "**One-body operators**\n",
    "\n",
    "Let us construct the representation of the one-body operator $T$, using:\n",
    " \\begin{equation}\n",
    "A |\\phi_{{N_o}}({\\bf x}_{N_o})\\rangle   \\ldots |\\phi_{1}({\\bf x}_1)\\rangle = c^{\\dagger}_{{N_o}}  \\dots  c^{\\dagger}_{1}|0\\rangle\n",
    "\\end{equation}\n",
    "\n",
    "\n",
    "\\begin{equation}\n",
    "T|\\phi_{{N_o}}({\\bf x}_{N_o})\\rangle \\ldots |\\phi_{1}({\\bf x}_1)\\rangle = \\sum^{N_o}_{j = 1}\\sum_{kl}T_{kl}\\delta_{lj}|\\phi_{{N_o}}({\\bf x}_{N_o})\\rangle \\ldots |\\phi_{k}({\\bf x}_j)\\rangle \\ldots \\phi_{1}({\\bf x}_1)\\rangle \\\\\n",
    "T|c^{\\dagger}_{{N_o}} \\dots  c^{\\dagger}_{1}|0\\rangle = \\sum_{kl}T_{kl}\\sum^{N_o}_{j=1} \\delta_{lj}c^{\\dagger}_{{N_o}} \\dots c^{\\dagger}_{k} \\dots c^{\\dagger}_{1}|0\\rangle\n",
    "\\end{equation}\n",
    "To make the kets on the two sides of the equation look alike, we will reinsert $c^{\\dagger}_j$ at position $j$. The $\\phi_j$ may appear, say, $p$ times leading to a contribution of $(c^{\\dagger}_{j})^p|0\\rangle$ on the left and $c^{\\dagger}_{k}(c^{\\dagger}_{j})^{p-1}|0\\rangle = c^{\\dagger}_{k}(\\frac{1}{p}c_jc^{\\dagger}_{j})(c^{\\dagger}_{j})^{p-1}|0\\rangle = (\\frac{1}{p}c^{\\dagger}_{k}c_j)(c^{\\dagger}_{j})^{p}|0\\rangle$ on the right. We find that:\n",
    "\\begin{equation}\n",
    "T(|c^{\\dagger}_{{N_o}} \\dots  c^{\\dagger}_{1}|0\\rangle) = \\sum_{kl}T_{kl}c^{\\dagger}_{k}c_l(c^{\\dagger}_{{N_o}} \\dots c^{\\dagger}_{1}|0\\rangle),\n",
    "\\end{equation}\n",
    "since $\\sum^{N_o}_{j=1} \\frac{1}{p}\\delta_{lj} = 1$. This result is valid for any basis states:\n",
    " \\begin{equation}\n",
    "T = \\sum_{kl}T_{kl}c^{\\dagger}_{k}c_l ~~ \\text{with} ~~ T_{kl} =-\\int d {\\bf x}~\\phi^*_{k}({\\bf x}) \\frac{\\nabla^2}{2}\\phi_{l}({\\bf x}) -\\int d {\\bf x}~\\phi^*_{k}({\\bf x})\\sum^M_{I=1}\\frac{1}{|{\\bf r}-{\\bf R}_I|}\\phi_{l}({\\bf x})\n",
    "\\end{equation}\n",
    "Remember that $\\phi_{j}({\\bf x}) = \\varphi_{j}({\\bf r})~\\chi_\\sigma$, where $\\sigma = \\uparrow, \\downarrow$ defines the spin-orbital states."
   ]
  },
  {
   "cell_type": "markdown",
   "metadata": {
    "id": "dfw221wVigz5"
   },
   "source": [
    "**Two-body operators** "
   ]
  },
  {
   "cell_type": "markdown",
   "metadata": {
    "id": "HjEHgjEMFBxf"
   },
   "source": [
    "Following the similar procedure as in one-body term, the two-body term can be written as:\n",
    "\\begin{equation}\n",
    "V = \\sum_{ijkl} V_{ijkl} c^{\\dagger}_{i}c^{\\dagger}_{j}c_{k}c_{l} \\end{equation} \n",
    "with\n",
    "\\begin{equation}  V_{ijkl} = \\int d {\\bf x_1}d {\\bf x_2}~\\phi^*_{i}({\\bf x_1}) \\phi^*_{j}({\\bf x_2}) \\frac{1}{|{\\bf x_1}-{\\bf x_2}|}\\phi_{k}({\\bf x_2}) \\phi_{l}({\\bf x_1})  \n",
    "\\end{equation}"
   ]
  },
  {
   "cell_type": "markdown",
   "metadata": {
    "id": "DMNU4xHZGQ5P"
   },
   "source": [
    "================================================================================\n",
    "# **QUANTUM CHEMISTRY CODING SESSION**\n",
    "================================================================================"
   ]
  },
  {
   "cell_type": "markdown",
   "metadata": {
    "id": "SW4d6H9YvlGI"
   },
   "source": [
    "The true orbital basis $\\phi_j({\\bf r})$ can be obtained by numerically solving the Schrödinger equation using grid-based methods which is very expensive. Indeed, it is not applicable for many molecules. To solve this problem, we simulate orbital basis $\\phi_j({\\bf r})$ using a discret set of functions.\n",
    "\n",
    "The most simple discret set of functions are the **Slater Type Orbital$\\text{-n}$ Gaussian** (`STO-nG`):\n",
    "\n",
    "\\begin{equation}\n",
    "\\phi_j({\\bf r}) \\rightarrow R^{\\text{STO-nG}}_{nl}(r) = A \\alpha^{l/2}_{nl} r^l e^{-\\alpha_{nl}~ r^2},\n",
    "\\end{equation}\n",
    "where $\\alpha_{nl}$ is a fitting parameter, $n$ and $l$ are quantum numbers, and $A$ a normalization constant."
   ]
  },
  {
   "cell_type": "markdown",
   "metadata": {
    "id": "NKC0fj5x2De-"
   },
   "source": [
    "We will use the `Pyscf` package to estimate the one- and the two-body integrals."
   ]
  },
  {
   "cell_type": "markdown",
   "metadata": {
    "id": "lNA8HqdFY-yT"
   },
   "source": [
    "# **Installing Pyscf**"
   ]
  },
  {
   "cell_type": "markdown",
   "metadata": {
    "id": "d2UqAO1X1GEF"
   },
   "source": [
    "https://sunqm.github.io/pyscf/install.html"
   ]
  },
  {
   "cell_type": "code",
   "execution_count": null,
   "metadata": {
    "colab": {
     "base_uri": "https://localhost:8080/"
    },
    "id": "nwgea1dh1U3M",
    "outputId": "8c2e3761-79c2-4374-a480-30008c5d1fbc"
   },
   "outputs": [
    {
     "name": "stdout",
     "output_type": "stream",
     "text": [
      "Requirement already satisfied: pyscf in /usr/local/lib/python3.6/dist-packages (1.7.5.1)\n",
      "Requirement already satisfied: numpy!=1.16,!=1.17,>1.8 in /usr/local/lib/python3.6/dist-packages (from pyscf) (1.19.5)\n",
      "Requirement already satisfied: scipy<1.5 in /usr/local/lib/python3.6/dist-packages (from pyscf) (1.4.1)\n",
      "Requirement already satisfied: h5py>2.2 in /usr/local/lib/python3.6/dist-packages (from pyscf) (2.10.0)\n",
      "Requirement already satisfied: six in /usr/local/lib/python3.6/dist-packages (from h5py>2.2->pyscf) (1.15.0)\n"
     ]
    }
   ],
   "source": [
    "pip install pyscf"
   ]
  },
  {
   "cell_type": "markdown",
   "metadata": {
    "id": "io0NEqoy1aqe"
   },
   "source": [
    "# **Importing Pyscf modules**"
   ]
  },
  {
   "cell_type": "code",
   "execution_count": 1,
   "metadata": {
    "id": "3XBpoH5B19t2"
   },
   "outputs": [],
   "source": [
    "from pyscf import gto\n",
    "import numpy as np\n",
    "import matplotlib.pyplot as plt"
   ]
  },
  {
   "cell_type": "markdown",
   "metadata": {
    "id": "JjaERnqMrqyS"
   },
   "source": [
    "Let us define a function which sets to zero all values that are equal or less than $10^{-9}$. This makes our arrays more readable."
   ]
  },
  {
   "cell_type": "code",
   "execution_count": 2,
   "metadata": {
    "id": "JNdHXLHNrpTg"
   },
   "outputs": [],
   "source": [
    "def cut_zeros(a):\n",
    "    a[np.abs(a) < 1e-9] = 0\n",
    "    return a"
   ]
  },
  {
   "cell_type": "markdown",
   "metadata": {
    "id": "PkSlXjTx3A7q"
   },
   "source": [
    "# **Defining the molecule using `GTO`**"
   ]
  },
  {
   "cell_type": "markdown",
   "metadata": {
    "id": "lvnBw7jeNiwO"
   },
   "source": [
    "Let us consider the hydrogen molecule H$_2$. Each hydrogen has one electron. We will consider that the electron is in the lowest energy state `1s`.\n",
    "\n",
    "\n",
    "\n",
    "\n"
   ]
  },
  {
   "cell_type": "markdown",
   "metadata": {
    "id": "o8fa2gxKPUH8"
   },
   "source": [
    "*   **Defining the molecule geometry**\n",
    "\n",
    "We put the two hydrogen atoms in the $z$-axis separated by the distance $d$."
   ]
  },
  {
   "cell_type": "code",
   "execution_count": 3,
   "metadata": {
    "id": "mFbJilDOQBw5"
   },
   "outputs": [],
   "source": [
    "d = 0.735  # the distance between the two hydrogen atoms.\n",
    "geometry = [['H',(0,0,-d/2)],['H',(0,0,d/2)]]"
   ]
  },
  {
   "cell_type": "markdown",
   "metadata": {
    "id": "qDzKdVnqZxQp"
   },
   "source": [
    "\n",
    "\n",
    "*   **Choosing the discret basis**\n",
    "\n",
    "\n"
   ]
  },
  {
   "cell_type": "markdown",
   "metadata": {
    "id": "6qcfEcJKQLa4"
   },
   "source": [
    "We choose the type of discret functions to approximate the atomic orbital."
   ]
  },
  {
   "cell_type": "code",
   "execution_count": 4,
   "metadata": {
    "id": "fDQK95-tQbWS"
   },
   "outputs": [],
   "source": [
    "# basis \n",
    "sto_3g = \"sto_3g\" "
   ]
  },
  {
   "cell_type": "markdown",
   "metadata": {
    "id": "Fs7W1kvKaAtS"
   },
   "source": [
    "\n",
    "\n",
    "*   **Building the molecule**\n",
    "\n",
    "\n"
   ]
  },
  {
   "cell_type": "markdown",
   "metadata": {
    "id": "sYeOxDpXQtra"
   },
   "source": [
    "We construct the molecule using the Gaussian type orbital and built it."
   ]
  },
  {
   "cell_type": "code",
   "execution_count": 6,
   "metadata": {
    "id": "dF0aXf74R8Rs"
   },
   "outputs": [
    {
     "output_type": "execute_result",
     "data": {
      "text/plain": [
       "<pyscf.gto.mole.Mole at 0x7fec3712bbe0>"
      ]
     },
     "metadata": {},
     "execution_count": 6
    }
   ],
   "source": [
    "mol = gto.Mole()\n",
    "mol.atom = geometry\n",
    "mol.basis = sto_3g\n",
    "mol.build()"
   ]
  },
  {
   "cell_type": "markdown",
   "metadata": {
    "id": "BsohY-SVSkfh"
   },
   "source": [
    "The atomic orbitals included in the calculation can be shown using the function `ao_labels()`. How many atomic orbitals are included depend on the type of basis. In the case of `sto-3g` basis, we include the `1s` for each hydrogen atom."
   ]
  },
  {
   "cell_type": "code",
   "execution_count": 7,
   "metadata": {
    "colab": {
     "base_uri": "https://localhost:8080/"
    },
    "id": "dd_N5ZUL4aL3",
    "outputId": "72380efa-df7e-4581-f91b-afc7e9ecf1b9"
   },
   "outputs": [
    {
     "output_type": "execute_result",
     "data": {
      "text/plain": [
       "['0 H 1s    ', '1 H 1s    ']"
      ]
     },
     "metadata": {},
     "execution_count": 7
    }
   ],
   "source": [
    "mol.ao_labels()"
   ]
  },
  {
   "cell_type": "markdown",
   "metadata": {
    "id": "l7O171VuUE1L"
   },
   "source": [
    " **Overlap matrix S**"
   ]
  },
  {
   "cell_type": "markdown",
   "metadata": {
    "id": "gUMH1GfZ49GH"
   },
   "source": [
    "The `mol` object defined above allow us to compute different type of integrals. **These integrals are perfomed using the atomic orbitals**. We start by the overlap matrix $S$ between the `1s` orbitals  whose matrix elements are given by:\n",
    "\\begin{align}\n",
    "    s_{ij} = \\int \\rm{d}{\\pmb{r}}\\, \\phi_i^\\ast(\\pmb{r}) \\phi_j(\\pmb{r})\n",
    "\\end{align}"
   ]
  },
  {
   "cell_type": "markdown",
   "metadata": {
    "id": "BlZf4PfL7Apx"
   },
   "source": [
    "In Pyscf, we obtain the overlap matrix $S$ using:"
   ]
  },
  {
   "cell_type": "code",
   "execution_count": 8,
   "metadata": {
    "colab": {
     "base_uri": "https://localhost:8080/"
    },
    "id": "326OiTW77N1J",
    "outputId": "3c3846b6-0df7-487f-f154-2922f7037da0"
   },
   "outputs": [
    {
     "output_type": "stream",
     "name": "stdout",
     "text": [
      "[[1.         0.66314574]\n [0.66314574 1.        ]]\n"
     ]
    }
   ],
   "source": [
    "S = mol.intor(\"int1e_ovlp\")\n",
    "print(S)"
   ]
  },
  {
   "cell_type": "markdown",
   "metadata": {
    "id": "bIydlXg-fmUI"
   },
   "source": [
    "**Constructing an orthonormal basis**"
   ]
  },
  {
   "cell_type": "markdown",
   "metadata": {
    "id": "z09BuD8p9D0F"
   },
   "source": [
    "We see that the two `1s` orbitals from the H atoms are overlaping since $S$ is not diagonal. We want a matrix which transforms the atomic orbital states to orthonormal states. To obtain this matrix, first, let's diagonalize the overlap matrix.\n"
   ]
  },
  {
   "cell_type": "code",
   "execution_count": 9,
   "metadata": {
    "colab": {
     "base_uri": "https://localhost:8080/"
    },
    "id": "Rq7b1SVrANvs",
    "outputId": "4d483006-15f2-4deb-8308-0d32a7123df6"
   },
   "outputs": [
    {
     "output_type": "stream",
     "name": "stdout",
     "text": [
      "[[-0.70710678  0.70710678]\n [ 0.70710678  0.70710678]]\n"
     ]
    }
   ],
   "source": [
    "eig_value_S, eig_vector_S = np.linalg.eigh(S)\n",
    "order = np.argsort(eig_value_S)\n",
    "eig_vector_S = eig_vector_S[:, order]\n",
    "print(eig_vector_S)"
   ]
  },
  {
   "cell_type": "markdown",
   "metadata": {
    "id": "MSFjhbOoDrOw"
   },
   "source": [
    "The unitary matrix `eig_vector_S` does not diagonalize $S$ such that the eigenvalues equal to one."
   ]
  },
  {
   "cell_type": "code",
   "execution_count": 10,
   "metadata": {
    "colab": {
     "base_uri": "https://localhost:8080/"
    },
    "id": "d0nDpehWJPd3",
    "outputId": "025ed166-5de5-4b80-ba6e-86ec1c95b089"
   },
   "outputs": [
    {
     "output_type": "stream",
     "name": "stdout",
     "text": [
      "[0.33685426 1.66314574]\n"
     ]
    }
   ],
   "source": [
    "print(eig_value_S)"
   ]
  },
  {
   "cell_type": "markdown",
   "metadata": {
    "id": "DzIh5cllhEV8"
   },
   "source": [
    "We will create a rotation matrix that transforms the $S$ matrix into an identity matrix. This is done as follow, we divide `eig_vector_S` eigenvectors by the square root of their eigenvalues."
   ]
  },
  {
   "cell_type": "code",
   "execution_count": 11,
   "metadata": {
    "colab": {
     "base_uri": "https://localhost:8080/"
    },
    "id": "6bOd7qjuMoTS",
    "outputId": "7108654a-6bdb-4337-cbf8-e23bf870db2e"
   },
   "outputs": [
    {
     "output_type": "stream",
     "name": "stdout",
     "text": [
      "[[-1.21832731  0.54830202]\n [ 1.21832731  0.54830202]]\n"
     ]
    }
   ],
   "source": [
    "ao2oo = eig_vector_S/np.sqrt(eig_value_S[None,:])\n",
    "print(ao2oo)"
   ]
  },
  {
   "cell_type": "markdown",
   "metadata": {
    "id": "KDAou88rRxEh"
   },
   "source": [
    "To verify that the `ao2oo` matrix transforms $S$ to identity matrix, we calculate:"
   ]
  },
  {
   "cell_type": "code",
   "execution_count": 12,
   "metadata": {
    "colab": {
     "base_uri": "https://localhost:8080/"
    },
    "id": "qpDHGM33aklx",
    "outputId": "a64a9743-a64a-42d0-aded-87c3aa487e76"
   },
   "outputs": [
    {
     "output_type": "stream",
     "name": "stdout",
     "text": [
      "[[1. 0.]\n [0. 1.]]\n"
     ]
    }
   ],
   "source": [
    "print(cut_zeros((ao2oo.T @ S @ ao2oo)))\n"
   ]
  },
  {
   "cell_type": "markdown",
   "metadata": {
    "id": "57BEHH_dLIzR"
   },
   "source": [
    "The matrix `ao2oo`  transforms the atomic orbitals `ao` basis to an orthonormal `oo` basis. It will be used to write the one-body and two-body terms in the orthonomal basis."
   ]
  },
  {
   "cell_type": "markdown",
   "metadata": {
    "id": "JmTLl4j_BI-K"
   },
   "source": [
    "# **One-body integrals**\n",
    "\n"
   ]
  },
  {
   "cell_type": "markdown",
   "metadata": {
    "id": "gSOa34f4BmwV"
   },
   "source": [
    "The one-body iterm is composed of two integrals:\n",
    "\\begin{equation} \n",
    "T_{kl} =-\\int d {\\bf x}~\\phi^*_{k}({\\bf x}) \\frac{\\nabla^2}{2}\\phi_{l}({\\bf x}) -\\int d {\\bf x}~\\phi^*_{k}({\\bf x})\\sum^M_{I=1}\\frac{1}{|{\\bf r}-{\\bf R}_I|}\\phi_{l}({\\bf x})\n",
    "\\end{equation}"
   ]
  },
  {
   "cell_type": "markdown",
   "metadata": {
    "id": "Apqu9IrP760w"
   },
   "source": [
    "$T$  **in the atomic orbitals basis**."
   ]
  },
  {
   "cell_type": "markdown",
   "metadata": {
    "id": "30NHkpt63eQV"
   },
   "source": [
    "In pyscf, we use the function `intor` to calculate these integrals in the atomic orbital basis first. "
   ]
  },
  {
   "cell_type": "code",
   "execution_count": 13,
   "metadata": {
    "colab": {
     "base_uri": "https://localhost:8080/"
    },
    "id": "gKjV6PpP4NFx",
    "outputId": "b2743833-b496-4208-c9fd-5d108c3375fe"
   },
   "outputs": [
    {
     "output_type": "stream",
     "name": "stdout",
     "text": [
      "[[-1.12421758 -0.9652574 ]\n [-0.9652574  -1.12421758]]\n"
     ]
    }
   ],
   "source": [
    "T_ao = mol.intor(\"int1e_kin\") + mol.intor(\"int1e_nuc\")\n",
    "print(T_ao)"
   ]
  },
  {
   "cell_type": "markdown",
   "metadata": {
    "id": "W_fEnXXm4ZVt"
   },
   "source": [
    "In the `ao`, the one-body term is not diagonal. This will force us to consider terms as $T_{12}c^{\\dagger}_1c_2$ in addition to  $T_{11}c^{\\dagger}_1c_1 ~ \\text{and} ~ T_{22}c^{\\dagger}_2c_2$."
   ]
  },
  {
   "cell_type": "markdown",
   "metadata": {
    "id": "Cc44mAz68K19"
   },
   "source": [
    "$T$ **in the orthonormal basis**."
   ]
  },
  {
   "cell_type": "markdown",
   "metadata": {
    "id": "lUojqufi6p6c"
   },
   "source": [
    "To eliminate the terms as $T_{12}c^{\\dagger}_1c_2$,  we apply the rotation matrix `ao2oo` to `T_ao`, which write it in the orthonormal basis."
   ]
  },
  {
   "cell_type": "code",
   "execution_count": 20,
   "metadata": {
    "colab": {
     "base_uri": "https://localhost:8080/"
    },
    "id": "Dn0Wn66xDN0S",
    "outputId": "3315365c-bc45-427a-f7dc-eb70e42cdeaa"
   },
   "outputs": [
    {
     "output_type": "stream",
     "name": "stdout",
     "text": [
      "[[-4.71896007e-01  0.00000000e+00]\n [ 3.33066907e-16 -1.25633907e+00]]\n[[-0.47189601  0.        ]\n [ 0.         -1.25633907]]\n"
     ]
    }
   ],
   "source": [
    "T_oo = np.einsum('mi,nj,mn->ij', ao2oo,ao2oo,T_ao)\n",
    "print(T_oo)\n",
    "print(cut_zeros(T_oo))"
   ]
  },
  {
   "cell_type": "markdown",
   "metadata": {
    "id": "h3nFiryO8Yuc"
   },
   "source": [
    "Now the terms $T_{12} = T_{21} = 0$ in the orthonormal basis."
   ]
  },
  {
   "cell_type": "markdown",
   "metadata": {
    "id": "u_VpshK2tvOP"
   },
   "source": [
    "# **Two-body integral**"
   ]
  },
  {
   "cell_type": "markdown",
   "metadata": {
    "id": "NcQqsUXJEA7X"
   },
   "source": [
    "\n",
    "The two-body integral is given by:\n",
    "\\begin{equation}  V_{ijkl} = \\int d {\\bf x_1}d {\\bf x_2}~\\phi^*_{i}({\\bf x_1}) \\phi^*_{j}({\\bf x_2}) \\frac{1}{|{\\bf x_1}-{\\bf x_2}|}\\phi_{k}({\\bf x_2}) \\phi_{l}({\\bf x_1})  \n",
    "\\end{equation}"
   ]
  },
  {
   "cell_type": "markdown",
   "metadata": {
    "id": "lMYxz57b9OMX"
   },
   "source": [
    "$V$ **in atomic orbitals basis**."
   ]
  },
  {
   "cell_type": "code",
   "execution_count": 21,
   "metadata": {
    "colab": {
     "base_uri": "https://localhost:8080/"
    },
    "id": "JaqC0hmH9jML",
    "outputId": "70d90007-016e-48f1-cb84-65e17ac91b6a"
   },
   "outputs": [
    {
     "output_type": "stream",
     "name": "stdout",
     "text": [
      "[[[[0.77460594 0.44744572]\n   [0.44744572 0.57187698]]\n\n  [[0.44744572 0.3009177 ]\n   [0.3009177  0.44744572]]]\n\n\n [[[0.44744572 0.3009177 ]\n   [0.3009177  0.44744572]]\n\n  [[0.57187698 0.44744572]\n   [0.44744572 0.77460594]]]]\n"
     ]
    }
   ],
   "source": [
    "V_ao = mol.intor(\"int2e\")\n",
    "print(V_ao)"
   ]
  },
  {
   "cell_type": "markdown",
   "metadata": {
    "id": "v8hWTZ5C9sxs"
   },
   "source": [
    "Many terms $V_{ijkl}$ need to be included. We write  $V$ into the orthonormal basis."
   ]
  },
  {
   "cell_type": "markdown",
   "metadata": {
    "id": "_GopgUZE-KXC"
   },
   "source": [
    "$V$ **in orthonormal basis**"
   ]
  },
  {
   "cell_type": "code",
   "execution_count": 22,
   "metadata": {
    "colab": {
     "base_uri": "https://localhost:8080/"
    },
    "id": "0iueIw05Efhk",
    "outputId": "90535d90-d5d6-4e05-9b1d-223b42bc5017"
   },
   "outputs": [
    {
     "output_type": "stream",
     "name": "stdout",
     "text": [
      "[[[[0.69857372 0.        ]\n   [0.         0.66458173]]\n\n  [[0.         0.1809312 ]\n   [0.1809312  0.        ]]]\n\n\n [[[0.         0.1809312 ]\n   [0.1809312  0.        ]]\n\n  [[0.66458173 0.        ]\n   [0.         0.67571015]]]]\n(2, 2, 2, 2)\n"
     ]
    }
   ],
   "source": [
    "V_oo = np.einsum('mi,nj,ok,pl,mnop->ijkl',ao2oo,ao2oo,ao2oo,ao2oo, V_ao)\n",
    "print(cut_zeros(V_oo))\n",
    "print(V_oo.shape)"
   ]
  },
  {
   "cell_type": "markdown",
   "metadata": {
    "id": "YBj19S2J3-4K"
   },
   "source": [
    "# **Adding the spin component**"
   ]
  },
  {
   "cell_type": "markdown",
   "metadata": {
    "id": "5du-NtbB4XV9"
   },
   "source": [
    "To add the spin component, we just need to make two copies for spin $\\uparrow$ and $\\downarrow$."
   ]
  },
  {
   "cell_type": "markdown",
   "metadata": {
    "id": "Zqlzstb84uWD"
   },
   "source": [
    "\n",
    "*    For the **one-body term**, this is a tensor product of identity matrix with `T_oo`. This leads to a four states basis.\n"
   ]
  },
  {
   "cell_type": "code",
   "execution_count": 23,
   "metadata": {
    "colab": {
     "base_uri": "https://localhost:8080/"
    },
    "id": "GDw5dM8H4pYY",
    "outputId": "a5b80943-2e25-43b7-bb39-c666346d458d"
   },
   "outputs": [
    {
     "output_type": "stream",
     "name": "stdout",
     "text": [
      "[[-0.47189601  0.          0.          0.        ]\n [ 0.         -1.25633907  0.          0.        ]\n [ 0.          0.         -0.47189601  0.        ]\n [ 0.          0.          0.         -1.25633907]]\n"
     ]
    }
   ],
   "source": [
    "T_spin = np.eye(2)\n",
    "T_spin_oo = cut_zeros(np.kron(T_spin,T_oo))\n",
    "print(T_spin_oo)"
   ]
  },
  {
   "cell_type": "markdown",
   "metadata": {
    "id": "LFyqcPM65aJz"
   },
   "source": [
    "\n",
    "\n",
    "*   Like the one body term, we need to get the two body term in the four states basis.\n",
    "\n"
   ]
  },
  {
   "cell_type": "code",
   "execution_count": 24,
   "metadata": {
    "id": "YHK6Wrao61zK"
   },
   "outputs": [
    {
     "output_type": "stream",
     "name": "stdout",
     "text": [
      "[[[[0.69857372 0.         0.         0.        ]\n   [0.         0.66458173 0.         0.        ]\n   [0.         0.         0.69857372 0.        ]\n   [0.         0.         0.         0.66458173]]\n\n  [[0.         0.1809312  0.         0.        ]\n   [0.1809312  0.         0.         0.        ]\n   [0.         0.         0.         0.1809312 ]\n   [0.         0.         0.1809312  0.        ]]\n\n  [[0.         0.         0.         0.        ]\n   [0.         0.         0.         0.        ]\n   [0.         0.         0.         0.        ]\n   [0.         0.         0.         0.        ]]\n\n  [[0.         0.         0.         0.        ]\n   [0.         0.         0.         0.        ]\n   [0.         0.         0.         0.        ]\n   [0.         0.         0.         0.        ]]]\n\n\n [[[0.         0.1809312  0.         0.        ]\n   [0.1809312  0.         0.         0.        ]\n   [0.         0.         0.         0.1809312 ]\n   [0.         0.         0.1809312  0.        ]]\n\n  [[0.66458173 0.         0.         0.        ]\n   [0.         0.67571015 0.         0.        ]\n   [0.         0.         0.66458173 0.        ]\n   [0.         0.         0.         0.67571015]]\n\n  [[0.         0.         0.         0.        ]\n   [0.         0.         0.         0.        ]\n   [0.         0.         0.         0.        ]\n   [0.         0.         0.         0.        ]]\n\n  [[0.         0.         0.         0.        ]\n   [0.         0.         0.         0.        ]\n   [0.         0.         0.         0.        ]\n   [0.         0.         0.         0.        ]]]\n\n\n [[[0.         0.         0.         0.        ]\n   [0.         0.         0.         0.        ]\n   [0.         0.         0.         0.        ]\n   [0.         0.         0.         0.        ]]\n\n  [[0.         0.         0.         0.        ]\n   [0.         0.         0.         0.        ]\n   [0.         0.         0.         0.        ]\n   [0.         0.         0.         0.        ]]\n\n  [[0.69857372 0.         0.         0.        ]\n   [0.         0.66458173 0.         0.        ]\n   [0.         0.         0.69857372 0.        ]\n   [0.         0.         0.         0.66458173]]\n\n  [[0.         0.1809312  0.         0.        ]\n   [0.1809312  0.         0.         0.        ]\n   [0.         0.         0.         0.1809312 ]\n   [0.         0.         0.1809312  0.        ]]]\n\n\n [[[0.         0.         0.         0.        ]\n   [0.         0.         0.         0.        ]\n   [0.         0.         0.         0.        ]\n   [0.         0.         0.         0.        ]]\n\n  [[0.         0.         0.         0.        ]\n   [0.         0.         0.         0.        ]\n   [0.         0.         0.         0.        ]\n   [0.         0.         0.         0.        ]]\n\n  [[0.         0.1809312  0.         0.        ]\n   [0.1809312  0.         0.         0.        ]\n   [0.         0.         0.         0.1809312 ]\n   [0.         0.         0.1809312  0.        ]]\n\n  [[0.66458173 0.         0.         0.        ]\n   [0.         0.67571015 0.         0.        ]\n   [0.         0.         0.66458173 0.        ]\n   [0.         0.         0.         0.67571015]]]]\n"
     ]
    }
   ],
   "source": [
    "V_spin = np.kron(np.eye(2)[:,:,None,None],np.eye(2)[None,None,:,:])\n",
    "V_spin_oo = np.kron(V_spin,V_oo)\n",
    "print(V_spin_oo)"
   ]
  },
  {
   "cell_type": "markdown",
   "metadata": {
    "id": "wuBxYb7oFfed"
   },
   "source": [
    "# **For molecules with more than 2 orbitals.**"
   ]
  },
  {
   "cell_type": "markdown",
   "metadata": {
    "id": "fyXG0jy_Fxn0"
   },
   "source": [
    "For molecules with more than two atomic orbitals, the transformation from `ao` to `oo` basis does not diagonalize the one-body term $T_{oo}$. To construct a basis where $T_{oo}$ is diagonal, we find the transformation from the `oo` basis to a molecular `mo` basis."
   ]
  },
  {
   "cell_type": "code",
   "execution_count": 25,
   "metadata": {
    "id": "nVPg2Em2FFbf"
   },
   "outputs": [],
   "source": [
    "eig_value_T_oo, eig_vector_T_oo = np.linalg.eigh(T_oo)\n",
    "order = np.argsort(eig_value_T_oo)\n",
    "oo2mo = eig_vector_T_oo[:, order]\n",
    "ao2mo = ao2oo @ oo2mo"
   ]
  },
  {
   "cell_type": "markdown",
   "metadata": {
    "id": "42Ev-4bjK_zJ"
   },
   "source": [
    "Transform $T$ to `mo`:"
   ]
  },
  {
   "cell_type": "code",
   "execution_count": 26,
   "metadata": {
    "colab": {
     "base_uri": "https://localhost:8080/"
    },
    "id": "KlMHWfLnLNDZ",
    "outputId": "7f46b626-6b1c-4f8f-bfec-76945b0de89a"
   },
   "outputs": [
    {
     "output_type": "stream",
     "name": "stdout",
     "text": [
      "[[-1.25633907  0.        ]\n [ 0.         -0.47189601]]\n"
     ]
    }
   ],
   "source": [
    "T_mo = np.einsum('mi,nj,mn->ij', ao2mo,ao2mo,T_ao)\n",
    "print(cut_zeros(T_mo))"
   ]
  },
  {
   "cell_type": "markdown",
   "metadata": {
    "id": "PRRdazzpNgK9"
   },
   "source": [
    "Transform $V$ to `mo`:\n"
   ]
  },
  {
   "cell_type": "code",
   "execution_count": 27,
   "metadata": {
    "colab": {
     "base_uri": "https://localhost:8080/"
    },
    "id": "H-Q3CDmRNnyp",
    "outputId": "e34b14a8-6108-4b4c-b17a-a0b7e17241d4"
   },
   "outputs": [
    {
     "output_type": "stream",
     "name": "stdout",
     "text": [
      "[[[[0.67571015 0.        ]\n   [0.         0.66458173]]\n\n  [[0.         0.1809312 ]\n   [0.1809312  0.        ]]]\n\n\n [[[0.         0.1809312 ]\n   [0.1809312  0.        ]]\n\n  [[0.66458173 0.        ]\n   [0.         0.69857372]]]]\n"
     ]
    }
   ],
   "source": [
    "V_mo = np.einsum('mi,nj,ok,pl,mnop->ijkl',ao2mo,ao2mo,ao2mo,ao2mo, V_ao)\n",
    "print(cut_zeros(V_mo))"
   ]
  },
  {
   "cell_type": "markdown",
   "metadata": {
    "id": "05eRqhLdT-z4"
   },
   "source": [
    "# **Visualizing the states in different basis**."
   ]
  },
  {
   "cell_type": "markdown",
   "metadata": {
    "id": "3itjwOTaX_bJ"
   },
   "source": [
    "We now show how to visualize the wavefunctions in one dimension in different basis:\n"
   ]
  },
  {
   "cell_type": "markdown",
   "metadata": {
    "id": "32XtU_tMa_Hm"
   },
   "source": [
    "# **Using AO basis**"
   ]
  },
  {
   "cell_type": "code",
   "execution_count": 28,
   "metadata": {
    "id": "kacuwN2tYSZ_"
   },
   "outputs": [],
   "source": [
    "coords = np.zeros((1000,3))\n",
    "coords[:,2] = np.linspace(-4,4,1000)\n",
    "ao_wf = mol.eval_gto('GTOval_cart',coords)"
   ]
  },
  {
   "cell_type": "code",
   "execution_count": 29,
   "metadata": {
    "colab": {
     "base_uri": "https://localhost:8080/",
     "height": 283
    },
    "id": "u4zsMSoOY-44",
    "outputId": "ee3b3222-611f-491c-b913-e735834a9920"
   },
   "outputs": [
    {
     "output_type": "display_data",
     "data": {
      "text/plain": "<Figure size 432x288 with 1 Axes>",
      "image/svg+xml": "<?xml version=\"1.0\" encoding=\"utf-8\" standalone=\"no\"?>\n<!DOCTYPE svg PUBLIC \"-//W3C//DTD SVG 1.1//EN\"\n  \"http://www.w3.org/Graphics/SVG/1.1/DTD/svg11.dtd\">\n<!-- Created with matplotlib (https://matplotlib.org/) -->\n<svg height=\"262.19625pt\" version=\"1.1\" viewBox=\"0 0 385.78125 262.19625\" width=\"385.78125pt\" xmlns=\"http://www.w3.org/2000/svg\" xmlns:xlink=\"http://www.w3.org/1999/xlink\">\n <metadata>\n  <rdf:RDF xmlns:cc=\"http://creativecommons.org/ns#\" xmlns:dc=\"http://purl.org/dc/elements/1.1/\" xmlns:rdf=\"http://www.w3.org/1999/02/22-rdf-syntax-ns#\">\n   <cc:Work>\n    <dc:type rdf:resource=\"http://purl.org/dc/dcmitype/StillImage\"/>\n    <dc:date>1970-01-03T09:42:25.317463</dc:date>\n    <dc:format>image/svg+xml</dc:format>\n    <dc:creator>\n     <cc:Agent>\n      <dc:title>Matplotlib v3.3.2, https://matplotlib.org/</dc:title>\n     </cc:Agent>\n    </dc:creator>\n   </cc:Work>\n  </rdf:RDF>\n </metadata>\n <defs>\n  <style type=\"text/css\">*{stroke-linecap:butt;stroke-linejoin:round;}</style>\n </defs>\n <g id=\"figure_1\">\n  <g id=\"patch_1\">\n   <path d=\"M 0 262.19625 \nL 385.78125 262.19625 \nL 385.78125 0 \nL 0 0 \nz\n\" style=\"fill:none;\"/>\n  </g>\n  <g id=\"axes_1\">\n   <g id=\"patch_2\">\n    <path d=\"M 43.78125 224.64 \nL 378.58125 224.64 \nL 378.58125 7.2 \nL 43.78125 7.2 \nz\n\" style=\"fill:#ffffff;\"/>\n   </g>\n   <g id=\"matplotlib.axis_1\">\n    <g id=\"xtick_1\">\n     <g id=\"line2d_1\">\n      <defs>\n       <path d=\"M 0 0 \nL 0 3.5 \n\" id=\"m6cb8007cb9\" style=\"stroke:#000000;stroke-width:0.8;\"/>\n      </defs>\n      <g>\n       <use style=\"stroke:#000000;stroke-width:0.8;\" x=\"58.999432\" xlink:href=\"#m6cb8007cb9\" y=\"224.64\"/>\n      </g>\n     </g>\n     <g id=\"text_1\">\n      <!-- −4 -->\n      <g transform=\"translate(51.628338 239.238437)scale(0.1 -0.1)\">\n       <defs>\n        <path d=\"M 10.59375 35.5 \nL 73.1875 35.5 \nL 73.1875 27.203125 \nL 10.59375 27.203125 \nz\n\" id=\"DejaVuSans-8722\"/>\n        <path d=\"M 37.796875 64.3125 \nL 12.890625 25.390625 \nL 37.796875 25.390625 \nz\nM 35.203125 72.90625 \nL 47.609375 72.90625 \nL 47.609375 25.390625 \nL 58.015625 25.390625 \nL 58.015625 17.1875 \nL 47.609375 17.1875 \nL 47.609375 0 \nL 37.796875 0 \nL 37.796875 17.1875 \nL 4.890625 17.1875 \nL 4.890625 26.703125 \nz\n\" id=\"DejaVuSans-52\"/>\n       </defs>\n       <use xlink:href=\"#DejaVuSans-8722\"/>\n       <use x=\"83.789062\" xlink:href=\"#DejaVuSans-52\"/>\n      </g>\n     </g>\n    </g>\n    <g id=\"xtick_2\">\n     <g id=\"line2d_2\">\n      <g>\n       <use style=\"stroke:#000000;stroke-width:0.8;\" x=\"97.044886\" xlink:href=\"#m6cb8007cb9\" y=\"224.64\"/>\n      </g>\n     </g>\n     <g id=\"text_2\">\n      <!-- −3 -->\n      <g transform=\"translate(89.673793 239.238437)scale(0.1 -0.1)\">\n       <defs>\n        <path d=\"M 40.578125 39.3125 \nQ 47.65625 37.796875 51.625 33 \nQ 55.609375 28.21875 55.609375 21.1875 \nQ 55.609375 10.40625 48.1875 4.484375 \nQ 40.765625 -1.421875 27.09375 -1.421875 \nQ 22.515625 -1.421875 17.65625 -0.515625 \nQ 12.796875 0.390625 7.625 2.203125 \nL 7.625 11.71875 \nQ 11.71875 9.328125 16.59375 8.109375 \nQ 21.484375 6.890625 26.8125 6.890625 \nQ 36.078125 6.890625 40.9375 10.546875 \nQ 45.796875 14.203125 45.796875 21.1875 \nQ 45.796875 27.640625 41.28125 31.265625 \nQ 36.765625 34.90625 28.71875 34.90625 \nL 20.21875 34.90625 \nL 20.21875 43.015625 \nL 29.109375 43.015625 \nQ 36.375 43.015625 40.234375 45.921875 \nQ 44.09375 48.828125 44.09375 54.296875 \nQ 44.09375 59.90625 40.109375 62.90625 \nQ 36.140625 65.921875 28.71875 65.921875 \nQ 24.65625 65.921875 20.015625 65.03125 \nQ 15.375 64.15625 9.8125 62.3125 \nL 9.8125 71.09375 \nQ 15.4375 72.65625 20.34375 73.4375 \nQ 25.25 74.21875 29.59375 74.21875 \nQ 40.828125 74.21875 47.359375 69.109375 \nQ 53.90625 64.015625 53.90625 55.328125 \nQ 53.90625 49.265625 50.4375 45.09375 \nQ 46.96875 40.921875 40.578125 39.3125 \nz\n\" id=\"DejaVuSans-51\"/>\n       </defs>\n       <use xlink:href=\"#DejaVuSans-8722\"/>\n       <use x=\"83.789062\" xlink:href=\"#DejaVuSans-51\"/>\n      </g>\n     </g>\n    </g>\n    <g id=\"xtick_3\">\n     <g id=\"line2d_3\">\n      <g>\n       <use style=\"stroke:#000000;stroke-width:0.8;\" x=\"135.090341\" xlink:href=\"#m6cb8007cb9\" y=\"224.64\"/>\n      </g>\n     </g>\n     <g id=\"text_3\">\n      <!-- −2 -->\n      <g transform=\"translate(127.719247 239.238437)scale(0.1 -0.1)\">\n       <defs>\n        <path d=\"M 19.1875 8.296875 \nL 53.609375 8.296875 \nL 53.609375 0 \nL 7.328125 0 \nL 7.328125 8.296875 \nQ 12.9375 14.109375 22.625 23.890625 \nQ 32.328125 33.6875 34.8125 36.53125 \nQ 39.546875 41.84375 41.421875 45.53125 \nQ 43.3125 49.21875 43.3125 52.78125 \nQ 43.3125 58.59375 39.234375 62.25 \nQ 35.15625 65.921875 28.609375 65.921875 \nQ 23.96875 65.921875 18.8125 64.3125 \nQ 13.671875 62.703125 7.8125 59.421875 \nL 7.8125 69.390625 \nQ 13.765625 71.78125 18.9375 73 \nQ 24.125 74.21875 28.421875 74.21875 \nQ 39.75 74.21875 46.484375 68.546875 \nQ 53.21875 62.890625 53.21875 53.421875 \nQ 53.21875 48.921875 51.53125 44.890625 \nQ 49.859375 40.875 45.40625 35.40625 \nQ 44.1875 33.984375 37.640625 27.21875 \nQ 31.109375 20.453125 19.1875 8.296875 \nz\n\" id=\"DejaVuSans-50\"/>\n       </defs>\n       <use xlink:href=\"#DejaVuSans-8722\"/>\n       <use x=\"83.789062\" xlink:href=\"#DejaVuSans-50\"/>\n      </g>\n     </g>\n    </g>\n    <g id=\"xtick_4\">\n     <g id=\"line2d_4\">\n      <g>\n       <use style=\"stroke:#000000;stroke-width:0.8;\" x=\"173.135795\" xlink:href=\"#m6cb8007cb9\" y=\"224.64\"/>\n      </g>\n     </g>\n     <g id=\"text_4\">\n      <!-- −1 -->\n      <g transform=\"translate(165.764702 239.238437)scale(0.1 -0.1)\">\n       <defs>\n        <path d=\"M 12.40625 8.296875 \nL 28.515625 8.296875 \nL 28.515625 63.921875 \nL 10.984375 60.40625 \nL 10.984375 69.390625 \nL 28.421875 72.90625 \nL 38.28125 72.90625 \nL 38.28125 8.296875 \nL 54.390625 8.296875 \nL 54.390625 0 \nL 12.40625 0 \nz\n\" id=\"DejaVuSans-49\"/>\n       </defs>\n       <use xlink:href=\"#DejaVuSans-8722\"/>\n       <use x=\"83.789062\" xlink:href=\"#DejaVuSans-49\"/>\n      </g>\n     </g>\n    </g>\n    <g id=\"xtick_5\">\n     <g id=\"line2d_5\">\n      <g>\n       <use style=\"stroke:#000000;stroke-width:0.8;\" x=\"211.18125\" xlink:href=\"#m6cb8007cb9\" y=\"224.64\"/>\n      </g>\n     </g>\n     <g id=\"text_5\">\n      <!-- 0 -->\n      <g transform=\"translate(208 239.238437)scale(0.1 -0.1)\">\n       <defs>\n        <path d=\"M 31.78125 66.40625 \nQ 24.171875 66.40625 20.328125 58.90625 \nQ 16.5 51.421875 16.5 36.375 \nQ 16.5 21.390625 20.328125 13.890625 \nQ 24.171875 6.390625 31.78125 6.390625 \nQ 39.453125 6.390625 43.28125 13.890625 \nQ 47.125 21.390625 47.125 36.375 \nQ 47.125 51.421875 43.28125 58.90625 \nQ 39.453125 66.40625 31.78125 66.40625 \nz\nM 31.78125 74.21875 \nQ 44.046875 74.21875 50.515625 64.515625 \nQ 56.984375 54.828125 56.984375 36.375 \nQ 56.984375 17.96875 50.515625 8.265625 \nQ 44.046875 -1.421875 31.78125 -1.421875 \nQ 19.53125 -1.421875 13.0625 8.265625 \nQ 6.59375 17.96875 6.59375 36.375 \nQ 6.59375 54.828125 13.0625 64.515625 \nQ 19.53125 74.21875 31.78125 74.21875 \nz\n\" id=\"DejaVuSans-48\"/>\n       </defs>\n       <use xlink:href=\"#DejaVuSans-48\"/>\n      </g>\n     </g>\n    </g>\n    <g id=\"xtick_6\">\n     <g id=\"line2d_6\">\n      <g>\n       <use style=\"stroke:#000000;stroke-width:0.8;\" x=\"249.226705\" xlink:href=\"#m6cb8007cb9\" y=\"224.64\"/>\n      </g>\n     </g>\n     <g id=\"text_6\">\n      <!-- 1 -->\n      <g transform=\"translate(246.045455 239.238437)scale(0.1 -0.1)\">\n       <use xlink:href=\"#DejaVuSans-49\"/>\n      </g>\n     </g>\n    </g>\n    <g id=\"xtick_7\">\n     <g id=\"line2d_7\">\n      <g>\n       <use style=\"stroke:#000000;stroke-width:0.8;\" x=\"287.272159\" xlink:href=\"#m6cb8007cb9\" y=\"224.64\"/>\n      </g>\n     </g>\n     <g id=\"text_7\">\n      <!-- 2 -->\n      <g transform=\"translate(284.090909 239.238437)scale(0.1 -0.1)\">\n       <use xlink:href=\"#DejaVuSans-50\"/>\n      </g>\n     </g>\n    </g>\n    <g id=\"xtick_8\">\n     <g id=\"line2d_8\">\n      <g>\n       <use style=\"stroke:#000000;stroke-width:0.8;\" x=\"325.317614\" xlink:href=\"#m6cb8007cb9\" y=\"224.64\"/>\n      </g>\n     </g>\n     <g id=\"text_8\">\n      <!-- 3 -->\n      <g transform=\"translate(322.136364 239.238437)scale(0.1 -0.1)\">\n       <use xlink:href=\"#DejaVuSans-51\"/>\n      </g>\n     </g>\n    </g>\n    <g id=\"xtick_9\">\n     <g id=\"line2d_9\">\n      <g>\n       <use style=\"stroke:#000000;stroke-width:0.8;\" x=\"363.363068\" xlink:href=\"#m6cb8007cb9\" y=\"224.64\"/>\n      </g>\n     </g>\n     <g id=\"text_9\">\n      <!-- 4 -->\n      <g transform=\"translate(360.181818 239.238437)scale(0.1 -0.1)\">\n       <use xlink:href=\"#DejaVuSans-52\"/>\n      </g>\n     </g>\n    </g>\n    <g id=\"text_10\">\n     <!-- $z$ ($a_0$) -->\n     <g transform=\"translate(197.63125 252.916562)scale(0.1 -0.1)\">\n      <defs>\n       <path d=\"M 11.625 54.6875 \nL 54.296875 54.6875 \nL 52.6875 46.484375 \nL 11.53125 7.171875 \nL 45.515625 7.171875 \nL 44.09375 0 \nL -0.296875 0 \nL 1.3125 8.203125 \nL 42.484375 47.515625 \nL 10.203125 47.515625 \nz\n\" id=\"DejaVuSans-Oblique-122\"/>\n       <path id=\"DejaVuSans-32\"/>\n       <path d=\"M 31 75.875 \nQ 24.46875 64.65625 21.28125 53.65625 \nQ 18.109375 42.671875 18.109375 31.390625 \nQ 18.109375 20.125 21.3125 9.0625 \nQ 24.515625 -2 31 -13.1875 \nL 23.1875 -13.1875 \nQ 15.875 -1.703125 12.234375 9.375 \nQ 8.59375 20.453125 8.59375 31.390625 \nQ 8.59375 42.28125 12.203125 53.3125 \nQ 15.828125 64.359375 23.1875 75.875 \nz\n\" id=\"DejaVuSans-40\"/>\n       <path d=\"M 53.71875 31.203125 \nL 47.609375 0 \nL 38.625 0 \nL 40.28125 8.296875 \nQ 36.328125 3.421875 31.265625 1 \nQ 26.21875 -1.421875 20.015625 -1.421875 \nQ 13.03125 -1.421875 8.5625 2.84375 \nQ 4.109375 7.125 4.109375 13.8125 \nQ 4.109375 23.390625 11.75 28.953125 \nQ 19.390625 34.515625 32.8125 34.515625 \nL 45.3125 34.515625 \nL 45.796875 36.921875 \nQ 45.90625 37.3125 45.953125 37.765625 \nQ 46 38.234375 46 39.203125 \nQ 46 43.5625 42.453125 45.96875 \nQ 38.921875 48.390625 32.515625 48.390625 \nQ 28.125 48.390625 23.5 47.265625 \nQ 18.890625 46.140625 14.015625 43.890625 \nL 15.578125 52.203125 \nQ 20.65625 54.109375 25.515625 55.046875 \nQ 30.375 56 34.90625 56 \nQ 44.578125 56 49.625 51.796875 \nQ 54.6875 47.609375 54.6875 39.59375 \nQ 54.6875 37.984375 54.4375 35.8125 \nQ 54.203125 33.640625 53.71875 31.203125 \nz\nM 44 27.484375 \nL 35.015625 27.484375 \nQ 23.96875 27.484375 18.671875 24.53125 \nQ 13.375 21.578125 13.375 15.375 \nQ 13.375 11.078125 16.078125 8.640625 \nQ 18.796875 6.203125 23.578125 6.203125 \nQ 30.90625 6.203125 36.375 11.453125 \nQ 41.84375 16.703125 43.609375 25.484375 \nz\n\" id=\"DejaVuSans-Oblique-97\"/>\n       <path d=\"M 8.015625 75.875 \nL 15.828125 75.875 \nQ 23.140625 64.359375 26.78125 53.3125 \nQ 30.421875 42.28125 30.421875 31.390625 \nQ 30.421875 20.453125 26.78125 9.375 \nQ 23.140625 -1.703125 15.828125 -13.1875 \nL 8.015625 -13.1875 \nQ 14.5 -2 17.703125 9.0625 \nQ 20.90625 20.125 20.90625 31.390625 \nQ 20.90625 42.671875 17.703125 53.65625 \nQ 14.5 64.65625 8.015625 75.875 \nz\n\" id=\"DejaVuSans-41\"/>\n      </defs>\n      <use transform=\"translate(0 0.125)\" xlink:href=\"#DejaVuSans-Oblique-122\"/>\n      <use transform=\"translate(52.490234 0.125)\" xlink:href=\"#DejaVuSans-32\"/>\n      <use transform=\"translate(84.277344 0.125)\" xlink:href=\"#DejaVuSans-40\"/>\n      <use transform=\"translate(123.291016 0.125)\" xlink:href=\"#DejaVuSans-Oblique-97\"/>\n      <use transform=\"translate(184.570312 -16.28125)scale(0.7)\" xlink:href=\"#DejaVuSans-48\"/>\n      <use transform=\"translate(231.84082 0.125)\" xlink:href=\"#DejaVuSans-41\"/>\n     </g>\n    </g>\n   </g>\n   <g id=\"matplotlib.axis_2\">\n    <g id=\"ytick_1\">\n     <g id=\"line2d_10\">\n      <defs>\n       <path d=\"M 0 0 \nL -3.5 0 \n\" id=\"me6796909db\" style=\"stroke:#000000;stroke-width:0.8;\"/>\n      </defs>\n      <g>\n       <use style=\"stroke:#000000;stroke-width:0.8;\" x=\"43.78125\" xlink:href=\"#me6796909db\" y=\"215.394202\"/>\n      </g>\n     </g>\n     <g id=\"text_11\">\n      <!-- 0.0 -->\n      <g transform=\"translate(20.878125 219.19342)scale(0.1 -0.1)\">\n       <defs>\n        <path d=\"M 10.6875 12.40625 \nL 21 12.40625 \nL 21 0 \nL 10.6875 0 \nz\n\" id=\"DejaVuSans-46\"/>\n       </defs>\n       <use xlink:href=\"#DejaVuSans-48\"/>\n       <use x=\"63.623047\" xlink:href=\"#DejaVuSans-46\"/>\n       <use x=\"95.410156\" xlink:href=\"#DejaVuSans-48\"/>\n      </g>\n     </g>\n    </g>\n    <g id=\"ytick_2\">\n     <g id=\"line2d_11\">\n      <g>\n       <use style=\"stroke:#000000;stroke-width:0.8;\" x=\"43.78125\" xlink:href=\"#me6796909db\" y=\"183.828315\"/>\n      </g>\n     </g>\n     <g id=\"text_12\">\n      <!-- 0.1 -->\n      <g transform=\"translate(20.878125 187.627534)scale(0.1 -0.1)\">\n       <use xlink:href=\"#DejaVuSans-48\"/>\n       <use x=\"63.623047\" xlink:href=\"#DejaVuSans-46\"/>\n       <use x=\"95.410156\" xlink:href=\"#DejaVuSans-49\"/>\n      </g>\n     </g>\n    </g>\n    <g id=\"ytick_3\">\n     <g id=\"line2d_12\">\n      <g>\n       <use style=\"stroke:#000000;stroke-width:0.8;\" x=\"43.78125\" xlink:href=\"#me6796909db\" y=\"152.262429\"/>\n      </g>\n     </g>\n     <g id=\"text_13\">\n      <!-- 0.2 -->\n      <g transform=\"translate(20.878125 156.061648)scale(0.1 -0.1)\">\n       <use xlink:href=\"#DejaVuSans-48\"/>\n       <use x=\"63.623047\" xlink:href=\"#DejaVuSans-46\"/>\n       <use x=\"95.410156\" xlink:href=\"#DejaVuSans-50\"/>\n      </g>\n     </g>\n    </g>\n    <g id=\"ytick_4\">\n     <g id=\"line2d_13\">\n      <g>\n       <use style=\"stroke:#000000;stroke-width:0.8;\" x=\"43.78125\" xlink:href=\"#me6796909db\" y=\"120.696542\"/>\n      </g>\n     </g>\n     <g id=\"text_14\">\n      <!-- 0.3 -->\n      <g transform=\"translate(20.878125 124.495761)scale(0.1 -0.1)\">\n       <use xlink:href=\"#DejaVuSans-48\"/>\n       <use x=\"63.623047\" xlink:href=\"#DejaVuSans-46\"/>\n       <use x=\"95.410156\" xlink:href=\"#DejaVuSans-51\"/>\n      </g>\n     </g>\n    </g>\n    <g id=\"ytick_5\">\n     <g id=\"line2d_14\">\n      <g>\n       <use style=\"stroke:#000000;stroke-width:0.8;\" x=\"43.78125\" xlink:href=\"#me6796909db\" y=\"89.130656\"/>\n      </g>\n     </g>\n     <g id=\"text_15\">\n      <!-- 0.4 -->\n      <g transform=\"translate(20.878125 92.929875)scale(0.1 -0.1)\">\n       <use xlink:href=\"#DejaVuSans-48\"/>\n       <use x=\"63.623047\" xlink:href=\"#DejaVuSans-46\"/>\n       <use x=\"95.410156\" xlink:href=\"#DejaVuSans-52\"/>\n      </g>\n     </g>\n    </g>\n    <g id=\"ytick_6\">\n     <g id=\"line2d_15\">\n      <g>\n       <use style=\"stroke:#000000;stroke-width:0.8;\" x=\"43.78125\" xlink:href=\"#me6796909db\" y=\"57.56477\"/>\n      </g>\n     </g>\n     <g id=\"text_16\">\n      <!-- 0.5 -->\n      <g transform=\"translate(20.878125 61.363988)scale(0.1 -0.1)\">\n       <defs>\n        <path d=\"M 10.796875 72.90625 \nL 49.515625 72.90625 \nL 49.515625 64.59375 \nL 19.828125 64.59375 \nL 19.828125 46.734375 \nQ 21.96875 47.46875 24.109375 47.828125 \nQ 26.265625 48.1875 28.421875 48.1875 \nQ 40.625 48.1875 47.75 41.5 \nQ 54.890625 34.8125 54.890625 23.390625 \nQ 54.890625 11.625 47.5625 5.09375 \nQ 40.234375 -1.421875 26.90625 -1.421875 \nQ 22.3125 -1.421875 17.546875 -0.640625 \nQ 12.796875 0.140625 7.71875 1.703125 \nL 7.71875 11.625 \nQ 12.109375 9.234375 16.796875 8.0625 \nQ 21.484375 6.890625 26.703125 6.890625 \nQ 35.15625 6.890625 40.078125 11.328125 \nQ 45.015625 15.765625 45.015625 23.390625 \nQ 45.015625 31 40.078125 35.4375 \nQ 35.15625 39.890625 26.703125 39.890625 \nQ 22.75 39.890625 18.8125 39.015625 \nQ 14.890625 38.140625 10.796875 36.28125 \nz\n\" id=\"DejaVuSans-53\"/>\n       </defs>\n       <use xlink:href=\"#DejaVuSans-48\"/>\n       <use x=\"63.623047\" xlink:href=\"#DejaVuSans-46\"/>\n       <use x=\"95.410156\" xlink:href=\"#DejaVuSans-53\"/>\n      </g>\n     </g>\n    </g>\n    <g id=\"ytick_7\">\n     <g id=\"line2d_16\">\n      <g>\n       <use style=\"stroke:#000000;stroke-width:0.8;\" x=\"43.78125\" xlink:href=\"#me6796909db\" y=\"25.998883\"/>\n      </g>\n     </g>\n     <g id=\"text_17\">\n      <!-- 0.6 -->\n      <g transform=\"translate(20.878125 29.798102)scale(0.1 -0.1)\">\n       <defs>\n        <path d=\"M 33.015625 40.375 \nQ 26.375 40.375 22.484375 35.828125 \nQ 18.609375 31.296875 18.609375 23.390625 \nQ 18.609375 15.53125 22.484375 10.953125 \nQ 26.375 6.390625 33.015625 6.390625 \nQ 39.65625 6.390625 43.53125 10.953125 \nQ 47.40625 15.53125 47.40625 23.390625 \nQ 47.40625 31.296875 43.53125 35.828125 \nQ 39.65625 40.375 33.015625 40.375 \nz\nM 52.59375 71.296875 \nL 52.59375 62.3125 \nQ 48.875 64.0625 45.09375 64.984375 \nQ 41.3125 65.921875 37.59375 65.921875 \nQ 27.828125 65.921875 22.671875 59.328125 \nQ 17.53125 52.734375 16.796875 39.40625 \nQ 19.671875 43.65625 24.015625 45.921875 \nQ 28.375 48.1875 33.59375 48.1875 \nQ 44.578125 48.1875 50.953125 41.515625 \nQ 57.328125 34.859375 57.328125 23.390625 \nQ 57.328125 12.15625 50.6875 5.359375 \nQ 44.046875 -1.421875 33.015625 -1.421875 \nQ 20.359375 -1.421875 13.671875 8.265625 \nQ 6.984375 17.96875 6.984375 36.375 \nQ 6.984375 53.65625 15.1875 63.9375 \nQ 23.390625 74.21875 37.203125 74.21875 \nQ 40.921875 74.21875 44.703125 73.484375 \nQ 48.484375 72.75 52.59375 71.296875 \nz\n\" id=\"DejaVuSans-54\"/>\n       </defs>\n       <use xlink:href=\"#DejaVuSans-48\"/>\n       <use x=\"63.623047\" xlink:href=\"#DejaVuSans-46\"/>\n       <use x=\"95.410156\" xlink:href=\"#DejaVuSans-54\"/>\n      </g>\n     </g>\n    </g>\n    <g id=\"text_18\">\n     <!-- 1S atomic orbital -->\n     <g transform=\"translate(14.798438 158.637187)rotate(-90)scale(0.1 -0.1)\">\n      <defs>\n       <path d=\"M 53.515625 70.515625 \nL 53.515625 60.890625 \nQ 47.90625 63.578125 42.921875 64.890625 \nQ 37.9375 66.21875 33.296875 66.21875 \nQ 25.25 66.21875 20.875 63.09375 \nQ 16.5 59.96875 16.5 54.203125 \nQ 16.5 49.359375 19.40625 46.890625 \nQ 22.3125 44.4375 30.421875 42.921875 \nL 36.375 41.703125 \nQ 47.40625 39.59375 52.65625 34.296875 \nQ 57.90625 29 57.90625 20.125 \nQ 57.90625 9.515625 50.796875 4.046875 \nQ 43.703125 -1.421875 29.984375 -1.421875 \nQ 24.8125 -1.421875 18.96875 -0.25 \nQ 13.140625 0.921875 6.890625 3.21875 \nL 6.890625 13.375 \nQ 12.890625 10.015625 18.65625 8.296875 \nQ 24.421875 6.59375 29.984375 6.59375 \nQ 38.421875 6.59375 43.015625 9.90625 \nQ 47.609375 13.234375 47.609375 19.390625 \nQ 47.609375 24.75 44.3125 27.78125 \nQ 41.015625 30.8125 33.5 32.328125 \nL 27.484375 33.5 \nQ 16.453125 35.6875 11.515625 40.375 \nQ 6.59375 45.0625 6.59375 53.421875 \nQ 6.59375 63.09375 13.40625 68.65625 \nQ 20.21875 74.21875 32.171875 74.21875 \nQ 37.3125 74.21875 42.625 73.28125 \nQ 47.953125 72.359375 53.515625 70.515625 \nz\n\" id=\"DejaVuSans-83\"/>\n       <path d=\"M 34.28125 27.484375 \nQ 23.390625 27.484375 19.1875 25 \nQ 14.984375 22.515625 14.984375 16.5 \nQ 14.984375 11.71875 18.140625 8.90625 \nQ 21.296875 6.109375 26.703125 6.109375 \nQ 34.1875 6.109375 38.703125 11.40625 \nQ 43.21875 16.703125 43.21875 25.484375 \nL 43.21875 27.484375 \nz\nM 52.203125 31.203125 \nL 52.203125 0 \nL 43.21875 0 \nL 43.21875 8.296875 \nQ 40.140625 3.328125 35.546875 0.953125 \nQ 30.953125 -1.421875 24.3125 -1.421875 \nQ 15.921875 -1.421875 10.953125 3.296875 \nQ 6 8.015625 6 15.921875 \nQ 6 25.140625 12.171875 29.828125 \nQ 18.359375 34.515625 30.609375 34.515625 \nL 43.21875 34.515625 \nL 43.21875 35.40625 \nQ 43.21875 41.609375 39.140625 45 \nQ 35.0625 48.390625 27.6875 48.390625 \nQ 23 48.390625 18.546875 47.265625 \nQ 14.109375 46.140625 10.015625 43.890625 \nL 10.015625 52.203125 \nQ 14.9375 54.109375 19.578125 55.046875 \nQ 24.21875 56 28.609375 56 \nQ 40.484375 56 46.34375 49.84375 \nQ 52.203125 43.703125 52.203125 31.203125 \nz\n\" id=\"DejaVuSans-97\"/>\n       <path d=\"M 18.3125 70.21875 \nL 18.3125 54.6875 \nL 36.8125 54.6875 \nL 36.8125 47.703125 \nL 18.3125 47.703125 \nL 18.3125 18.015625 \nQ 18.3125 11.328125 20.140625 9.421875 \nQ 21.96875 7.515625 27.59375 7.515625 \nL 36.8125 7.515625 \nL 36.8125 0 \nL 27.59375 0 \nQ 17.1875 0 13.234375 3.875 \nQ 9.28125 7.765625 9.28125 18.015625 \nL 9.28125 47.703125 \nL 2.6875 47.703125 \nL 2.6875 54.6875 \nL 9.28125 54.6875 \nL 9.28125 70.21875 \nz\n\" id=\"DejaVuSans-116\"/>\n       <path d=\"M 30.609375 48.390625 \nQ 23.390625 48.390625 19.1875 42.75 \nQ 14.984375 37.109375 14.984375 27.296875 \nQ 14.984375 17.484375 19.15625 11.84375 \nQ 23.34375 6.203125 30.609375 6.203125 \nQ 37.796875 6.203125 41.984375 11.859375 \nQ 46.1875 17.53125 46.1875 27.296875 \nQ 46.1875 37.015625 41.984375 42.703125 \nQ 37.796875 48.390625 30.609375 48.390625 \nz\nM 30.609375 56 \nQ 42.328125 56 49.015625 48.375 \nQ 55.71875 40.765625 55.71875 27.296875 \nQ 55.71875 13.875 49.015625 6.21875 \nQ 42.328125 -1.421875 30.609375 -1.421875 \nQ 18.84375 -1.421875 12.171875 6.21875 \nQ 5.515625 13.875 5.515625 27.296875 \nQ 5.515625 40.765625 12.171875 48.375 \nQ 18.84375 56 30.609375 56 \nz\n\" id=\"DejaVuSans-111\"/>\n       <path d=\"M 52 44.1875 \nQ 55.375 50.25 60.0625 53.125 \nQ 64.75 56 71.09375 56 \nQ 79.640625 56 84.28125 50.015625 \nQ 88.921875 44.046875 88.921875 33.015625 \nL 88.921875 0 \nL 79.890625 0 \nL 79.890625 32.71875 \nQ 79.890625 40.578125 77.09375 44.375 \nQ 74.3125 48.1875 68.609375 48.1875 \nQ 61.625 48.1875 57.5625 43.546875 \nQ 53.515625 38.921875 53.515625 30.90625 \nL 53.515625 0 \nL 44.484375 0 \nL 44.484375 32.71875 \nQ 44.484375 40.625 41.703125 44.40625 \nQ 38.921875 48.1875 33.109375 48.1875 \nQ 26.21875 48.1875 22.15625 43.53125 \nQ 18.109375 38.875 18.109375 30.90625 \nL 18.109375 0 \nL 9.078125 0 \nL 9.078125 54.6875 \nL 18.109375 54.6875 \nL 18.109375 46.1875 \nQ 21.1875 51.21875 25.484375 53.609375 \nQ 29.78125 56 35.6875 56 \nQ 41.65625 56 45.828125 52.96875 \nQ 50 49.953125 52 44.1875 \nz\n\" id=\"DejaVuSans-109\"/>\n       <path d=\"M 9.421875 54.6875 \nL 18.40625 54.6875 \nL 18.40625 0 \nL 9.421875 0 \nz\nM 9.421875 75.984375 \nL 18.40625 75.984375 \nL 18.40625 64.59375 \nL 9.421875 64.59375 \nz\n\" id=\"DejaVuSans-105\"/>\n       <path d=\"M 48.78125 52.59375 \nL 48.78125 44.1875 \nQ 44.96875 46.296875 41.140625 47.34375 \nQ 37.3125 48.390625 33.40625 48.390625 \nQ 24.65625 48.390625 19.8125 42.84375 \nQ 14.984375 37.3125 14.984375 27.296875 \nQ 14.984375 17.28125 19.8125 11.734375 \nQ 24.65625 6.203125 33.40625 6.203125 \nQ 37.3125 6.203125 41.140625 7.25 \nQ 44.96875 8.296875 48.78125 10.40625 \nL 48.78125 2.09375 \nQ 45.015625 0.34375 40.984375 -0.53125 \nQ 36.96875 -1.421875 32.421875 -1.421875 \nQ 20.0625 -1.421875 12.78125 6.34375 \nQ 5.515625 14.109375 5.515625 27.296875 \nQ 5.515625 40.671875 12.859375 48.328125 \nQ 20.21875 56 33.015625 56 \nQ 37.15625 56 41.109375 55.140625 \nQ 45.0625 54.296875 48.78125 52.59375 \nz\n\" id=\"DejaVuSans-99\"/>\n       <path d=\"M 41.109375 46.296875 \nQ 39.59375 47.171875 37.8125 47.578125 \nQ 36.03125 48 33.890625 48 \nQ 26.265625 48 22.1875 43.046875 \nQ 18.109375 38.09375 18.109375 28.8125 \nL 18.109375 0 \nL 9.078125 0 \nL 9.078125 54.6875 \nL 18.109375 54.6875 \nL 18.109375 46.1875 \nQ 20.953125 51.171875 25.484375 53.578125 \nQ 30.03125 56 36.53125 56 \nQ 37.453125 56 38.578125 55.875 \nQ 39.703125 55.765625 41.0625 55.515625 \nz\n\" id=\"DejaVuSans-114\"/>\n       <path d=\"M 48.6875 27.296875 \nQ 48.6875 37.203125 44.609375 42.84375 \nQ 40.53125 48.484375 33.40625 48.484375 \nQ 26.265625 48.484375 22.1875 42.84375 \nQ 18.109375 37.203125 18.109375 27.296875 \nQ 18.109375 17.390625 22.1875 11.75 \nQ 26.265625 6.109375 33.40625 6.109375 \nQ 40.53125 6.109375 44.609375 11.75 \nQ 48.6875 17.390625 48.6875 27.296875 \nz\nM 18.109375 46.390625 \nQ 20.953125 51.265625 25.265625 53.625 \nQ 29.59375 56 35.59375 56 \nQ 45.5625 56 51.78125 48.09375 \nQ 58.015625 40.1875 58.015625 27.296875 \nQ 58.015625 14.40625 51.78125 6.484375 \nQ 45.5625 -1.421875 35.59375 -1.421875 \nQ 29.59375 -1.421875 25.265625 0.953125 \nQ 20.953125 3.328125 18.109375 8.203125 \nL 18.109375 0 \nL 9.078125 0 \nL 9.078125 75.984375 \nL 18.109375 75.984375 \nz\n\" id=\"DejaVuSans-98\"/>\n       <path d=\"M 9.421875 75.984375 \nL 18.40625 75.984375 \nL 18.40625 0 \nL 9.421875 0 \nz\n\" id=\"DejaVuSans-108\"/>\n      </defs>\n      <use xlink:href=\"#DejaVuSans-49\"/>\n      <use x=\"63.623047\" xlink:href=\"#DejaVuSans-83\"/>\n      <use x=\"127.099609\" xlink:href=\"#DejaVuSans-32\"/>\n      <use x=\"158.886719\" xlink:href=\"#DejaVuSans-97\"/>\n      <use x=\"220.166016\" xlink:href=\"#DejaVuSans-116\"/>\n      <use x=\"259.375\" xlink:href=\"#DejaVuSans-111\"/>\n      <use x=\"320.556641\" xlink:href=\"#DejaVuSans-109\"/>\n      <use x=\"417.96875\" xlink:href=\"#DejaVuSans-105\"/>\n      <use x=\"445.751953\" xlink:href=\"#DejaVuSans-99\"/>\n      <use x=\"500.732422\" xlink:href=\"#DejaVuSans-32\"/>\n      <use x=\"532.519531\" xlink:href=\"#DejaVuSans-111\"/>\n      <use x=\"593.701172\" xlink:href=\"#DejaVuSans-114\"/>\n      <use x=\"634.814453\" xlink:href=\"#DejaVuSans-98\"/>\n      <use x=\"698.291016\" xlink:href=\"#DejaVuSans-105\"/>\n      <use x=\"726.074219\" xlink:href=\"#DejaVuSans-116\"/>\n      <use x=\"765.283203\" xlink:href=\"#DejaVuSans-97\"/>\n      <use x=\"826.5625\" xlink:href=\"#DejaVuSans-108\"/>\n     </g>\n    </g>\n   </g>\n   <g id=\"line2d_17\">\n    <path clip-path=\"url(#pe38df125e6)\" d=\"M 58.999432 211.137794 \nL 66.616139 210.016575 \nL 73.318842 208.805641 \nL 79.10754 207.540859 \nL 84.286901 206.188543 \nL 88.856926 204.778065 \nL 93.122282 203.236032 \nL 97.08297 201.570188 \nL 100.73899 199.797694 \nL 104.395009 197.765418 \nL 107.746361 195.644515 \nL 111.097712 193.249147 \nL 114.144395 190.811676 \nL 117.191078 188.108415 \nL 120.237761 185.124032 \nL 123.284444 181.845972 \nL 126.331127 178.264308 \nL 129.682479 173.963594 \nL 133.03383 169.271187 \nL 136.385181 164.161714 \nL 139.431864 159.112934 \nL 142.478547 153.609756 \nL 145.220562 148.179394 \nL 147.657908 142.880096 \nL 150.095255 137.034463 \nL 152.227933 131.384274 \nL 154.360611 125.155268 \nL 156.493289 118.280101 \nL 158.625967 110.711424 \nL 161.063314 101.196772 \nL 163.805329 89.465912 \nL 167.15668 74.015669 \nL 173.250046 45.702797 \nL 175.382724 36.916919 \nL 177.210734 30.336555 \nL 178.734076 25.7038 \nL 179.952749 22.642825 \nL 181.171422 20.213245 \nL 182.085427 18.831628 \nL 182.999432 17.843463 \nL 183.913437 17.258804 \nL 184.522773 17.096329 \nL 185.13211 17.116677 \nL 185.741447 17.319757 \nL 186.350783 17.70464 \nL 187.264788 18.618791 \nL 188.178793 19.928554 \nL 189.092798 21.620693 \nL 190.311471 24.441976 \nL 191.530144 27.86342 \nL 193.053486 32.894903 \nL 194.881496 39.867858 \nL 197.014174 48.98449 \nL 200.060857 63.093052 \nL 205.849555 90.068593 \nL 208.591569 101.749665 \nL 211.028916 111.213662 \nL 213.466262 119.754949 \nL 215.903609 127.401227 \nL 218.340955 134.232657 \nL 220.778302 140.356269 \nL 223.215648 145.885267 \nL 225.957663 151.524699 \nL 228.699678 156.668067 \nL 231.746361 161.913146 \nL 235.097712 167.208122 \nL 238.449063 172.069078 \nL 241.800415 176.5299 \nL 245.151766 180.607911 \nL 248.503117 184.314845 \nL 251.854469 187.663144 \nL 254.901152 190.409181 \nL 258.252503 193.120535 \nL 261.603854 195.530449 \nL 264.955206 197.664562 \nL 268.306557 199.549722 \nL 271.962577 201.35395 \nL 275.923265 203.049417 \nL 280.188621 204.61833 \nL 284.758646 206.052579 \nL 289.633338 207.352204 \nL 295.117368 208.586102 \nL 301.210734 209.732934 \nL 308.218105 210.823652 \nL 316.139481 211.826639 \nL 324.974862 212.717598 \nL 334.724248 213.47746 \nL 345.692307 214.108835 \nL 358.488375 214.614786 \nL 363.363068 214.756364 \nL 363.363068 214.756364 \n\" style=\"fill:none;stroke:#1f77b4;stroke-linecap:square;stroke-width:4;\"/>\n   </g>\n   <g id=\"line2d_18\">\n    <path clip-path=\"url(#pe38df125e6)\" d=\"M 58.999432 214.756364 \nL 73.318842 214.262607 \nL 85.200906 213.636352 \nL 95.559628 212.876442 \nL 105.004346 211.962644 \nL 113.23039 210.950781 \nL 120.542429 209.836654 \nL 126.940464 208.648597 \nL 132.729162 207.352204 \nL 137.908523 205.96396 \nL 142.478547 204.51416 \nL 146.743904 202.927672 \nL 150.704592 201.212855 \nL 154.360611 199.38792 \nL 157.711963 197.481246 \nL 161.063314 195.32316 \nL 164.414665 192.886874 \nL 167.461348 190.409181 \nL 170.508031 187.663144 \nL 173.554714 184.633845 \nL 176.601397 181.309169 \nL 179.64808 177.679522 \nL 182.999432 173.324428 \nL 186.350783 168.575014 \nL 189.702135 163.403287 \nL 192.748818 158.28924 \nL 195.490832 153.289037 \nL 198.232847 147.827235 \nL 200.670193 142.493396 \nL 203.10754 136.605834 \nL 205.240218 130.912467 \nL 207.372896 124.634503 \nL 209.505574 117.705724 \nL 211.638252 110.080932 \nL 214.075599 100.503335 \nL 216.817614 88.711201 \nL 220.168965 73.216084 \nL 225.957663 46.293122 \nL 228.090341 37.443434 \nL 229.918351 30.788662 \nL 231.441692 26.081123 \nL 232.660365 22.95301 \nL 233.879039 20.450876 \nL 234.793044 19.011997 \nL 235.707049 17.964742 \nL 236.621053 17.319757 \nL 237.23039 17.116677 \nL 237.839727 17.096329 \nL 238.449063 17.258804 \nL 239.0584 17.603362 \nL 239.972405 18.457944 \nL 240.88641 19.709772 \nL 241.800415 21.346178 \nL 243.019088 24.097478 \nL 244.237761 27.454883 \nL 245.761103 32.416048 \nL 247.589112 39.320533 \nL 249.721791 48.380586 \nL 252.768474 62.45113 \nL 258.86184 90.81732 \nL 261.603854 102.435501 \nL 264.041201 111.836097 \nL 266.478547 120.313639 \nL 268.915894 127.900353 \nL 271.35324 134.679048 \nL 273.790587 140.757781 \nL 276.227933 146.249576 \nL 278.969948 151.855135 \nL 281.711963 156.971275 \nL 284.758646 162.191569 \nL 288.109997 167.463404 \nL 291.461348 172.303554 \nL 294.8127 176.744728 \nL 298.164051 180.803748 \nL 301.515402 184.492265 \nL 304.866754 187.822857 \nL 307.913437 190.553584 \nL 311.264788 193.249147 \nL 314.616139 195.644515 \nL 317.967491 197.765418 \nL 321.318842 199.638735 \nL 324.974862 201.431571 \nL 328.93555 203.116399 \nL 333.200906 204.675656 \nL 337.770931 206.101363 \nL 342.645623 207.393596 \nL 348.129653 208.620861 \nL 354.527687 209.813736 \nL 361.535058 210.889948 \nL 363.363068 211.137794 \nL 363.363068 211.137794 \n\" style=\"fill:none;stroke:#ff7f0e;stroke-linecap:square;stroke-width:4;\"/>\n   </g>\n   <g id=\"patch_3\">\n    <path d=\"M 43.78125 224.64 \nL 43.78125 7.2 \n\" style=\"fill:none;stroke:#000000;stroke-linecap:square;stroke-linejoin:miter;stroke-width:0.8;\"/>\n   </g>\n   <g id=\"patch_4\">\n    <path d=\"M 378.58125 224.64 \nL 378.58125 7.2 \n\" style=\"fill:none;stroke:#000000;stroke-linecap:square;stroke-linejoin:miter;stroke-width:0.8;\"/>\n   </g>\n   <g id=\"patch_5\">\n    <path d=\"M 43.78125 224.64 \nL 378.58125 224.64 \n\" style=\"fill:none;stroke:#000000;stroke-linecap:square;stroke-linejoin:miter;stroke-width:0.8;\"/>\n   </g>\n   <g id=\"patch_6\">\n    <path d=\"M 43.78125 7.2 \nL 378.58125 7.2 \n\" style=\"fill:none;stroke:#000000;stroke-linecap:square;stroke-linejoin:miter;stroke-width:0.8;\"/>\n   </g>\n  </g>\n </g>\n <defs>\n  <clipPath id=\"pe38df125e6\">\n   <rect height=\"217.44\" width=\"334.8\" x=\"43.78125\" y=\"7.2\"/>\n  </clipPath>\n </defs>\n</svg>\n",
      "image/png": "[encoded data removed]"
     },
     "metadata": {
      "needs_background": "light"
     }
    }
   ],
   "source": [
    "fig, ax = plt.subplots(1,1)\n",
    "ax.plot(coords[:,2],ao_wf,'-', lw = 4)\n",
    "ax.set_xlabel('$z$ ($a_0$)')\n",
    "ax.set_ylabel('1S atomic orbital')\n",
    "plt.show()"
   ]
  },
  {
   "cell_type": "markdown",
   "metadata": {
    "id": "kMmyg7BIbKCZ"
   },
   "source": [
    "# **Using OO**"
   ]
  },
  {
   "cell_type": "markdown",
   "metadata": {
    "id": "eSXqI-p4bZby"
   },
   "source": [
    "AO wave function into OO wave function."
   ]
  },
  {
   "cell_type": "code",
   "execution_count": 30,
   "metadata": {
    "id": "M_XJ7z1Xbiw_"
   },
   "outputs": [],
   "source": [
    "oo_wf = ao_wf @ ao2oo\n"
   ]
  },
  {
   "cell_type": "code",
   "execution_count": 31,
   "metadata": {
    "colab": {
     "base_uri": "https://localhost:8080/",
     "height": 283
    },
    "id": "S9n2UiCeb07o",
    "outputId": "65e1c494-a129-4346-c82f-208a16db72e3"
   },
   "outputs": [
    {
     "output_type": "display_data",
     "data": {
      "text/plain": "<Figure size 432x288 with 1 Axes>",
      "image/svg+xml": "<?xml version=\"1.0\" encoding=\"utf-8\" standalone=\"no\"?>\n<!DOCTYPE svg PUBLIC \"-//W3C//DTD SVG 1.1//EN\"\n  \"http://www.w3.org/Graphics/SVG/1.1/DTD/svg11.dtd\">\n<!-- Created with matplotlib (https://matplotlib.org/) -->\n<svg height=\"262.19625pt\" version=\"1.1\" viewBox=\"0 0 394.160937 262.19625\" width=\"394.160937pt\" xmlns=\"http://www.w3.org/2000/svg\" xmlns:xlink=\"http://www.w3.org/1999/xlink\">\n <metadata>\n  <rdf:RDF xmlns:cc=\"http://creativecommons.org/ns#\" xmlns:dc=\"http://purl.org/dc/elements/1.1/\" xmlns:rdf=\"http://www.w3.org/1999/02/22-rdf-syntax-ns#\">\n   <cc:Work>\n    <dc:type rdf:resource=\"http://purl.org/dc/dcmitype/StillImage\"/>\n    <dc:date>1970-01-03T09:42:28.143615</dc:date>\n    <dc:format>image/svg+xml</dc:format>\n    <dc:creator>\n     <cc:Agent>\n      <dc:title>Matplotlib v3.3.2, https://matplotlib.org/</dc:title>\n     </cc:Agent>\n    </dc:creator>\n   </cc:Work>\n  </rdf:RDF>\n </metadata>\n <defs>\n  <style type=\"text/css\">*{stroke-linecap:butt;stroke-linejoin:round;}</style>\n </defs>\n <g id=\"figure_1\">\n  <g id=\"patch_1\">\n   <path d=\"M 0 262.19625 \nL 394.160937 262.19625 \nL 394.160937 0 \nL 0 0 \nz\n\" style=\"fill:none;\"/>\n  </g>\n  <g id=\"axes_1\">\n   <g id=\"patch_2\">\n    <path d=\"M 52.160938 224.64 \nL 386.960938 224.64 \nL 386.960938 7.2 \nL 52.160938 7.2 \nz\n\" style=\"fill:#ffffff;\"/>\n   </g>\n   <g id=\"matplotlib.axis_1\">\n    <g id=\"xtick_1\">\n     <g id=\"line2d_1\">\n      <defs>\n       <path d=\"M 0 0 \nL 0 3.5 \n\" id=\"m6fe817b949\" style=\"stroke:#000000;stroke-width:0.8;\"/>\n      </defs>\n      <g>\n       <use style=\"stroke:#000000;stroke-width:0.8;\" x=\"67.379119\" xlink:href=\"#m6fe817b949\" y=\"224.64\"/>\n      </g>\n     </g>\n     <g id=\"text_1\">\n      <!-- −4 -->\n      <g transform=\"translate(60.008026 239.238437)scale(0.1 -0.1)\">\n       <defs>\n        <path d=\"M 10.59375 35.5 \nL 73.1875 35.5 \nL 73.1875 27.203125 \nL 10.59375 27.203125 \nz\n\" id=\"DejaVuSans-8722\"/>\n        <path d=\"M 37.796875 64.3125 \nL 12.890625 25.390625 \nL 37.796875 25.390625 \nz\nM 35.203125 72.90625 \nL 47.609375 72.90625 \nL 47.609375 25.390625 \nL 58.015625 25.390625 \nL 58.015625 17.1875 \nL 47.609375 17.1875 \nL 47.609375 0 \nL 37.796875 0 \nL 37.796875 17.1875 \nL 4.890625 17.1875 \nL 4.890625 26.703125 \nz\n\" id=\"DejaVuSans-52\"/>\n       </defs>\n       <use xlink:href=\"#DejaVuSans-8722\"/>\n       <use x=\"83.789062\" xlink:href=\"#DejaVuSans-52\"/>\n      </g>\n     </g>\n    </g>\n    <g id=\"xtick_2\">\n     <g id=\"line2d_2\">\n      <g>\n       <use style=\"stroke:#000000;stroke-width:0.8;\" x=\"105.424574\" xlink:href=\"#m6fe817b949\" y=\"224.64\"/>\n      </g>\n     </g>\n     <g id=\"text_2\">\n      <!-- −3 -->\n      <g transform=\"translate(98.05348 239.238437)scale(0.1 -0.1)\">\n       <defs>\n        <path d=\"M 40.578125 39.3125 \nQ 47.65625 37.796875 51.625 33 \nQ 55.609375 28.21875 55.609375 21.1875 \nQ 55.609375 10.40625 48.1875 4.484375 \nQ 40.765625 -1.421875 27.09375 -1.421875 \nQ 22.515625 -1.421875 17.65625 -0.515625 \nQ 12.796875 0.390625 7.625 2.203125 \nL 7.625 11.71875 \nQ 11.71875 9.328125 16.59375 8.109375 \nQ 21.484375 6.890625 26.8125 6.890625 \nQ 36.078125 6.890625 40.9375 10.546875 \nQ 45.796875 14.203125 45.796875 21.1875 \nQ 45.796875 27.640625 41.28125 31.265625 \nQ 36.765625 34.90625 28.71875 34.90625 \nL 20.21875 34.90625 \nL 20.21875 43.015625 \nL 29.109375 43.015625 \nQ 36.375 43.015625 40.234375 45.921875 \nQ 44.09375 48.828125 44.09375 54.296875 \nQ 44.09375 59.90625 40.109375 62.90625 \nQ 36.140625 65.921875 28.71875 65.921875 \nQ 24.65625 65.921875 20.015625 65.03125 \nQ 15.375 64.15625 9.8125 62.3125 \nL 9.8125 71.09375 \nQ 15.4375 72.65625 20.34375 73.4375 \nQ 25.25 74.21875 29.59375 74.21875 \nQ 40.828125 74.21875 47.359375 69.109375 \nQ 53.90625 64.015625 53.90625 55.328125 \nQ 53.90625 49.265625 50.4375 45.09375 \nQ 46.96875 40.921875 40.578125 39.3125 \nz\n\" id=\"DejaVuSans-51\"/>\n       </defs>\n       <use xlink:href=\"#DejaVuSans-8722\"/>\n       <use x=\"83.789062\" xlink:href=\"#DejaVuSans-51\"/>\n      </g>\n     </g>\n    </g>\n    <g id=\"xtick_3\">\n     <g id=\"line2d_3\">\n      <g>\n       <use style=\"stroke:#000000;stroke-width:0.8;\" x=\"143.470028\" xlink:href=\"#m6fe817b949\" y=\"224.64\"/>\n      </g>\n     </g>\n     <g id=\"text_3\">\n      <!-- −2 -->\n      <g transform=\"translate(136.098935 239.238437)scale(0.1 -0.1)\">\n       <defs>\n        <path d=\"M 19.1875 8.296875 \nL 53.609375 8.296875 \nL 53.609375 0 \nL 7.328125 0 \nL 7.328125 8.296875 \nQ 12.9375 14.109375 22.625 23.890625 \nQ 32.328125 33.6875 34.8125 36.53125 \nQ 39.546875 41.84375 41.421875 45.53125 \nQ 43.3125 49.21875 43.3125 52.78125 \nQ 43.3125 58.59375 39.234375 62.25 \nQ 35.15625 65.921875 28.609375 65.921875 \nQ 23.96875 65.921875 18.8125 64.3125 \nQ 13.671875 62.703125 7.8125 59.421875 \nL 7.8125 69.390625 \nQ 13.765625 71.78125 18.9375 73 \nQ 24.125 74.21875 28.421875 74.21875 \nQ 39.75 74.21875 46.484375 68.546875 \nQ 53.21875 62.890625 53.21875 53.421875 \nQ 53.21875 48.921875 51.53125 44.890625 \nQ 49.859375 40.875 45.40625 35.40625 \nQ 44.1875 33.984375 37.640625 27.21875 \nQ 31.109375 20.453125 19.1875 8.296875 \nz\n\" id=\"DejaVuSans-50\"/>\n       </defs>\n       <use xlink:href=\"#DejaVuSans-8722\"/>\n       <use x=\"83.789062\" xlink:href=\"#DejaVuSans-50\"/>\n      </g>\n     </g>\n    </g>\n    <g id=\"xtick_4\">\n     <g id=\"line2d_4\">\n      <g>\n       <use style=\"stroke:#000000;stroke-width:0.8;\" x=\"181.515483\" xlink:href=\"#m6fe817b949\" y=\"224.64\"/>\n      </g>\n     </g>\n     <g id=\"text_4\">\n      <!-- −1 -->\n      <g transform=\"translate(174.144389 239.238437)scale(0.1 -0.1)\">\n       <defs>\n        <path d=\"M 12.40625 8.296875 \nL 28.515625 8.296875 \nL 28.515625 63.921875 \nL 10.984375 60.40625 \nL 10.984375 69.390625 \nL 28.421875 72.90625 \nL 38.28125 72.90625 \nL 38.28125 8.296875 \nL 54.390625 8.296875 \nL 54.390625 0 \nL 12.40625 0 \nz\n\" id=\"DejaVuSans-49\"/>\n       </defs>\n       <use xlink:href=\"#DejaVuSans-8722\"/>\n       <use x=\"83.789062\" xlink:href=\"#DejaVuSans-49\"/>\n      </g>\n     </g>\n    </g>\n    <g id=\"xtick_5\">\n     <g id=\"line2d_5\">\n      <g>\n       <use style=\"stroke:#000000;stroke-width:0.8;\" x=\"219.560938\" xlink:href=\"#m6fe817b949\" y=\"224.64\"/>\n      </g>\n     </g>\n     <g id=\"text_5\">\n      <!-- 0 -->\n      <g transform=\"translate(216.379688 239.238437)scale(0.1 -0.1)\">\n       <defs>\n        <path d=\"M 31.78125 66.40625 \nQ 24.171875 66.40625 20.328125 58.90625 \nQ 16.5 51.421875 16.5 36.375 \nQ 16.5 21.390625 20.328125 13.890625 \nQ 24.171875 6.390625 31.78125 6.390625 \nQ 39.453125 6.390625 43.28125 13.890625 \nQ 47.125 21.390625 47.125 36.375 \nQ 47.125 51.421875 43.28125 58.90625 \nQ 39.453125 66.40625 31.78125 66.40625 \nz\nM 31.78125 74.21875 \nQ 44.046875 74.21875 50.515625 64.515625 \nQ 56.984375 54.828125 56.984375 36.375 \nQ 56.984375 17.96875 50.515625 8.265625 \nQ 44.046875 -1.421875 31.78125 -1.421875 \nQ 19.53125 -1.421875 13.0625 8.265625 \nQ 6.59375 17.96875 6.59375 36.375 \nQ 6.59375 54.828125 13.0625 64.515625 \nQ 19.53125 74.21875 31.78125 74.21875 \nz\n\" id=\"DejaVuSans-48\"/>\n       </defs>\n       <use xlink:href=\"#DejaVuSans-48\"/>\n      </g>\n     </g>\n    </g>\n    <g id=\"xtick_6\">\n     <g id=\"line2d_6\">\n      <g>\n       <use style=\"stroke:#000000;stroke-width:0.8;\" x=\"257.606392\" xlink:href=\"#m6fe817b949\" y=\"224.64\"/>\n      </g>\n     </g>\n     <g id=\"text_6\">\n      <!-- 1 -->\n      <g transform=\"translate(254.425142 239.238437)scale(0.1 -0.1)\">\n       <use xlink:href=\"#DejaVuSans-49\"/>\n      </g>\n     </g>\n    </g>\n    <g id=\"xtick_7\">\n     <g id=\"line2d_7\">\n      <g>\n       <use style=\"stroke:#000000;stroke-width:0.8;\" x=\"295.651847\" xlink:href=\"#m6fe817b949\" y=\"224.64\"/>\n      </g>\n     </g>\n     <g id=\"text_7\">\n      <!-- 2 -->\n      <g transform=\"translate(292.470597 239.238437)scale(0.1 -0.1)\">\n       <use xlink:href=\"#DejaVuSans-50\"/>\n      </g>\n     </g>\n    </g>\n    <g id=\"xtick_8\">\n     <g id=\"line2d_8\">\n      <g>\n       <use style=\"stroke:#000000;stroke-width:0.8;\" x=\"333.697301\" xlink:href=\"#m6fe817b949\" y=\"224.64\"/>\n      </g>\n     </g>\n     <g id=\"text_8\">\n      <!-- 3 -->\n      <g transform=\"translate(330.516051 239.238437)scale(0.1 -0.1)\">\n       <use xlink:href=\"#DejaVuSans-51\"/>\n      </g>\n     </g>\n    </g>\n    <g id=\"xtick_9\">\n     <g id=\"line2d_9\">\n      <g>\n       <use style=\"stroke:#000000;stroke-width:0.8;\" x=\"371.742756\" xlink:href=\"#m6fe817b949\" y=\"224.64\"/>\n      </g>\n     </g>\n     <g id=\"text_9\">\n      <!-- 4 -->\n      <g transform=\"translate(368.561506 239.238437)scale(0.1 -0.1)\">\n       <use xlink:href=\"#DejaVuSans-52\"/>\n      </g>\n     </g>\n    </g>\n    <g id=\"text_10\">\n     <!-- $z$ ($a_0$) -->\n     <g transform=\"translate(206.010938 252.916562)scale(0.1 -0.1)\">\n      <defs>\n       <path d=\"M 11.625 54.6875 \nL 54.296875 54.6875 \nL 52.6875 46.484375 \nL 11.53125 7.171875 \nL 45.515625 7.171875 \nL 44.09375 0 \nL -0.296875 0 \nL 1.3125 8.203125 \nL 42.484375 47.515625 \nL 10.203125 47.515625 \nz\n\" id=\"DejaVuSans-Oblique-122\"/>\n       <path id=\"DejaVuSans-32\"/>\n       <path d=\"M 31 75.875 \nQ 24.46875 64.65625 21.28125 53.65625 \nQ 18.109375 42.671875 18.109375 31.390625 \nQ 18.109375 20.125 21.3125 9.0625 \nQ 24.515625 -2 31 -13.1875 \nL 23.1875 -13.1875 \nQ 15.875 -1.703125 12.234375 9.375 \nQ 8.59375 20.453125 8.59375 31.390625 \nQ 8.59375 42.28125 12.203125 53.3125 \nQ 15.828125 64.359375 23.1875 75.875 \nz\n\" id=\"DejaVuSans-40\"/>\n       <path d=\"M 53.71875 31.203125 \nL 47.609375 0 \nL 38.625 0 \nL 40.28125 8.296875 \nQ 36.328125 3.421875 31.265625 1 \nQ 26.21875 -1.421875 20.015625 -1.421875 \nQ 13.03125 -1.421875 8.5625 2.84375 \nQ 4.109375 7.125 4.109375 13.8125 \nQ 4.109375 23.390625 11.75 28.953125 \nQ 19.390625 34.515625 32.8125 34.515625 \nL 45.3125 34.515625 \nL 45.796875 36.921875 \nQ 45.90625 37.3125 45.953125 37.765625 \nQ 46 38.234375 46 39.203125 \nQ 46 43.5625 42.453125 45.96875 \nQ 38.921875 48.390625 32.515625 48.390625 \nQ 28.125 48.390625 23.5 47.265625 \nQ 18.890625 46.140625 14.015625 43.890625 \nL 15.578125 52.203125 \nQ 20.65625 54.109375 25.515625 55.046875 \nQ 30.375 56 34.90625 56 \nQ 44.578125 56 49.625 51.796875 \nQ 54.6875 47.609375 54.6875 39.59375 \nQ 54.6875 37.984375 54.4375 35.8125 \nQ 54.203125 33.640625 53.71875 31.203125 \nz\nM 44 27.484375 \nL 35.015625 27.484375 \nQ 23.96875 27.484375 18.671875 24.53125 \nQ 13.375 21.578125 13.375 15.375 \nQ 13.375 11.078125 16.078125 8.640625 \nQ 18.796875 6.203125 23.578125 6.203125 \nQ 30.90625 6.203125 36.375 11.453125 \nQ 41.84375 16.703125 43.609375 25.484375 \nz\n\" id=\"DejaVuSans-Oblique-97\"/>\n       <path d=\"M 8.015625 75.875 \nL 15.828125 75.875 \nQ 23.140625 64.359375 26.78125 53.3125 \nQ 30.421875 42.28125 30.421875 31.390625 \nQ 30.421875 20.453125 26.78125 9.375 \nQ 23.140625 -1.703125 15.828125 -13.1875 \nL 8.015625 -13.1875 \nQ 14.5 -2 17.703125 9.0625 \nQ 20.90625 20.125 20.90625 31.390625 \nQ 20.90625 42.671875 17.703125 53.65625 \nQ 14.5 64.65625 8.015625 75.875 \nz\n\" id=\"DejaVuSans-41\"/>\n      </defs>\n      <use transform=\"translate(0 0.125)\" xlink:href=\"#DejaVuSans-Oblique-122\"/>\n      <use transform=\"translate(52.490234 0.125)\" xlink:href=\"#DejaVuSans-32\"/>\n      <use transform=\"translate(84.277344 0.125)\" xlink:href=\"#DejaVuSans-40\"/>\n      <use transform=\"translate(123.291016 0.125)\" xlink:href=\"#DejaVuSans-Oblique-97\"/>\n      <use transform=\"translate(184.570312 -16.28125)scale(0.7)\" xlink:href=\"#DejaVuSans-48\"/>\n      <use transform=\"translate(231.84082 0.125)\" xlink:href=\"#DejaVuSans-41\"/>\n     </g>\n    </g>\n   </g>\n   <g id=\"matplotlib.axis_2\">\n    <g id=\"ytick_1\">\n     <g id=\"line2d_10\">\n      <defs>\n       <path d=\"M 0 0 \nL -3.5 0 \n\" id=\"mfbc20f9721\" style=\"stroke:#000000;stroke-width:0.8;\"/>\n      </defs>\n      <g>\n       <use style=\"stroke:#000000;stroke-width:0.8;\" x=\"52.160938\" xlink:href=\"#mfbc20f9721\" y=\"214.588997\"/>\n      </g>\n     </g>\n     <g id=\"text_11\">\n      <!-- −0.6 -->\n      <g transform=\"translate(20.878125 218.388216)scale(0.1 -0.1)\">\n       <defs>\n        <path d=\"M 10.6875 12.40625 \nL 21 12.40625 \nL 21 0 \nL 10.6875 0 \nz\n\" id=\"DejaVuSans-46\"/>\n        <path d=\"M 33.015625 40.375 \nQ 26.375 40.375 22.484375 35.828125 \nQ 18.609375 31.296875 18.609375 23.390625 \nQ 18.609375 15.53125 22.484375 10.953125 \nQ 26.375 6.390625 33.015625 6.390625 \nQ 39.65625 6.390625 43.53125 10.953125 \nQ 47.40625 15.53125 47.40625 23.390625 \nQ 47.40625 31.296875 43.53125 35.828125 \nQ 39.65625 40.375 33.015625 40.375 \nz\nM 52.59375 71.296875 \nL 52.59375 62.3125 \nQ 48.875 64.0625 45.09375 64.984375 \nQ 41.3125 65.921875 37.59375 65.921875 \nQ 27.828125 65.921875 22.671875 59.328125 \nQ 17.53125 52.734375 16.796875 39.40625 \nQ 19.671875 43.65625 24.015625 45.921875 \nQ 28.375 48.1875 33.59375 48.1875 \nQ 44.578125 48.1875 50.953125 41.515625 \nQ 57.328125 34.859375 57.328125 23.390625 \nQ 57.328125 12.15625 50.6875 5.359375 \nQ 44.046875 -1.421875 33.015625 -1.421875 \nQ 20.359375 -1.421875 13.671875 8.265625 \nQ 6.984375 17.96875 6.984375 36.375 \nQ 6.984375 53.65625 15.1875 63.9375 \nQ 23.390625 74.21875 37.203125 74.21875 \nQ 40.921875 74.21875 44.703125 73.484375 \nQ 48.484375 72.75 52.59375 71.296875 \nz\n\" id=\"DejaVuSans-54\"/>\n       </defs>\n       <use xlink:href=\"#DejaVuSans-8722\"/>\n       <use x=\"83.789062\" xlink:href=\"#DejaVuSans-48\"/>\n       <use x=\"147.412109\" xlink:href=\"#DejaVuSans-46\"/>\n       <use x=\"179.199219\" xlink:href=\"#DejaVuSans-54\"/>\n      </g>\n     </g>\n    </g>\n    <g id=\"ytick_2\">\n     <g id=\"line2d_11\">\n      <g>\n       <use style=\"stroke:#000000;stroke-width:0.8;\" x=\"52.160938\" xlink:href=\"#mfbc20f9721\" y=\"181.699331\"/>\n      </g>\n     </g>\n     <g id=\"text_12\">\n      <!-- −0.4 -->\n      <g transform=\"translate(20.878125 185.49855)scale(0.1 -0.1)\">\n       <use xlink:href=\"#DejaVuSans-8722\"/>\n       <use x=\"83.789062\" xlink:href=\"#DejaVuSans-48\"/>\n       <use x=\"147.412109\" xlink:href=\"#DejaVuSans-46\"/>\n       <use x=\"179.199219\" xlink:href=\"#DejaVuSans-52\"/>\n      </g>\n     </g>\n    </g>\n    <g id=\"ytick_3\">\n     <g id=\"line2d_12\">\n      <g>\n       <use style=\"stroke:#000000;stroke-width:0.8;\" x=\"52.160938\" xlink:href=\"#mfbc20f9721\" y=\"148.809666\"/>\n      </g>\n     </g>\n     <g id=\"text_13\">\n      <!-- −0.2 -->\n      <g transform=\"translate(20.878125 152.608884)scale(0.1 -0.1)\">\n       <use xlink:href=\"#DejaVuSans-8722\"/>\n       <use x=\"83.789062\" xlink:href=\"#DejaVuSans-48\"/>\n       <use x=\"147.412109\" xlink:href=\"#DejaVuSans-46\"/>\n       <use x=\"179.199219\" xlink:href=\"#DejaVuSans-50\"/>\n      </g>\n     </g>\n    </g>\n    <g id=\"ytick_4\">\n     <g id=\"line2d_13\">\n      <g>\n       <use style=\"stroke:#000000;stroke-width:0.8;\" x=\"52.160938\" xlink:href=\"#mfbc20f9721\" y=\"115.92\"/>\n      </g>\n     </g>\n     <g id=\"text_14\">\n      <!-- 0.0 -->\n      <g transform=\"translate(29.257812 119.719219)scale(0.1 -0.1)\">\n       <use xlink:href=\"#DejaVuSans-48\"/>\n       <use x=\"63.623047\" xlink:href=\"#DejaVuSans-46\"/>\n       <use x=\"95.410156\" xlink:href=\"#DejaVuSans-48\"/>\n      </g>\n     </g>\n    </g>\n    <g id=\"ytick_5\">\n     <g id=\"line2d_14\">\n      <g>\n       <use style=\"stroke:#000000;stroke-width:0.8;\" x=\"52.160938\" xlink:href=\"#mfbc20f9721\" y=\"83.030334\"/>\n      </g>\n     </g>\n     <g id=\"text_15\">\n      <!-- 0.2 -->\n      <g transform=\"translate(29.257812 86.829553)scale(0.1 -0.1)\">\n       <use xlink:href=\"#DejaVuSans-48\"/>\n       <use x=\"63.623047\" xlink:href=\"#DejaVuSans-46\"/>\n       <use x=\"95.410156\" xlink:href=\"#DejaVuSans-50\"/>\n      </g>\n     </g>\n    </g>\n    <g id=\"ytick_6\">\n     <g id=\"line2d_15\">\n      <g>\n       <use style=\"stroke:#000000;stroke-width:0.8;\" x=\"52.160938\" xlink:href=\"#mfbc20f9721\" y=\"50.140669\"/>\n      </g>\n     </g>\n     <g id=\"text_16\">\n      <!-- 0.4 -->\n      <g transform=\"translate(29.257812 53.939888)scale(0.1 -0.1)\">\n       <use xlink:href=\"#DejaVuSans-48\"/>\n       <use x=\"63.623047\" xlink:href=\"#DejaVuSans-46\"/>\n       <use x=\"95.410156\" xlink:href=\"#DejaVuSans-52\"/>\n      </g>\n     </g>\n    </g>\n    <g id=\"ytick_7\">\n     <g id=\"line2d_16\">\n      <g>\n       <use style=\"stroke:#000000;stroke-width:0.8;\" x=\"52.160938\" xlink:href=\"#mfbc20f9721\" y=\"17.251003\"/>\n      </g>\n     </g>\n     <g id=\"text_17\">\n      <!-- 0.6 -->\n      <g transform=\"translate(29.257812 21.050222)scale(0.1 -0.1)\">\n       <use xlink:href=\"#DejaVuSans-48\"/>\n       <use x=\"63.623047\" xlink:href=\"#DejaVuSans-46\"/>\n       <use x=\"95.410156\" xlink:href=\"#DejaVuSans-54\"/>\n      </g>\n     </g>\n    </g>\n    <g id=\"text_18\">\n     <!-- 1S atomic orbital -->\n     <g transform=\"translate(14.798437 158.637187)rotate(-90)scale(0.1 -0.1)\">\n      <defs>\n       <path d=\"M 53.515625 70.515625 \nL 53.515625 60.890625 \nQ 47.90625 63.578125 42.921875 64.890625 \nQ 37.9375 66.21875 33.296875 66.21875 \nQ 25.25 66.21875 20.875 63.09375 \nQ 16.5 59.96875 16.5 54.203125 \nQ 16.5 49.359375 19.40625 46.890625 \nQ 22.3125 44.4375 30.421875 42.921875 \nL 36.375 41.703125 \nQ 47.40625 39.59375 52.65625 34.296875 \nQ 57.90625 29 57.90625 20.125 \nQ 57.90625 9.515625 50.796875 4.046875 \nQ 43.703125 -1.421875 29.984375 -1.421875 \nQ 24.8125 -1.421875 18.96875 -0.25 \nQ 13.140625 0.921875 6.890625 3.21875 \nL 6.890625 13.375 \nQ 12.890625 10.015625 18.65625 8.296875 \nQ 24.421875 6.59375 29.984375 6.59375 \nQ 38.421875 6.59375 43.015625 9.90625 \nQ 47.609375 13.234375 47.609375 19.390625 \nQ 47.609375 24.75 44.3125 27.78125 \nQ 41.015625 30.8125 33.5 32.328125 \nL 27.484375 33.5 \nQ 16.453125 35.6875 11.515625 40.375 \nQ 6.59375 45.0625 6.59375 53.421875 \nQ 6.59375 63.09375 13.40625 68.65625 \nQ 20.21875 74.21875 32.171875 74.21875 \nQ 37.3125 74.21875 42.625 73.28125 \nQ 47.953125 72.359375 53.515625 70.515625 \nz\n\" id=\"DejaVuSans-83\"/>\n       <path d=\"M 34.28125 27.484375 \nQ 23.390625 27.484375 19.1875 25 \nQ 14.984375 22.515625 14.984375 16.5 \nQ 14.984375 11.71875 18.140625 8.90625 \nQ 21.296875 6.109375 26.703125 6.109375 \nQ 34.1875 6.109375 38.703125 11.40625 \nQ 43.21875 16.703125 43.21875 25.484375 \nL 43.21875 27.484375 \nz\nM 52.203125 31.203125 \nL 52.203125 0 \nL 43.21875 0 \nL 43.21875 8.296875 \nQ 40.140625 3.328125 35.546875 0.953125 \nQ 30.953125 -1.421875 24.3125 -1.421875 \nQ 15.921875 -1.421875 10.953125 3.296875 \nQ 6 8.015625 6 15.921875 \nQ 6 25.140625 12.171875 29.828125 \nQ 18.359375 34.515625 30.609375 34.515625 \nL 43.21875 34.515625 \nL 43.21875 35.40625 \nQ 43.21875 41.609375 39.140625 45 \nQ 35.0625 48.390625 27.6875 48.390625 \nQ 23 48.390625 18.546875 47.265625 \nQ 14.109375 46.140625 10.015625 43.890625 \nL 10.015625 52.203125 \nQ 14.9375 54.109375 19.578125 55.046875 \nQ 24.21875 56 28.609375 56 \nQ 40.484375 56 46.34375 49.84375 \nQ 52.203125 43.703125 52.203125 31.203125 \nz\n\" id=\"DejaVuSans-97\"/>\n       <path d=\"M 18.3125 70.21875 \nL 18.3125 54.6875 \nL 36.8125 54.6875 \nL 36.8125 47.703125 \nL 18.3125 47.703125 \nL 18.3125 18.015625 \nQ 18.3125 11.328125 20.140625 9.421875 \nQ 21.96875 7.515625 27.59375 7.515625 \nL 36.8125 7.515625 \nL 36.8125 0 \nL 27.59375 0 \nQ 17.1875 0 13.234375 3.875 \nQ 9.28125 7.765625 9.28125 18.015625 \nL 9.28125 47.703125 \nL 2.6875 47.703125 \nL 2.6875 54.6875 \nL 9.28125 54.6875 \nL 9.28125 70.21875 \nz\n\" id=\"DejaVuSans-116\"/>\n       <path d=\"M 30.609375 48.390625 \nQ 23.390625 48.390625 19.1875 42.75 \nQ 14.984375 37.109375 14.984375 27.296875 \nQ 14.984375 17.484375 19.15625 11.84375 \nQ 23.34375 6.203125 30.609375 6.203125 \nQ 37.796875 6.203125 41.984375 11.859375 \nQ 46.1875 17.53125 46.1875 27.296875 \nQ 46.1875 37.015625 41.984375 42.703125 \nQ 37.796875 48.390625 30.609375 48.390625 \nz\nM 30.609375 56 \nQ 42.328125 56 49.015625 48.375 \nQ 55.71875 40.765625 55.71875 27.296875 \nQ 55.71875 13.875 49.015625 6.21875 \nQ 42.328125 -1.421875 30.609375 -1.421875 \nQ 18.84375 -1.421875 12.171875 6.21875 \nQ 5.515625 13.875 5.515625 27.296875 \nQ 5.515625 40.765625 12.171875 48.375 \nQ 18.84375 56 30.609375 56 \nz\n\" id=\"DejaVuSans-111\"/>\n       <path d=\"M 52 44.1875 \nQ 55.375 50.25 60.0625 53.125 \nQ 64.75 56 71.09375 56 \nQ 79.640625 56 84.28125 50.015625 \nQ 88.921875 44.046875 88.921875 33.015625 \nL 88.921875 0 \nL 79.890625 0 \nL 79.890625 32.71875 \nQ 79.890625 40.578125 77.09375 44.375 \nQ 74.3125 48.1875 68.609375 48.1875 \nQ 61.625 48.1875 57.5625 43.546875 \nQ 53.515625 38.921875 53.515625 30.90625 \nL 53.515625 0 \nL 44.484375 0 \nL 44.484375 32.71875 \nQ 44.484375 40.625 41.703125 44.40625 \nQ 38.921875 48.1875 33.109375 48.1875 \nQ 26.21875 48.1875 22.15625 43.53125 \nQ 18.109375 38.875 18.109375 30.90625 \nL 18.109375 0 \nL 9.078125 0 \nL 9.078125 54.6875 \nL 18.109375 54.6875 \nL 18.109375 46.1875 \nQ 21.1875 51.21875 25.484375 53.609375 \nQ 29.78125 56 35.6875 56 \nQ 41.65625 56 45.828125 52.96875 \nQ 50 49.953125 52 44.1875 \nz\n\" id=\"DejaVuSans-109\"/>\n       <path d=\"M 9.421875 54.6875 \nL 18.40625 54.6875 \nL 18.40625 0 \nL 9.421875 0 \nz\nM 9.421875 75.984375 \nL 18.40625 75.984375 \nL 18.40625 64.59375 \nL 9.421875 64.59375 \nz\n\" id=\"DejaVuSans-105\"/>\n       <path d=\"M 48.78125 52.59375 \nL 48.78125 44.1875 \nQ 44.96875 46.296875 41.140625 47.34375 \nQ 37.3125 48.390625 33.40625 48.390625 \nQ 24.65625 48.390625 19.8125 42.84375 \nQ 14.984375 37.3125 14.984375 27.296875 \nQ 14.984375 17.28125 19.8125 11.734375 \nQ 24.65625 6.203125 33.40625 6.203125 \nQ 37.3125 6.203125 41.140625 7.25 \nQ 44.96875 8.296875 48.78125 10.40625 \nL 48.78125 2.09375 \nQ 45.015625 0.34375 40.984375 -0.53125 \nQ 36.96875 -1.421875 32.421875 -1.421875 \nQ 20.0625 -1.421875 12.78125 6.34375 \nQ 5.515625 14.109375 5.515625 27.296875 \nQ 5.515625 40.671875 12.859375 48.328125 \nQ 20.21875 56 33.015625 56 \nQ 37.15625 56 41.109375 55.140625 \nQ 45.0625 54.296875 48.78125 52.59375 \nz\n\" id=\"DejaVuSans-99\"/>\n       <path d=\"M 41.109375 46.296875 \nQ 39.59375 47.171875 37.8125 47.578125 \nQ 36.03125 48 33.890625 48 \nQ 26.265625 48 22.1875 43.046875 \nQ 18.109375 38.09375 18.109375 28.8125 \nL 18.109375 0 \nL 9.078125 0 \nL 9.078125 54.6875 \nL 18.109375 54.6875 \nL 18.109375 46.1875 \nQ 20.953125 51.171875 25.484375 53.578125 \nQ 30.03125 56 36.53125 56 \nQ 37.453125 56 38.578125 55.875 \nQ 39.703125 55.765625 41.0625 55.515625 \nz\n\" id=\"DejaVuSans-114\"/>\n       <path d=\"M 48.6875 27.296875 \nQ 48.6875 37.203125 44.609375 42.84375 \nQ 40.53125 48.484375 33.40625 48.484375 \nQ 26.265625 48.484375 22.1875 42.84375 \nQ 18.109375 37.203125 18.109375 27.296875 \nQ 18.109375 17.390625 22.1875 11.75 \nQ 26.265625 6.109375 33.40625 6.109375 \nQ 40.53125 6.109375 44.609375 11.75 \nQ 48.6875 17.390625 48.6875 27.296875 \nz\nM 18.109375 46.390625 \nQ 20.953125 51.265625 25.265625 53.625 \nQ 29.59375 56 35.59375 56 \nQ 45.5625 56 51.78125 48.09375 \nQ 58.015625 40.1875 58.015625 27.296875 \nQ 58.015625 14.40625 51.78125 6.484375 \nQ 45.5625 -1.421875 35.59375 -1.421875 \nQ 29.59375 -1.421875 25.265625 0.953125 \nQ 20.953125 3.328125 18.109375 8.203125 \nL 18.109375 0 \nL 9.078125 0 \nL 9.078125 75.984375 \nL 18.109375 75.984375 \nz\n\" id=\"DejaVuSans-98\"/>\n       <path d=\"M 9.421875 75.984375 \nL 18.40625 75.984375 \nL 18.40625 0 \nL 9.421875 0 \nz\n\" id=\"DejaVuSans-108\"/>\n      </defs>\n      <use xlink:href=\"#DejaVuSans-49\"/>\n      <use x=\"63.623047\" xlink:href=\"#DejaVuSans-83\"/>\n      <use x=\"127.099609\" xlink:href=\"#DejaVuSans-32\"/>\n      <use x=\"158.886719\" xlink:href=\"#DejaVuSans-97\"/>\n      <use x=\"220.166016\" xlink:href=\"#DejaVuSans-116\"/>\n      <use x=\"259.375\" xlink:href=\"#DejaVuSans-111\"/>\n      <use x=\"320.556641\" xlink:href=\"#DejaVuSans-109\"/>\n      <use x=\"417.96875\" xlink:href=\"#DejaVuSans-105\"/>\n      <use x=\"445.751953\" xlink:href=\"#DejaVuSans-99\"/>\n      <use x=\"500.732422\" xlink:href=\"#DejaVuSans-32\"/>\n      <use x=\"532.519531\" xlink:href=\"#DejaVuSans-111\"/>\n      <use x=\"593.701172\" xlink:href=\"#DejaVuSans-114\"/>\n      <use x=\"634.814453\" xlink:href=\"#DejaVuSans-98\"/>\n      <use x=\"698.291016\" xlink:href=\"#DejaVuSans-105\"/>\n      <use x=\"726.074219\" xlink:href=\"#DejaVuSans-116\"/>\n      <use x=\"765.283203\" xlink:href=\"#DejaVuSans-97\"/>\n      <use x=\"826.5625\" xlink:href=\"#DejaVuSans-108\"/>\n     </g>\n    </g>\n   </g>\n   <g id=\"line2d_17\">\n    <path clip-path=\"url(#p2c7eb381d3)\" d=\"M 67.379119 118.216743 \nL 78.04251 119.040611 \nL 86.877891 119.939342 \nL 94.18993 120.905267 \nL 100.283296 121.930307 \nL 105.462657 123.012535 \nL 110.33735 124.255493 \nL 114.907375 125.660149 \nL 119.172731 127.215076 \nL 123.133419 128.896193 \nL 127.094107 130.826103 \nL 131.054795 133.018995 \nL 135.015483 135.482652 \nL 138.976171 138.220184 \nL 142.936859 141.236681 \nL 146.592879 144.286498 \nL 149.94423 147.34403 \nL 152.990913 150.398155 \nL 155.732928 153.437596 \nL 158.170274 156.435197 \nL 160.607621 159.777483 \nL 163.044967 163.529749 \nL 165.482313 167.747943 \nL 167.91966 172.46413 \nL 170.357006 177.669572 \nL 173.403689 184.756594 \nL 181.325065 203.655386 \nL 183.153075 207.330622 \nL 184.676417 209.955516 \nL 185.89509 211.703722 \nL 187.113763 213.092311 \nL 188.027768 213.874019 \nL 188.941773 214.416685 \nL 189.855778 214.707598 \nL 190.769783 214.736189 \nL 191.683788 214.494225 \nL 192.597793 213.975939 \nL 193.511797 213.178138 \nL 194.425802 212.100233 \nL 195.644476 210.231159 \nL 196.863149 207.879742 \nL 198.081822 205.065218 \nL 199.605164 200.935926 \nL 201.128505 196.18695 \nL 202.956515 189.773775 \nL 205.089193 181.481302 \nL 207.831208 169.876178 \nL 211.791896 152.020994 \nL 222.759955 101.016833 \nL 230.681331 64.647123 \nL 233.728014 51.602432 \nL 236.16536 42.066225 \nL 238.298038 34.657079 \nL 240.126048 29.174198 \nL 241.64939 25.311107 \nL 242.868063 22.725292 \nL 244.086736 20.613095 \nL 245.305409 18.990088 \nL 246.219414 18.098854 \nL 247.133419 17.487624 \nL 248.047424 17.154067 \nL 248.961429 17.093269 \nL 249.875434 17.297803 \nL 250.789439 17.757862 \nL 251.703444 18.461425 \nL 252.922117 19.753809 \nL 254.14079 21.416023 \nL 255.664132 23.949119 \nL 257.492141 27.538455 \nL 259.62482 32.281738 \nL 262.976171 40.378759 \nL 267.850864 52.103641 \nL 270.592879 58.11889 \nL 273.030225 62.960188 \nL 275.467571 67.301169 \nL 277.904918 71.165331 \nL 280.342264 74.60414 \nL 282.779611 77.681725 \nL 285.521625 80.792892 \nL 288.568309 83.908352 \nL 291.91966 87.017797 \nL 295.57568 90.113521 \nL 299.536367 93.174148 \nL 303.497055 95.95407 \nL 307.457743 98.459718 \nL 311.418431 100.693915 \nL 315.379119 102.663518 \nL 319.339807 104.381746 \nL 323.300495 105.867591 \nL 327.565852 107.234277 \nL 332.135876 108.464621 \nL 337.010569 109.552608 \nL 342.494598 110.552656 \nL 348.892633 111.488088 \nL 356.50934 112.364711 \nL 365.64939 113.18119 \nL 371.742756 113.623257 \nL 371.742756 113.623257 \n\" style=\"fill:none;stroke:#1f77b4;stroke-linecap:square;stroke-width:4;\"/>\n   </g>\n   <g id=\"line2d_18\">\n    <path clip-path=\"url(#p2c7eb381d3)\" d=\"M 67.379119 114.521968 \nL 79.565852 113.857921 \nL 89.619906 113.090645 \nL 97.84595 112.244947 \nL 104.853321 111.307456 \nL 110.946687 110.278251 \nL 116.430716 109.139885 \nL 121.610078 107.845425 \nL 126.48477 106.404683 \nL 131.359463 104.725272 \nL 135.929488 102.917111 \nL 140.499512 100.867141 \nL 144.764869 98.715758 \nL 148.725557 96.480325 \nL 152.381576 94.165869 \nL 155.732928 91.771835 \nL 158.779611 89.304865 \nL 161.521625 86.791211 \nL 164.26364 83.949101 \nL 166.700987 81.11551 \nL 169.443001 77.566468 \nL 172.185016 73.652427 \nL 175.536367 68.472716 \nL 183.457743 56.027474 \nL 185.89509 52.736808 \nL 187.7231 50.610999 \nL 189.551109 48.841985 \nL 191.074451 47.671927 \nL 192.597793 46.796132 \nL 194.121134 46.221929 \nL 195.339807 45.978622 \nL 196.55848 45.921731 \nL 198.081822 46.098436 \nL 199.605164 46.526298 \nL 201.128505 47.17242 \nL 202.956515 48.180849 \nL 205.393861 49.796564 \nL 211.791896 54.215617 \nL 213.924574 55.355721 \nL 215.752584 56.085356 \nL 217.580594 56.54803 \nL 219.103935 56.713175 \nL 220.627277 56.671752 \nL 222.150618 56.425128 \nL 223.67396 55.981486 \nL 225.501969 55.210485 \nL 227.634648 54.031423 \nL 230.376662 52.202635 \nL 236.470028 47.997955 \nL 238.298038 47.027527 \nL 239.82138 46.422116 \nL 241.344721 46.042072 \nL 242.868063 45.918917 \nL 244.086736 46.021694 \nL 245.305409 46.312606 \nL 246.524082 46.796132 \nL 248.047424 47.671927 \nL 249.570766 48.841985 \nL 251.094107 50.290038 \nL 252.922117 52.359983 \nL 255.054795 55.163082 \nL 257.492141 58.751615 \nL 261.452829 65.046348 \nL 266.632191 73.197317 \nL 269.678874 77.566468 \nL 272.420888 81.11551 \nL 275.162903 84.282455 \nL 277.904918 87.085882 \nL 280.646933 89.565966 \nL 283.693616 92.002161 \nL 287.044967 94.36952 \nL 290.700987 96.661494 \nL 294.661675 98.877694 \nL 298.927031 101.011706 \nL 303.497055 103.044993 \nL 308.06708 104.837601 \nL 312.941773 106.501507 \nL 317.816466 107.928041 \nL 322.995827 109.209068 \nL 328.479856 110.335222 \nL 334.573223 111.353252 \nL 341.275925 112.244947 \nL 349.197301 113.063313 \nL 358.33735 113.777259 \nL 369.305409 114.407423 \nL 371.742756 114.521968 \nL 371.742756 114.521968 \n\" style=\"fill:none;stroke:#ff7f0e;stroke-linecap:square;stroke-width:4;\"/>\n   </g>\n   <g id=\"patch_3\">\n    <path d=\"M 52.160938 224.64 \nL 52.160938 7.2 \n\" style=\"fill:none;stroke:#000000;stroke-linecap:square;stroke-linejoin:miter;stroke-width:0.8;\"/>\n   </g>\n   <g id=\"patch_4\">\n    <path d=\"M 386.960938 224.64 \nL 386.960938 7.2 \n\" style=\"fill:none;stroke:#000000;stroke-linecap:square;stroke-linejoin:miter;stroke-width:0.8;\"/>\n   </g>\n   <g id=\"patch_5\">\n    <path d=\"M 52.160938 224.64 \nL 386.960938 224.64 \n\" style=\"fill:none;stroke:#000000;stroke-linecap:square;stroke-linejoin:miter;stroke-width:0.8;\"/>\n   </g>\n   <g id=\"patch_6\">\n    <path d=\"M 52.160938 7.2 \nL 386.960938 7.2 \n\" style=\"fill:none;stroke:#000000;stroke-linecap:square;stroke-linejoin:miter;stroke-width:0.8;\"/>\n   </g>\n  </g>\n </g>\n <defs>\n  <clipPath id=\"p2c7eb381d3\">\n   <rect height=\"217.44\" width=\"334.8\" x=\"52.160938\" y=\"7.2\"/>\n  </clipPath>\n </defs>\n</svg>\n",
      "image/png": "[encoded data removed]"
     },
     "metadata": {
      "needs_background": "light"
     }
    }
   ],
   "source": [
    "fig, ax = plt.subplots(1,1)\n",
    "ax.plot(coords[:,2],oo_wf,'-', lw = 4)\n",
    "ax.set_xlabel('$z$ ($a_0$)')\n",
    "ax.set_ylabel('1S atomic orbital')\n",
    "plt.show()"
   ]
  },
  {
   "cell_type": "markdown",
   "metadata": {
    "id": "4YWLyeOHb9Gl"
   },
   "source": [
    "# **Using mo**"
   ]
  },
  {
   "cell_type": "markdown",
   "metadata": {
    "id": "k7UeLEiZcHum"
   },
   "source": [
    "AO wave function into MO wave function."
   ]
  },
  {
   "cell_type": "code",
   "execution_count": 32,
   "metadata": {
    "id": "lbX_DoQCcMpr"
   },
   "outputs": [],
   "source": [
    "mo_wf = ao_wf @ ao2mo"
   ]
  },
  {
   "cell_type": "code",
   "execution_count": 33,
   "metadata": {
    "colab": {
     "base_uri": "https://localhost:8080/",
     "height": 283
    },
    "id": "7VAx0s5OceTA",
    "outputId": "26114585-95ca-4de5-e297-4941f3f33ad7"
   },
   "outputs": [
    {
     "output_type": "display_data",
     "data": {
      "text/plain": "<Figure size 432x288 with 1 Axes>",
      "image/svg+xml": "<?xml version=\"1.0\" encoding=\"utf-8\" standalone=\"no\"?>\n<!DOCTYPE svg PUBLIC \"-//W3C//DTD SVG 1.1//EN\"\n  \"http://www.w3.org/Graphics/SVG/1.1/DTD/svg11.dtd\">\n<!-- Created with matplotlib (https://matplotlib.org/) -->\n<svg height=\"262.19625pt\" version=\"1.1\" viewBox=\"0 0 394.160937 262.19625\" width=\"394.160937pt\" xmlns=\"http://www.w3.org/2000/svg\" xmlns:xlink=\"http://www.w3.org/1999/xlink\">\n <metadata>\n  <rdf:RDF xmlns:cc=\"http://creativecommons.org/ns#\" xmlns:dc=\"http://purl.org/dc/elements/1.1/\" xmlns:rdf=\"http://www.w3.org/1999/02/22-rdf-syntax-ns#\">\n   <cc:Work>\n    <dc:type rdf:resource=\"http://purl.org/dc/dcmitype/StillImage\"/>\n    <dc:date>1970-01-03T09:42:30.721499</dc:date>\n    <dc:format>image/svg+xml</dc:format>\n    <dc:creator>\n     <cc:Agent>\n      <dc:title>Matplotlib v3.3.2, https://matplotlib.org/</dc:title>\n     </cc:Agent>\n    </dc:creator>\n   </cc:Work>\n  </rdf:RDF>\n </metadata>\n <defs>\n  <style type=\"text/css\">*{stroke-linecap:butt;stroke-linejoin:round;}</style>\n </defs>\n <g id=\"figure_1\">\n  <g id=\"patch_1\">\n   <path d=\"M 0 262.19625 \nL 394.160937 262.19625 \nL 394.160937 0 \nL 0 0 \nz\n\" style=\"fill:none;\"/>\n  </g>\n  <g id=\"axes_1\">\n   <g id=\"patch_2\">\n    <path d=\"M 52.160938 224.64 \nL 386.960938 224.64 \nL 386.960938 7.2 \nL 52.160938 7.2 \nz\n\" style=\"fill:#ffffff;\"/>\n   </g>\n   <g id=\"matplotlib.axis_1\">\n    <g id=\"xtick_1\">\n     <g id=\"line2d_1\">\n      <defs>\n       <path d=\"M 0 0 \nL 0 3.5 \n\" id=\"md79952a7cd\" style=\"stroke:#000000;stroke-width:0.8;\"/>\n      </defs>\n      <g>\n       <use style=\"stroke:#000000;stroke-width:0.8;\" x=\"67.379119\" xlink:href=\"#md79952a7cd\" y=\"224.64\"/>\n      </g>\n     </g>\n     <g id=\"text_1\">\n      <!-- −4 -->\n      <g transform=\"translate(60.008026 239.238437)scale(0.1 -0.1)\">\n       <defs>\n        <path d=\"M 10.59375 35.5 \nL 73.1875 35.5 \nL 73.1875 27.203125 \nL 10.59375 27.203125 \nz\n\" id=\"DejaVuSans-8722\"/>\n        <path d=\"M 37.796875 64.3125 \nL 12.890625 25.390625 \nL 37.796875 25.390625 \nz\nM 35.203125 72.90625 \nL 47.609375 72.90625 \nL 47.609375 25.390625 \nL 58.015625 25.390625 \nL 58.015625 17.1875 \nL 47.609375 17.1875 \nL 47.609375 0 \nL 37.796875 0 \nL 37.796875 17.1875 \nL 4.890625 17.1875 \nL 4.890625 26.703125 \nz\n\" id=\"DejaVuSans-52\"/>\n       </defs>\n       <use xlink:href=\"#DejaVuSans-8722\"/>\n       <use x=\"83.789062\" xlink:href=\"#DejaVuSans-52\"/>\n      </g>\n     </g>\n    </g>\n    <g id=\"xtick_2\">\n     <g id=\"line2d_2\">\n      <g>\n       <use style=\"stroke:#000000;stroke-width:0.8;\" x=\"105.424574\" xlink:href=\"#md79952a7cd\" y=\"224.64\"/>\n      </g>\n     </g>\n     <g id=\"text_2\">\n      <!-- −3 -->\n      <g transform=\"translate(98.05348 239.238437)scale(0.1 -0.1)\">\n       <defs>\n        <path d=\"M 40.578125 39.3125 \nQ 47.65625 37.796875 51.625 33 \nQ 55.609375 28.21875 55.609375 21.1875 \nQ 55.609375 10.40625 48.1875 4.484375 \nQ 40.765625 -1.421875 27.09375 -1.421875 \nQ 22.515625 -1.421875 17.65625 -0.515625 \nQ 12.796875 0.390625 7.625 2.203125 \nL 7.625 11.71875 \nQ 11.71875 9.328125 16.59375 8.109375 \nQ 21.484375 6.890625 26.8125 6.890625 \nQ 36.078125 6.890625 40.9375 10.546875 \nQ 45.796875 14.203125 45.796875 21.1875 \nQ 45.796875 27.640625 41.28125 31.265625 \nQ 36.765625 34.90625 28.71875 34.90625 \nL 20.21875 34.90625 \nL 20.21875 43.015625 \nL 29.109375 43.015625 \nQ 36.375 43.015625 40.234375 45.921875 \nQ 44.09375 48.828125 44.09375 54.296875 \nQ 44.09375 59.90625 40.109375 62.90625 \nQ 36.140625 65.921875 28.71875 65.921875 \nQ 24.65625 65.921875 20.015625 65.03125 \nQ 15.375 64.15625 9.8125 62.3125 \nL 9.8125 71.09375 \nQ 15.4375 72.65625 20.34375 73.4375 \nQ 25.25 74.21875 29.59375 74.21875 \nQ 40.828125 74.21875 47.359375 69.109375 \nQ 53.90625 64.015625 53.90625 55.328125 \nQ 53.90625 49.265625 50.4375 45.09375 \nQ 46.96875 40.921875 40.578125 39.3125 \nz\n\" id=\"DejaVuSans-51\"/>\n       </defs>\n       <use xlink:href=\"#DejaVuSans-8722\"/>\n       <use x=\"83.789062\" xlink:href=\"#DejaVuSans-51\"/>\n      </g>\n     </g>\n    </g>\n    <g id=\"xtick_3\">\n     <g id=\"line2d_3\">\n      <g>\n       <use style=\"stroke:#000000;stroke-width:0.8;\" x=\"143.470028\" xlink:href=\"#md79952a7cd\" y=\"224.64\"/>\n      </g>\n     </g>\n     <g id=\"text_3\">\n      <!-- −2 -->\n      <g transform=\"translate(136.098935 239.238437)scale(0.1 -0.1)\">\n       <defs>\n        <path d=\"M 19.1875 8.296875 \nL 53.609375 8.296875 \nL 53.609375 0 \nL 7.328125 0 \nL 7.328125 8.296875 \nQ 12.9375 14.109375 22.625 23.890625 \nQ 32.328125 33.6875 34.8125 36.53125 \nQ 39.546875 41.84375 41.421875 45.53125 \nQ 43.3125 49.21875 43.3125 52.78125 \nQ 43.3125 58.59375 39.234375 62.25 \nQ 35.15625 65.921875 28.609375 65.921875 \nQ 23.96875 65.921875 18.8125 64.3125 \nQ 13.671875 62.703125 7.8125 59.421875 \nL 7.8125 69.390625 \nQ 13.765625 71.78125 18.9375 73 \nQ 24.125 74.21875 28.421875 74.21875 \nQ 39.75 74.21875 46.484375 68.546875 \nQ 53.21875 62.890625 53.21875 53.421875 \nQ 53.21875 48.921875 51.53125 44.890625 \nQ 49.859375 40.875 45.40625 35.40625 \nQ 44.1875 33.984375 37.640625 27.21875 \nQ 31.109375 20.453125 19.1875 8.296875 \nz\n\" id=\"DejaVuSans-50\"/>\n       </defs>\n       <use xlink:href=\"#DejaVuSans-8722\"/>\n       <use x=\"83.789062\" xlink:href=\"#DejaVuSans-50\"/>\n      </g>\n     </g>\n    </g>\n    <g id=\"xtick_4\">\n     <g id=\"line2d_4\">\n      <g>\n       <use style=\"stroke:#000000;stroke-width:0.8;\" x=\"181.515483\" xlink:href=\"#md79952a7cd\" y=\"224.64\"/>\n      </g>\n     </g>\n     <g id=\"text_4\">\n      <!-- −1 -->\n      <g transform=\"translate(174.144389 239.238437)scale(0.1 -0.1)\">\n       <defs>\n        <path d=\"M 12.40625 8.296875 \nL 28.515625 8.296875 \nL 28.515625 63.921875 \nL 10.984375 60.40625 \nL 10.984375 69.390625 \nL 28.421875 72.90625 \nL 38.28125 72.90625 \nL 38.28125 8.296875 \nL 54.390625 8.296875 \nL 54.390625 0 \nL 12.40625 0 \nz\n\" id=\"DejaVuSans-49\"/>\n       </defs>\n       <use xlink:href=\"#DejaVuSans-8722\"/>\n       <use x=\"83.789062\" xlink:href=\"#DejaVuSans-49\"/>\n      </g>\n     </g>\n    </g>\n    <g id=\"xtick_5\">\n     <g id=\"line2d_5\">\n      <g>\n       <use style=\"stroke:#000000;stroke-width:0.8;\" x=\"219.560938\" xlink:href=\"#md79952a7cd\" y=\"224.64\"/>\n      </g>\n     </g>\n     <g id=\"text_5\">\n      <!-- 0 -->\n      <g transform=\"translate(216.379688 239.238437)scale(0.1 -0.1)\">\n       <defs>\n        <path d=\"M 31.78125 66.40625 \nQ 24.171875 66.40625 20.328125 58.90625 \nQ 16.5 51.421875 16.5 36.375 \nQ 16.5 21.390625 20.328125 13.890625 \nQ 24.171875 6.390625 31.78125 6.390625 \nQ 39.453125 6.390625 43.28125 13.890625 \nQ 47.125 21.390625 47.125 36.375 \nQ 47.125 51.421875 43.28125 58.90625 \nQ 39.453125 66.40625 31.78125 66.40625 \nz\nM 31.78125 74.21875 \nQ 44.046875 74.21875 50.515625 64.515625 \nQ 56.984375 54.828125 56.984375 36.375 \nQ 56.984375 17.96875 50.515625 8.265625 \nQ 44.046875 -1.421875 31.78125 -1.421875 \nQ 19.53125 -1.421875 13.0625 8.265625 \nQ 6.59375 17.96875 6.59375 36.375 \nQ 6.59375 54.828125 13.0625 64.515625 \nQ 19.53125 74.21875 31.78125 74.21875 \nz\n\" id=\"DejaVuSans-48\"/>\n       </defs>\n       <use xlink:href=\"#DejaVuSans-48\"/>\n      </g>\n     </g>\n    </g>\n    <g id=\"xtick_6\">\n     <g id=\"line2d_6\">\n      <g>\n       <use style=\"stroke:#000000;stroke-width:0.8;\" x=\"257.606392\" xlink:href=\"#md79952a7cd\" y=\"224.64\"/>\n      </g>\n     </g>\n     <g id=\"text_6\">\n      <!-- 1 -->\n      <g transform=\"translate(254.425142 239.238437)scale(0.1 -0.1)\">\n       <use xlink:href=\"#DejaVuSans-49\"/>\n      </g>\n     </g>\n    </g>\n    <g id=\"xtick_7\">\n     <g id=\"line2d_7\">\n      <g>\n       <use style=\"stroke:#000000;stroke-width:0.8;\" x=\"295.651847\" xlink:href=\"#md79952a7cd\" y=\"224.64\"/>\n      </g>\n     </g>\n     <g id=\"text_7\">\n      <!-- 2 -->\n      <g transform=\"translate(292.470597 239.238437)scale(0.1 -0.1)\">\n       <use xlink:href=\"#DejaVuSans-50\"/>\n      </g>\n     </g>\n    </g>\n    <g id=\"xtick_8\">\n     <g id=\"line2d_8\">\n      <g>\n       <use style=\"stroke:#000000;stroke-width:0.8;\" x=\"333.697301\" xlink:href=\"#md79952a7cd\" y=\"224.64\"/>\n      </g>\n     </g>\n     <g id=\"text_8\">\n      <!-- 3 -->\n      <g transform=\"translate(330.516051 239.238437)scale(0.1 -0.1)\">\n       <use xlink:href=\"#DejaVuSans-51\"/>\n      </g>\n     </g>\n    </g>\n    <g id=\"xtick_9\">\n     <g id=\"line2d_9\">\n      <g>\n       <use style=\"stroke:#000000;stroke-width:0.8;\" x=\"371.742756\" xlink:href=\"#md79952a7cd\" y=\"224.64\"/>\n      </g>\n     </g>\n     <g id=\"text_9\">\n      <!-- 4 -->\n      <g transform=\"translate(368.561506 239.238437)scale(0.1 -0.1)\">\n       <use xlink:href=\"#DejaVuSans-52\"/>\n      </g>\n     </g>\n    </g>\n    <g id=\"text_10\">\n     <!-- $z$ ($a_0$) -->\n     <g transform=\"translate(206.010938 252.916562)scale(0.1 -0.1)\">\n      <defs>\n       <path d=\"M 11.625 54.6875 \nL 54.296875 54.6875 \nL 52.6875 46.484375 \nL 11.53125 7.171875 \nL 45.515625 7.171875 \nL 44.09375 0 \nL -0.296875 0 \nL 1.3125 8.203125 \nL 42.484375 47.515625 \nL 10.203125 47.515625 \nz\n\" id=\"DejaVuSans-Oblique-122\"/>\n       <path id=\"DejaVuSans-32\"/>\n       <path d=\"M 31 75.875 \nQ 24.46875 64.65625 21.28125 53.65625 \nQ 18.109375 42.671875 18.109375 31.390625 \nQ 18.109375 20.125 21.3125 9.0625 \nQ 24.515625 -2 31 -13.1875 \nL 23.1875 -13.1875 \nQ 15.875 -1.703125 12.234375 9.375 \nQ 8.59375 20.453125 8.59375 31.390625 \nQ 8.59375 42.28125 12.203125 53.3125 \nQ 15.828125 64.359375 23.1875 75.875 \nz\n\" id=\"DejaVuSans-40\"/>\n       <path d=\"M 53.71875 31.203125 \nL 47.609375 0 \nL 38.625 0 \nL 40.28125 8.296875 \nQ 36.328125 3.421875 31.265625 1 \nQ 26.21875 -1.421875 20.015625 -1.421875 \nQ 13.03125 -1.421875 8.5625 2.84375 \nQ 4.109375 7.125 4.109375 13.8125 \nQ 4.109375 23.390625 11.75 28.953125 \nQ 19.390625 34.515625 32.8125 34.515625 \nL 45.3125 34.515625 \nL 45.796875 36.921875 \nQ 45.90625 37.3125 45.953125 37.765625 \nQ 46 38.234375 46 39.203125 \nQ 46 43.5625 42.453125 45.96875 \nQ 38.921875 48.390625 32.515625 48.390625 \nQ 28.125 48.390625 23.5 47.265625 \nQ 18.890625 46.140625 14.015625 43.890625 \nL 15.578125 52.203125 \nQ 20.65625 54.109375 25.515625 55.046875 \nQ 30.375 56 34.90625 56 \nQ 44.578125 56 49.625 51.796875 \nQ 54.6875 47.609375 54.6875 39.59375 \nQ 54.6875 37.984375 54.4375 35.8125 \nQ 54.203125 33.640625 53.71875 31.203125 \nz\nM 44 27.484375 \nL 35.015625 27.484375 \nQ 23.96875 27.484375 18.671875 24.53125 \nQ 13.375 21.578125 13.375 15.375 \nQ 13.375 11.078125 16.078125 8.640625 \nQ 18.796875 6.203125 23.578125 6.203125 \nQ 30.90625 6.203125 36.375 11.453125 \nQ 41.84375 16.703125 43.609375 25.484375 \nz\n\" id=\"DejaVuSans-Oblique-97\"/>\n       <path d=\"M 8.015625 75.875 \nL 15.828125 75.875 \nQ 23.140625 64.359375 26.78125 53.3125 \nQ 30.421875 42.28125 30.421875 31.390625 \nQ 30.421875 20.453125 26.78125 9.375 \nQ 23.140625 -1.703125 15.828125 -13.1875 \nL 8.015625 -13.1875 \nQ 14.5 -2 17.703125 9.0625 \nQ 20.90625 20.125 20.90625 31.390625 \nQ 20.90625 42.671875 17.703125 53.65625 \nQ 14.5 64.65625 8.015625 75.875 \nz\n\" id=\"DejaVuSans-41\"/>\n      </defs>\n      <use transform=\"translate(0 0.125)\" xlink:href=\"#DejaVuSans-Oblique-122\"/>\n      <use transform=\"translate(52.490234 0.125)\" xlink:href=\"#DejaVuSans-32\"/>\n      <use transform=\"translate(84.277344 0.125)\" xlink:href=\"#DejaVuSans-40\"/>\n      <use transform=\"translate(123.291016 0.125)\" xlink:href=\"#DejaVuSans-Oblique-97\"/>\n      <use transform=\"translate(184.570312 -16.28125)scale(0.7)\" xlink:href=\"#DejaVuSans-48\"/>\n      <use transform=\"translate(231.84082 0.125)\" xlink:href=\"#DejaVuSans-41\"/>\n     </g>\n    </g>\n   </g>\n   <g id=\"matplotlib.axis_2\">\n    <g id=\"ytick_1\">\n     <g id=\"line2d_10\">\n      <defs>\n       <path d=\"M 0 0 \nL -3.5 0 \n\" id=\"m69d0a9efde\" style=\"stroke:#000000;stroke-width:0.8;\"/>\n      </defs>\n      <g>\n       <use style=\"stroke:#000000;stroke-width:0.8;\" x=\"52.160938\" xlink:href=\"#m69d0a9efde\" y=\"214.588997\"/>\n      </g>\n     </g>\n     <g id=\"text_11\">\n      <!-- −0.6 -->\n      <g transform=\"translate(20.878125 218.388216)scale(0.1 -0.1)\">\n       <defs>\n        <path d=\"M 10.6875 12.40625 \nL 21 12.40625 \nL 21 0 \nL 10.6875 0 \nz\n\" id=\"DejaVuSans-46\"/>\n        <path d=\"M 33.015625 40.375 \nQ 26.375 40.375 22.484375 35.828125 \nQ 18.609375 31.296875 18.609375 23.390625 \nQ 18.609375 15.53125 22.484375 10.953125 \nQ 26.375 6.390625 33.015625 6.390625 \nQ 39.65625 6.390625 43.53125 10.953125 \nQ 47.40625 15.53125 47.40625 23.390625 \nQ 47.40625 31.296875 43.53125 35.828125 \nQ 39.65625 40.375 33.015625 40.375 \nz\nM 52.59375 71.296875 \nL 52.59375 62.3125 \nQ 48.875 64.0625 45.09375 64.984375 \nQ 41.3125 65.921875 37.59375 65.921875 \nQ 27.828125 65.921875 22.671875 59.328125 \nQ 17.53125 52.734375 16.796875 39.40625 \nQ 19.671875 43.65625 24.015625 45.921875 \nQ 28.375 48.1875 33.59375 48.1875 \nQ 44.578125 48.1875 50.953125 41.515625 \nQ 57.328125 34.859375 57.328125 23.390625 \nQ 57.328125 12.15625 50.6875 5.359375 \nQ 44.046875 -1.421875 33.015625 -1.421875 \nQ 20.359375 -1.421875 13.671875 8.265625 \nQ 6.984375 17.96875 6.984375 36.375 \nQ 6.984375 53.65625 15.1875 63.9375 \nQ 23.390625 74.21875 37.203125 74.21875 \nQ 40.921875 74.21875 44.703125 73.484375 \nQ 48.484375 72.75 52.59375 71.296875 \nz\n\" id=\"DejaVuSans-54\"/>\n       </defs>\n       <use xlink:href=\"#DejaVuSans-8722\"/>\n       <use x=\"83.789062\" xlink:href=\"#DejaVuSans-48\"/>\n       <use x=\"147.412109\" xlink:href=\"#DejaVuSans-46\"/>\n       <use x=\"179.199219\" xlink:href=\"#DejaVuSans-54\"/>\n      </g>\n     </g>\n    </g>\n    <g id=\"ytick_2\">\n     <g id=\"line2d_11\">\n      <g>\n       <use style=\"stroke:#000000;stroke-width:0.8;\" x=\"52.160938\" xlink:href=\"#m69d0a9efde\" y=\"181.699331\"/>\n      </g>\n     </g>\n     <g id=\"text_12\">\n      <!-- −0.4 -->\n      <g transform=\"translate(20.878125 185.49855)scale(0.1 -0.1)\">\n       <use xlink:href=\"#DejaVuSans-8722\"/>\n       <use x=\"83.789062\" xlink:href=\"#DejaVuSans-48\"/>\n       <use x=\"147.412109\" xlink:href=\"#DejaVuSans-46\"/>\n       <use x=\"179.199219\" xlink:href=\"#DejaVuSans-52\"/>\n      </g>\n     </g>\n    </g>\n    <g id=\"ytick_3\">\n     <g id=\"line2d_12\">\n      <g>\n       <use style=\"stroke:#000000;stroke-width:0.8;\" x=\"52.160938\" xlink:href=\"#m69d0a9efde\" y=\"148.809666\"/>\n      </g>\n     </g>\n     <g id=\"text_13\">\n      <!-- −0.2 -->\n      <g transform=\"translate(20.878125 152.608884)scale(0.1 -0.1)\">\n       <use xlink:href=\"#DejaVuSans-8722\"/>\n       <use x=\"83.789062\" xlink:href=\"#DejaVuSans-48\"/>\n       <use x=\"147.412109\" xlink:href=\"#DejaVuSans-46\"/>\n       <use x=\"179.199219\" xlink:href=\"#DejaVuSans-50\"/>\n      </g>\n     </g>\n    </g>\n    <g id=\"ytick_4\">\n     <g id=\"line2d_13\">\n      <g>\n       <use style=\"stroke:#000000;stroke-width:0.8;\" x=\"52.160938\" xlink:href=\"#m69d0a9efde\" y=\"115.92\"/>\n      </g>\n     </g>\n     <g id=\"text_14\">\n      <!-- 0.0 -->\n      <g transform=\"translate(29.257812 119.719219)scale(0.1 -0.1)\">\n       <use xlink:href=\"#DejaVuSans-48\"/>\n       <use x=\"63.623047\" xlink:href=\"#DejaVuSans-46\"/>\n       <use x=\"95.410156\" xlink:href=\"#DejaVuSans-48\"/>\n      </g>\n     </g>\n    </g>\n    <g id=\"ytick_5\">\n     <g id=\"line2d_14\">\n      <g>\n       <use style=\"stroke:#000000;stroke-width:0.8;\" x=\"52.160938\" xlink:href=\"#m69d0a9efde\" y=\"83.030334\"/>\n      </g>\n     </g>\n     <g id=\"text_15\">\n      <!-- 0.2 -->\n      <g transform=\"translate(29.257812 86.829553)scale(0.1 -0.1)\">\n       <use xlink:href=\"#DejaVuSans-48\"/>\n       <use x=\"63.623047\" xlink:href=\"#DejaVuSans-46\"/>\n       <use x=\"95.410156\" xlink:href=\"#DejaVuSans-50\"/>\n      </g>\n     </g>\n    </g>\n    <g id=\"ytick_6\">\n     <g id=\"line2d_15\">\n      <g>\n       <use style=\"stroke:#000000;stroke-width:0.8;\" x=\"52.160938\" xlink:href=\"#m69d0a9efde\" y=\"50.140669\"/>\n      </g>\n     </g>\n     <g id=\"text_16\">\n      <!-- 0.4 -->\n      <g transform=\"translate(29.257812 53.939888)scale(0.1 -0.1)\">\n       <use xlink:href=\"#DejaVuSans-48\"/>\n       <use x=\"63.623047\" xlink:href=\"#DejaVuSans-46\"/>\n       <use x=\"95.410156\" xlink:href=\"#DejaVuSans-52\"/>\n      </g>\n     </g>\n    </g>\n    <g id=\"ytick_7\">\n     <g id=\"line2d_16\">\n      <g>\n       <use style=\"stroke:#000000;stroke-width:0.8;\" x=\"52.160938\" xlink:href=\"#m69d0a9efde\" y=\"17.251003\"/>\n      </g>\n     </g>\n     <g id=\"text_17\">\n      <!-- 0.6 -->\n      <g transform=\"translate(29.257812 21.050222)scale(0.1 -0.1)\">\n       <use xlink:href=\"#DejaVuSans-48\"/>\n       <use x=\"63.623047\" xlink:href=\"#DejaVuSans-46\"/>\n       <use x=\"95.410156\" xlink:href=\"#DejaVuSans-54\"/>\n      </g>\n     </g>\n    </g>\n    <g id=\"text_18\">\n     <!-- 1S atomic orbital -->\n     <g transform=\"translate(14.798437 158.637187)rotate(-90)scale(0.1 -0.1)\">\n      <defs>\n       <path d=\"M 53.515625 70.515625 \nL 53.515625 60.890625 \nQ 47.90625 63.578125 42.921875 64.890625 \nQ 37.9375 66.21875 33.296875 66.21875 \nQ 25.25 66.21875 20.875 63.09375 \nQ 16.5 59.96875 16.5 54.203125 \nQ 16.5 49.359375 19.40625 46.890625 \nQ 22.3125 44.4375 30.421875 42.921875 \nL 36.375 41.703125 \nQ 47.40625 39.59375 52.65625 34.296875 \nQ 57.90625 29 57.90625 20.125 \nQ 57.90625 9.515625 50.796875 4.046875 \nQ 43.703125 -1.421875 29.984375 -1.421875 \nQ 24.8125 -1.421875 18.96875 -0.25 \nQ 13.140625 0.921875 6.890625 3.21875 \nL 6.890625 13.375 \nQ 12.890625 10.015625 18.65625 8.296875 \nQ 24.421875 6.59375 29.984375 6.59375 \nQ 38.421875 6.59375 43.015625 9.90625 \nQ 47.609375 13.234375 47.609375 19.390625 \nQ 47.609375 24.75 44.3125 27.78125 \nQ 41.015625 30.8125 33.5 32.328125 \nL 27.484375 33.5 \nQ 16.453125 35.6875 11.515625 40.375 \nQ 6.59375 45.0625 6.59375 53.421875 \nQ 6.59375 63.09375 13.40625 68.65625 \nQ 20.21875 74.21875 32.171875 74.21875 \nQ 37.3125 74.21875 42.625 73.28125 \nQ 47.953125 72.359375 53.515625 70.515625 \nz\n\" id=\"DejaVuSans-83\"/>\n       <path d=\"M 34.28125 27.484375 \nQ 23.390625 27.484375 19.1875 25 \nQ 14.984375 22.515625 14.984375 16.5 \nQ 14.984375 11.71875 18.140625 8.90625 \nQ 21.296875 6.109375 26.703125 6.109375 \nQ 34.1875 6.109375 38.703125 11.40625 \nQ 43.21875 16.703125 43.21875 25.484375 \nL 43.21875 27.484375 \nz\nM 52.203125 31.203125 \nL 52.203125 0 \nL 43.21875 0 \nL 43.21875 8.296875 \nQ 40.140625 3.328125 35.546875 0.953125 \nQ 30.953125 -1.421875 24.3125 -1.421875 \nQ 15.921875 -1.421875 10.953125 3.296875 \nQ 6 8.015625 6 15.921875 \nQ 6 25.140625 12.171875 29.828125 \nQ 18.359375 34.515625 30.609375 34.515625 \nL 43.21875 34.515625 \nL 43.21875 35.40625 \nQ 43.21875 41.609375 39.140625 45 \nQ 35.0625 48.390625 27.6875 48.390625 \nQ 23 48.390625 18.546875 47.265625 \nQ 14.109375 46.140625 10.015625 43.890625 \nL 10.015625 52.203125 \nQ 14.9375 54.109375 19.578125 55.046875 \nQ 24.21875 56 28.609375 56 \nQ 40.484375 56 46.34375 49.84375 \nQ 52.203125 43.703125 52.203125 31.203125 \nz\n\" id=\"DejaVuSans-97\"/>\n       <path d=\"M 18.3125 70.21875 \nL 18.3125 54.6875 \nL 36.8125 54.6875 \nL 36.8125 47.703125 \nL 18.3125 47.703125 \nL 18.3125 18.015625 \nQ 18.3125 11.328125 20.140625 9.421875 \nQ 21.96875 7.515625 27.59375 7.515625 \nL 36.8125 7.515625 \nL 36.8125 0 \nL 27.59375 0 \nQ 17.1875 0 13.234375 3.875 \nQ 9.28125 7.765625 9.28125 18.015625 \nL 9.28125 47.703125 \nL 2.6875 47.703125 \nL 2.6875 54.6875 \nL 9.28125 54.6875 \nL 9.28125 70.21875 \nz\n\" id=\"DejaVuSans-116\"/>\n       <path d=\"M 30.609375 48.390625 \nQ 23.390625 48.390625 19.1875 42.75 \nQ 14.984375 37.109375 14.984375 27.296875 \nQ 14.984375 17.484375 19.15625 11.84375 \nQ 23.34375 6.203125 30.609375 6.203125 \nQ 37.796875 6.203125 41.984375 11.859375 \nQ 46.1875 17.53125 46.1875 27.296875 \nQ 46.1875 37.015625 41.984375 42.703125 \nQ 37.796875 48.390625 30.609375 48.390625 \nz\nM 30.609375 56 \nQ 42.328125 56 49.015625 48.375 \nQ 55.71875 40.765625 55.71875 27.296875 \nQ 55.71875 13.875 49.015625 6.21875 \nQ 42.328125 -1.421875 30.609375 -1.421875 \nQ 18.84375 -1.421875 12.171875 6.21875 \nQ 5.515625 13.875 5.515625 27.296875 \nQ 5.515625 40.765625 12.171875 48.375 \nQ 18.84375 56 30.609375 56 \nz\n\" id=\"DejaVuSans-111\"/>\n       <path d=\"M 52 44.1875 \nQ 55.375 50.25 60.0625 53.125 \nQ 64.75 56 71.09375 56 \nQ 79.640625 56 84.28125 50.015625 \nQ 88.921875 44.046875 88.921875 33.015625 \nL 88.921875 0 \nL 79.890625 0 \nL 79.890625 32.71875 \nQ 79.890625 40.578125 77.09375 44.375 \nQ 74.3125 48.1875 68.609375 48.1875 \nQ 61.625 48.1875 57.5625 43.546875 \nQ 53.515625 38.921875 53.515625 30.90625 \nL 53.515625 0 \nL 44.484375 0 \nL 44.484375 32.71875 \nQ 44.484375 40.625 41.703125 44.40625 \nQ 38.921875 48.1875 33.109375 48.1875 \nQ 26.21875 48.1875 22.15625 43.53125 \nQ 18.109375 38.875 18.109375 30.90625 \nL 18.109375 0 \nL 9.078125 0 \nL 9.078125 54.6875 \nL 18.109375 54.6875 \nL 18.109375 46.1875 \nQ 21.1875 51.21875 25.484375 53.609375 \nQ 29.78125 56 35.6875 56 \nQ 41.65625 56 45.828125 52.96875 \nQ 50 49.953125 52 44.1875 \nz\n\" id=\"DejaVuSans-109\"/>\n       <path d=\"M 9.421875 54.6875 \nL 18.40625 54.6875 \nL 18.40625 0 \nL 9.421875 0 \nz\nM 9.421875 75.984375 \nL 18.40625 75.984375 \nL 18.40625 64.59375 \nL 9.421875 64.59375 \nz\n\" id=\"DejaVuSans-105\"/>\n       <path d=\"M 48.78125 52.59375 \nL 48.78125 44.1875 \nQ 44.96875 46.296875 41.140625 47.34375 \nQ 37.3125 48.390625 33.40625 48.390625 \nQ 24.65625 48.390625 19.8125 42.84375 \nQ 14.984375 37.3125 14.984375 27.296875 \nQ 14.984375 17.28125 19.8125 11.734375 \nQ 24.65625 6.203125 33.40625 6.203125 \nQ 37.3125 6.203125 41.140625 7.25 \nQ 44.96875 8.296875 48.78125 10.40625 \nL 48.78125 2.09375 \nQ 45.015625 0.34375 40.984375 -0.53125 \nQ 36.96875 -1.421875 32.421875 -1.421875 \nQ 20.0625 -1.421875 12.78125 6.34375 \nQ 5.515625 14.109375 5.515625 27.296875 \nQ 5.515625 40.671875 12.859375 48.328125 \nQ 20.21875 56 33.015625 56 \nQ 37.15625 56 41.109375 55.140625 \nQ 45.0625 54.296875 48.78125 52.59375 \nz\n\" id=\"DejaVuSans-99\"/>\n       <path d=\"M 41.109375 46.296875 \nQ 39.59375 47.171875 37.8125 47.578125 \nQ 36.03125 48 33.890625 48 \nQ 26.265625 48 22.1875 43.046875 \nQ 18.109375 38.09375 18.109375 28.8125 \nL 18.109375 0 \nL 9.078125 0 \nL 9.078125 54.6875 \nL 18.109375 54.6875 \nL 18.109375 46.1875 \nQ 20.953125 51.171875 25.484375 53.578125 \nQ 30.03125 56 36.53125 56 \nQ 37.453125 56 38.578125 55.875 \nQ 39.703125 55.765625 41.0625 55.515625 \nz\n\" id=\"DejaVuSans-114\"/>\n       <path d=\"M 48.6875 27.296875 \nQ 48.6875 37.203125 44.609375 42.84375 \nQ 40.53125 48.484375 33.40625 48.484375 \nQ 26.265625 48.484375 22.1875 42.84375 \nQ 18.109375 37.203125 18.109375 27.296875 \nQ 18.109375 17.390625 22.1875 11.75 \nQ 26.265625 6.109375 33.40625 6.109375 \nQ 40.53125 6.109375 44.609375 11.75 \nQ 48.6875 17.390625 48.6875 27.296875 \nz\nM 18.109375 46.390625 \nQ 20.953125 51.265625 25.265625 53.625 \nQ 29.59375 56 35.59375 56 \nQ 45.5625 56 51.78125 48.09375 \nQ 58.015625 40.1875 58.015625 27.296875 \nQ 58.015625 14.40625 51.78125 6.484375 \nQ 45.5625 -1.421875 35.59375 -1.421875 \nQ 29.59375 -1.421875 25.265625 0.953125 \nQ 20.953125 3.328125 18.109375 8.203125 \nL 18.109375 0 \nL 9.078125 0 \nL 9.078125 75.984375 \nL 18.109375 75.984375 \nz\n\" id=\"DejaVuSans-98\"/>\n       <path d=\"M 9.421875 75.984375 \nL 18.40625 75.984375 \nL 18.40625 0 \nL 9.421875 0 \nz\n\" id=\"DejaVuSans-108\"/>\n      </defs>\n      <use xlink:href=\"#DejaVuSans-49\"/>\n      <use x=\"63.623047\" xlink:href=\"#DejaVuSans-83\"/>\n      <use x=\"127.099609\" xlink:href=\"#DejaVuSans-32\"/>\n      <use x=\"158.886719\" xlink:href=\"#DejaVuSans-97\"/>\n      <use x=\"220.166016\" xlink:href=\"#DejaVuSans-116\"/>\n      <use x=\"259.375\" xlink:href=\"#DejaVuSans-111\"/>\n      <use x=\"320.556641\" xlink:href=\"#DejaVuSans-109\"/>\n      <use x=\"417.96875\" xlink:href=\"#DejaVuSans-105\"/>\n      <use x=\"445.751953\" xlink:href=\"#DejaVuSans-99\"/>\n      <use x=\"500.732422\" xlink:href=\"#DejaVuSans-32\"/>\n      <use x=\"532.519531\" xlink:href=\"#DejaVuSans-111\"/>\n      <use x=\"593.701172\" xlink:href=\"#DejaVuSans-114\"/>\n      <use x=\"634.814453\" xlink:href=\"#DejaVuSans-98\"/>\n      <use x=\"698.291016\" xlink:href=\"#DejaVuSans-105\"/>\n      <use x=\"726.074219\" xlink:href=\"#DejaVuSans-116\"/>\n      <use x=\"765.283203\" xlink:href=\"#DejaVuSans-97\"/>\n      <use x=\"826.5625\" xlink:href=\"#DejaVuSans-108\"/>\n     </g>\n    </g>\n   </g>\n   <g id=\"line2d_17\">\n    <path clip-path=\"url(#p0ed1558cf4)\" d=\"M 67.379119 114.521968 \nL 79.565852 113.857921 \nL 89.619906 113.090645 \nL 97.84595 112.244947 \nL 104.853321 111.307456 \nL 110.946687 110.278251 \nL 116.430716 109.139885 \nL 121.610078 107.845425 \nL 126.48477 106.404683 \nL 131.359463 104.725272 \nL 135.929488 102.917111 \nL 140.499512 100.867141 \nL 144.764869 98.715758 \nL 148.725557 96.480325 \nL 152.381576 94.165869 \nL 155.732928 91.771835 \nL 158.779611 89.304865 \nL 161.521625 86.791211 \nL 164.26364 83.949101 \nL 166.700987 81.11551 \nL 169.443001 77.566468 \nL 172.185016 73.652427 \nL 175.536367 68.472716 \nL 183.457743 56.027474 \nL 185.89509 52.736808 \nL 187.7231 50.610999 \nL 189.551109 48.841985 \nL 191.074451 47.671927 \nL 192.597793 46.796132 \nL 194.121134 46.221929 \nL 195.339807 45.978622 \nL 196.55848 45.921731 \nL 198.081822 46.098436 \nL 199.605164 46.526298 \nL 201.128505 47.17242 \nL 202.956515 48.180849 \nL 205.393861 49.796564 \nL 211.791896 54.215617 \nL 213.924574 55.355721 \nL 215.752584 56.085356 \nL 217.580594 56.54803 \nL 219.103935 56.713175 \nL 220.627277 56.671752 \nL 222.150618 56.425128 \nL 223.67396 55.981486 \nL 225.501969 55.210485 \nL 227.634648 54.031423 \nL 230.376662 52.202635 \nL 236.470028 47.997955 \nL 238.298038 47.027527 \nL 239.82138 46.422116 \nL 241.344721 46.042072 \nL 242.868063 45.918917 \nL 244.086736 46.021694 \nL 245.305409 46.312606 \nL 246.524082 46.796132 \nL 248.047424 47.671927 \nL 249.570766 48.841985 \nL 251.094107 50.290038 \nL 252.922117 52.359983 \nL 255.054795 55.163082 \nL 257.492141 58.751615 \nL 261.452829 65.046348 \nL 266.632191 73.197317 \nL 269.678874 77.566468 \nL 272.420888 81.11551 \nL 275.162903 84.282455 \nL 277.904918 87.085882 \nL 280.646933 89.565966 \nL 283.693616 92.002161 \nL 287.044967 94.36952 \nL 290.700987 96.661494 \nL 294.661675 98.877694 \nL 298.927031 101.011706 \nL 303.497055 103.044993 \nL 308.06708 104.837601 \nL 312.941773 106.501507 \nL 317.816466 107.928041 \nL 322.995827 109.209068 \nL 328.479856 110.335222 \nL 334.573223 111.353252 \nL 341.275925 112.244947 \nL 349.197301 113.063313 \nL 358.33735 113.777259 \nL 369.305409 114.407423 \nL 371.742756 114.521968 \nL 371.742756 114.521968 \n\" style=\"fill:none;stroke:#1f77b4;stroke-linecap:square;stroke-width:4;\"/>\n   </g>\n   <g id=\"line2d_18\">\n    <path clip-path=\"url(#p0ed1558cf4)\" d=\"M 67.379119 118.216743 \nL 78.04251 119.040611 \nL 86.877891 119.939342 \nL 94.18993 120.905267 \nL 100.283296 121.930307 \nL 105.462657 123.012535 \nL 110.33735 124.255493 \nL 114.907375 125.660149 \nL 119.172731 127.215076 \nL 123.133419 128.896193 \nL 127.094107 130.826103 \nL 131.054795 133.018995 \nL 135.015483 135.482652 \nL 138.976171 138.220184 \nL 142.936859 141.236681 \nL 146.592879 144.286498 \nL 149.94423 147.34403 \nL 152.990913 150.398155 \nL 155.732928 153.437596 \nL 158.170274 156.435197 \nL 160.607621 159.777483 \nL 163.044967 163.529749 \nL 165.482313 167.747943 \nL 167.91966 172.46413 \nL 170.357006 177.669572 \nL 173.403689 184.756594 \nL 181.325065 203.655386 \nL 183.153075 207.330622 \nL 184.676417 209.955516 \nL 185.89509 211.703722 \nL 187.113763 213.092311 \nL 188.027768 213.874019 \nL 188.941773 214.416685 \nL 189.855778 214.707598 \nL 190.769783 214.736189 \nL 191.683788 214.494225 \nL 192.597793 213.975939 \nL 193.511797 213.178138 \nL 194.425802 212.100233 \nL 195.644476 210.231159 \nL 196.863149 207.879742 \nL 198.081822 205.065218 \nL 199.605164 200.935926 \nL 201.128505 196.18695 \nL 202.956515 189.773775 \nL 205.089193 181.481302 \nL 207.831208 169.876178 \nL 211.791896 152.020994 \nL 222.759955 101.016833 \nL 230.681331 64.647123 \nL 233.728014 51.602432 \nL 236.16536 42.066225 \nL 238.298038 34.657079 \nL 240.126048 29.174198 \nL 241.64939 25.311107 \nL 242.868063 22.725292 \nL 244.086736 20.613095 \nL 245.305409 18.990088 \nL 246.219414 18.098854 \nL 247.133419 17.487624 \nL 248.047424 17.154067 \nL 248.961429 17.093269 \nL 249.875434 17.297803 \nL 250.789439 17.757862 \nL 251.703444 18.461425 \nL 252.922117 19.753809 \nL 254.14079 21.416023 \nL 255.664132 23.949119 \nL 257.492141 27.538455 \nL 259.62482 32.281738 \nL 262.976171 40.378759 \nL 267.850864 52.103641 \nL 270.592879 58.11889 \nL 273.030225 62.960188 \nL 275.467571 67.301169 \nL 277.904918 71.165331 \nL 280.342264 74.60414 \nL 282.779611 77.681725 \nL 285.521625 80.792892 \nL 288.568309 83.908352 \nL 291.91966 87.017797 \nL 295.57568 90.113521 \nL 299.536367 93.174148 \nL 303.497055 95.95407 \nL 307.457743 98.459718 \nL 311.418431 100.693915 \nL 315.379119 102.663518 \nL 319.339807 104.381746 \nL 323.300495 105.867591 \nL 327.565852 107.234277 \nL 332.135876 108.464621 \nL 337.010569 109.552608 \nL 342.494598 110.552656 \nL 348.892633 111.488088 \nL 356.50934 112.364711 \nL 365.64939 113.18119 \nL 371.742756 113.623257 \nL 371.742756 113.623257 \n\" style=\"fill:none;stroke:#ff7f0e;stroke-linecap:square;stroke-width:4;\"/>\n   </g>\n   <g id=\"patch_3\">\n    <path d=\"M 52.160938 224.64 \nL 52.160938 7.2 \n\" style=\"fill:none;stroke:#000000;stroke-linecap:square;stroke-linejoin:miter;stroke-width:0.8;\"/>\n   </g>\n   <g id=\"patch_4\">\n    <path d=\"M 386.960938 224.64 \nL 386.960938 7.2 \n\" style=\"fill:none;stroke:#000000;stroke-linecap:square;stroke-linejoin:miter;stroke-width:0.8;\"/>\n   </g>\n   <g id=\"patch_5\">\n    <path d=\"M 52.160938 224.64 \nL 386.960938 224.64 \n\" style=\"fill:none;stroke:#000000;stroke-linecap:square;stroke-linejoin:miter;stroke-width:0.8;\"/>\n   </g>\n   <g id=\"patch_6\">\n    <path d=\"M 52.160938 7.2 \nL 386.960938 7.2 \n\" style=\"fill:none;stroke:#000000;stroke-linecap:square;stroke-linejoin:miter;stroke-width:0.8;\"/>\n   </g>\n  </g>\n </g>\n <defs>\n  <clipPath id=\"p0ed1558cf4\">\n   <rect height=\"217.44\" width=\"334.8\" x=\"52.160938\" y=\"7.2\"/>\n  </clipPath>\n </defs>\n</svg>\n",
      "image/png": "[encoded data removed]"
     },
     "metadata": {
      "needs_background": "light"
     }
    }
   ],
   "source": [
    "fig, ax = plt.subplots(1,1)\n",
    "ax.plot(coords[:,2],mo_wf,'-', lw = 4)\n",
    "ax.set_xlabel('$z$ ($a_0$)')\n",
    "ax.set_ylabel('1S atomic orbital')\n",
    "plt.show()"
   ]
  },
  {
   "cell_type": "code",
   "execution_count": null,
   "metadata": {},
   "outputs": [],
   "source": []
  }
 ],
 "metadata": {
  "colab": {
   "collapsed_sections": [],
   "name": "Copy of activity_chemistry.ipynb",
   "provenance": []
  },
  "kernelspec": {
   "display_name": "Python 3",
   "language": "python",
   "name": "python3"
  },
  "language_info": {
   "codemirror_mode": {
    "name": "ipython",
    "version": 3
   },
   "file_extension": ".py",
   "mimetype": "text/x-python",
   "name": "python",
   "nbconvert_exporter": "python",
   "pygments_lexer": "ipython3",
   "version": "3.8.5-final"
  },
  "toc": {
   "base_numbering": 1,
   "nav_menu": {},
   "number_sections": true,
   "sideBar": true,
   "skip_h1_title": false,
   "title_cell": "Table of Contents",
   "title_sidebar": "Contents",
   "toc_cell": false,
   "toc_position": {},
   "toc_section_display": true,
   "toc_window_display": false
  }
 },
 "nbformat": 4,
 "nbformat_minor": 1
}