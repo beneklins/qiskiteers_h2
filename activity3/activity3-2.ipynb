{
 "cells": [
  {
   "cell_type": "code",
   "execution_count": null,
   "metadata": {},
   "outputs": [],
   "source": [
    "import numpy as np\n",
    "%load_ext autoreload\n",
    "%autoreload 0"
   ]
  },
  {
   "cell_type": "markdown",
   "metadata": {},
   "source": [
    "Notebook by **Maxime Dion** <maxime.dion@usherbrooke.ca><br>\n",
    "For the QSciTech-QuantumBC virtual workshop on gate-based quantum computing"
   ]
  },
  {
   "cell_type": "markdown",
   "metadata": {},
   "source": [
    "## Tutorial for  Activity 3.2\n",
    "\n",
    "For this activity, make sure you can easily import your versions of `Hamiltonian.py`, `PauliString.py` and `Mapping.py` that you have completed in the Activity 3.1 tutorial. You will also need your verions of `Evaluator.py` and `Solver.py`. Placing this notebook in the same `path` as these files is the easiest way to acheive this. At the end of this notebook, you should be in good position to complete these 2 additionnal files.\n",
    "\n",
    "The solution we suggest here is NOT mandatory. If you find ways to make it better and more efficient, go on and impress us! On the other hand, by completing all sections of this notebook you'll be able to :\n",
    "- Prepare a Quantum State based on a varitional form (circuit);\n",
    "- Measure qubits in the X, Y and Z basis;\n",
    "- Estimate expectation value of Pauli String on a quantum state;\n",
    "- Evaluate the expectation value of an Hamiltonian in the form of a Linear Combinaison of Pauli Strings;\n",
    "- Run a minimization algorithm on the energy expectation fonction to find the ground state of a Hamiltonian;\n",
    "- Dance to express your overwhelming sense of accomplishment\n",
    "\n",
    "**Important**\n",
    "\n",
    "When you modify and save a `*.py` file you need to re-import it so that your modifications can be taken into account when you re-execute a call. By adding the magic command `%autoreload` at the beginning of a cell, you make sure that the modifications you did to the `*.py` files are taken into account when you re-run a celll and that you can see the effect.\n",
    "\n",
    "If you encounter unusual results, restart the kernel and try again.\n",
    "\n",
    "**Note on numbering**\n",
    "\n",
    "When you ask a question in the Slack channel you can refer to the section name or the section number.\n",
    "\n",
    "To enable the section numbering, please make sure you install [nbextensions](https://jupyter-contrib-nbextensions.readthedocs.io/en/latest/install.html). It is available in the conda distribution. After installation it you need to enable the option 'Table of contents (2)'."
   ]
  },
  {
   "cell_type": "markdown",
   "metadata": {},
   "source": [
    "# Variationnal Quantum States\n",
    "\n",
    "Every quantum circuit starts with all qubits in the the state $|0\\rangle$. In order to prepare a quantum state $|\\psi\\rangle$ we need to prepare a `QuantumCircuit` that will modify the states of the qubits in order to get this specific state. The action of a circuit can always be represented as a unitiary operator.\n",
    "\n",
    "\\begin{align}\n",
    "    |\\psi\\rangle &= \\hat{U} |0 \\ldots 0\\rangle\n",
    "\\end{align}\n",
    "\n",
    "For a parametric state the `QuantumCircuit` and therefore the unitary $U$ will depend on some parameters that we wirte as $\\boldsymbol{\\theta}$.\n",
    "\n",
    "\\begin{align}\n",
    "    |\\psi(\\boldsymbol{\\theta})\\rangle &= \\hat{U}(\\boldsymbol{\\theta}) |0 \\ldots 0\\rangle\n",
    "\\end{align}\n",
    "\n",
    "We will see 2 ways to define Parametrized Quantum Circuits that represent Variationnal Quantum States. For the first method we only need the `QuantumCircuit` class from `qiskit.circuit`."
   ]
  },
  {
   "cell_type": "code",
   "execution_count": null,
   "metadata": {},
   "outputs": [],
   "source": [
    "from qiskit.circuit import QuantumCircuit"
   ]
  },
  {
   "cell_type": "markdown",
   "metadata": {},
   "source": [
    "## Generating function\n",
    "The easiest way to generate a parametrized `QuantumCircuit` is to implement a function that takes parameters as arguments and returns a `QuantumCircuit`. Here is such a function that generates a 2 qubits QuantumCircuit."
   ]
  },
  {
   "cell_type": "code",
   "execution_count": null,
   "metadata": {},
   "outputs": [],
   "source": [
    "def example_2qubits_2params_quantum_circuit(theta,phi):\n",
    "    qc = QuantumCircuit(2)\n",
    "    qc.ry(theta,0)\n",
    "    qc.rz(phi,0)\n",
    "    qc.cx(0,1)\n",
    "    return qc"
   ]
  },
  {
   "cell_type": "markdown",
   "metadata": {},
   "source": [
    "To visualize this circuit we first need to call the generating function with dummy argument values for it to return a circuit. We can draw the circuit. The `'mpl'` option draws the circuit in a fancy way using `matplotlib`. If you are experiencing problems, you can remove this option."
   ]
  },
  {
   "cell_type": "code",
   "execution_count": null,
   "metadata": {},
   "outputs": [],
   "source": [
    "varform_qc = example_2qubits_2params_quantum_circuit\n",
    "qc = varform_qc(1,2)\n",
    "qc.draw('mpl')"
   ]
  },
  {
   "cell_type": "markdown",
   "metadata": {},
   "source": [
    "## Using qiskit parameter\n",
    "\n",
    "The other way to generate a parametrized `QuantumCircuit` is to use the `Parameter` class in `qiskit`."
   ]
  },
  {
   "cell_type": "code",
   "execution_count": null,
   "metadata": {},
   "outputs": [],
   "source": [
    "from qiskit.circuit import Parameter"
   ]
  },
  {
   "cell_type": "markdown",
   "metadata": {},
   "source": [
    "Here is the same circuit as before done with this method."
   ]
  },
  {
   "cell_type": "code",
   "execution_count": null,
   "metadata": {},
   "outputs": [],
   "source": [
    "a = Parameter('a')\n",
    "b = Parameter('b')\n",
    "varform_qc = QuantumCircuit(2)\n",
    "varform_qc.ry(a,0)\n",
    "varform_qc.rz(b,0)\n",
    "varform_qc.cx(0,1)"
   ]
  },
  {
   "cell_type": "markdown",
   "metadata": {},
   "source": [
    "Done this way the parametrized circuit can be drawn right away."
   ]
  },
  {
   "cell_type": "code",
   "execution_count": null,
   "metadata": {},
   "outputs": [],
   "source": [
    "varform_qc.draw('mpl')"
   ]
  },
  {
   "cell_type": "markdown",
   "metadata": {},
   "source": [
    "To see what are the parameters of a parametrized `QuantumCircuit` you can use"
   ]
  },
  {
   "cell_type": "code",
   "execution_count": null,
   "metadata": {},
   "outputs": [],
   "source": [
    "varform_qc.parameters"
   ]
  },
  {
   "cell_type": "markdown",
   "metadata": {},
   "source": [
    "**Important** Beware that sometimes the parameters will not appear in the same order as you declared them!\n",
    "\n",
    "To assign values to the different parameters we need to use the `QuantumCircuit.assign_paremeters()` method. This methods takes a `dict` as an argument containing the `Parameter`s and their `value`s."
   ]
  },
  {
   "cell_type": "code",
   "execution_count": null,
   "metadata": {},
   "outputs": [],
   "source": [
    "param_dict = {a : 1, b : 2}\n",
    "qc = varform_qc.assign_parameters(param_dict)\n",
    "qc.draw('mpl')"
   ]
  },
  {
   "cell_type": "markdown",
   "metadata": {},
   "source": [
    "If you want to provide the parameter values as a `list` or a `np.array` you can build the `dict` directly. Just make sure that the order you use in `param_values` corresponds to the other of `varform_qc.parameters`."
   ]
  },
  {
   "cell_type": "code",
   "execution_count": null,
   "metadata": {},
   "outputs": [],
   "source": [
    "param_values = [1, 2]\n",
    "param_dict = dict(zip(varform_qc.parameters,param_values))\n",
    "print(param_dict)"
   ]
  },
  {
   "cell_type": "markdown",
   "metadata": {},
   "source": [
    "## Varforms circuits for H2\n",
    "Using the method of you choice, prepare 2 different 4-qubit `QuantumCircuit`s. \n",
    "- The first should take 1 parameter to cover the real coefficients state sub space spanned by $|0101\\rangle$ and $|1010\\rangle$.\n",
    "- The second should take 3 parameters to cover the real coefficients state sub space spanned by $|0101\\rangle$, $|0110\\rangle$, $|1001\\rangle$ and $|1010\\rangle$.\n",
    "\n",
    "Revisit the presentation to find such circuits."
   ]
  },
  {
   "cell_type": "code",
   "execution_count": null,
   "metadata": {},
   "outputs": [],
   "source": [
    "varform_4qubits_1param = QuantumCircuit(4)\n",
    "a = Parameter('a')\n",
    "\"\"\"\n",
    "Your code here\n",
    "\n",
    "\"\"\"\n",
    "varform_4qubits_1param.ry(a,1)\n",
    "varform_4qubits_1param.x(0)\n",
    "varform_4qubits_1param.cx(1,0)\n",
    "varform_4qubits_1param.cx(0,2)\n",
    "varform_4qubits_1param.cx(1,3)\n",
    "\n",
    "varform_4qubits_1param.draw('mpl')"
   ]
  },
  {
   "cell_type": "code",
   "execution_count": null,
   "metadata": {},
   "outputs": [],
   "source": [
    "varform_4qubits_3params = QuantumCircuit(4)\n",
    "a = Parameter('a')\n",
    "b = Parameter('b')\n",
    "c = Parameter('c')\n",
    "\"\"\"\n",
    "Your code here\n",
    "\"\"\"\n",
    "varform_4qubits_3param.draw('mpl')"
   ]
  },
  {
   "cell_type": "markdown",
   "metadata": {},
   "source": [
    "# Evaluator\n",
    "The `Evaluator` is an object that will help us to evaluate the expectation value of a quantum operator (`LCPS`) on a specific variational form and backend. To initialize and `Evaluator` you should provide :\n",
    "\n",
    "**Mandatory**\n",
    "- A **variationnal form** that can create a `QuantumCircuit` given a set of `params`;\n",
    "- A **backend** `qiskit.Backend` (a simulator or an actual device handle) on which to run the `QuantumCircuit`\n",
    "\n",
    "**Optionnal**\n",
    "- `execute_opt` is a `dict` containing the optionnal argument to pass to the `qiskit.execute` method (ex : `{'shots' : 1024}`.\n",
    "- `measure_filter` a `qiskit.ignis...MeasurementFilter` that can be applied to the result of a circuit executation to mitigate readout errors."
   ]
  },
  {
   "cell_type": "markdown",
   "metadata": {},
   "source": [
    "The creation/usage of an `Evaluator` such as `BasicEvaluator` goes like this :\n",
    "\n",
    "<code>\n",
    "evaluator = BasicEvaluator(varform_qc,backend)<br>evaluator.set_linear_combinaison_pauli_string(operator_lcps)<br>expected_value = evaluator.eval(params)\n",
    "</code>\n",
    "\n",
    "First you initialize the evaluator.\n",
    "\n",
    "Next, you provide the operator you want to evaluate using the `set_linear_combinaison_pauli_string(LCPS)` method. \n",
    "\n",
    "Finally, you call the `eval(params)` method that will return the estimation of the operator's expected value. Mathematicaly, the use of this method corresponds to \n",
    "\n",
    "\\begin{align}\n",
    "E(\\boldsymbol{\\theta}).\n",
    "\\end{align}\n",
    "\n",
    "We will now go through the different pieces neccessary to complete the `Evaluator` class."
   ]
  },
  {
   "cell_type": "markdown",
   "metadata": {},
   "source": [
    "## Static methods\n",
    "Being static, these method do not need an instance of a class to be used. They can be called directly from the class.\n",
    "\n",
    "These methods are called before the first call to `eval(params)`. Most of these methods are implemented inside the abstract class `Evaluator` (except for `prepare_measurement_circuits_and_interpreters(LCPS)`)"
   ]
  },
  {
   "cell_type": "markdown",
   "metadata": {},
   "source": [
    "### Pauli Based Measurements\n",
    "We have seen that even if a quantum computer can only measure qubits in the Z-basis, the X and Y-basis are accessible if we *rotate* the quantum state before measuring. \n",
    "\n",
    "Implement the `@staticmethod` : `pauli_string_based_measurement(PauliString)` in the `Evaluator` class in file `Evaluator.py` that returns a `QuantumCircuit` that measures each qubit in the basis given by the `PauliString`.\n",
    "\n",
    "First we import the abstract class `Evaluator` and the `PauliString` class."
   ]
  },
  {
   "cell_type": "code",
   "execution_count": null,
   "metadata": {},
   "outputs": [],
   "source": [
    "from evaluator import Evaluator\n",
    "from pauli_string import PauliString"
   ]
  },
  {
   "cell_type": "markdown",
   "metadata": {},
   "source": [
    "Test your code with the next cell."
   ]
  },
  {
   "cell_type": "code",
   "execution_count": null,
   "metadata": {},
   "outputs": [],
   "source": [
    "%autoreload\n",
    "pauli_string = PauliString.from_str('ZIXY')\n",
    "measure_qc = Evaluator.pauli_string_based_measurement(pauli_string)\n",
    "measure_qc.draw('mpl')"
   ]
  },
  {
   "cell_type": "markdown",
   "metadata": {},
   "source": [
    "### Measurable eigenvalues\n",
    "\n",
    "Implement the `@staticmethod` : `measurable_eigenvalues(PauliString)` in the `Evaluator` class in file `Evaluator.py` that returns a `np.array` that contains the eigenvalues of the measurable `PauliString` for each basis state. We noted this vector\n",
    "\n",
    "\\begin{align}\n",
    "    \\Lambda_q^{\\hat{(\\mathcal{P})}}.\n",
    "\\end{align}\n",
    "\n",
    "Be mindful of the order of the basis state.\n",
    "\n",
    "\\begin{align}\n",
    "    0000, 0001, 0010, \\ldots, 1110, 1111 \n",
    "\\end{align}\n",
    "\n",
    "You can test your implementation on the `ZIXY` Pauli string."
   ]
  },
  {
   "cell_type": "code",
   "execution_count": null,
   "metadata": {},
   "outputs": [],
   "source": [
    "%autoreload\n",
    "pauli_string = PauliString.from_str('ZIXY')\n",
    "measurable_eigenvalues = Evaluator.measurable_eigenvalues(pauli_string)\n",
    "print(measurable_eigenvalues)"
   ]
  },
  {
   "cell_type": "markdown",
   "metadata": {},
   "source": [
    "For the `PauliString` `'ZIXY'` (measurable `'ZIZZ'`) you should get the following eigenvalues :\n",
    "\n",
    "<code>\n",
    "[ 1 -1 -1  1  1 -1 -1  1 -1  1  1 -1 -1  1  1 -1]\n",
    "</code>"
   ]
  },
  {
   "cell_type": "markdown",
   "metadata": {},
   "source": [
    "### Measurement Circuits and Interpreters\n",
    "The `prepare_measurement_circuits_and_interpreters(LCPS)` is specific to the sub-type of `Evaluator`. The two different types of `Evaluator`s considered in this workshop are :\n",
    "- The `BasicEvaluator` will run a single `QuantumCircuit` for each `PauliString` present in the provided `LCPS`.\n",
    "- The `BitwiseCommutingCliqueEvaluator` will exploit Bitwise Commuting Clique to combine the evaluation of Commuting `PauliStrin`s and reduce the number of different `QuantumCircuit` run for each evaluation. \n",
    "\n",
    "Implement the `prepare_measurement_circuits_and_interpreters(LCPS)` method in the `BasicEvaluator` class in file `Evaluator.py`. This method should return 2 `list`. The first should contain one measurement `QuantumCircuit` for each `PauliString` in the `LCPS`. The second list should contain one `np.array` of the eigenvalues of the measurable `PauliString` for each basis state.\n",
    "\n",
    "**Note** You can try to implement similar methods for the `BitwiseCommutingCliqueEvaluator`.\n",
    "\n",
    "You can test your method on `2 ZIXY + 1 IXYZ`."
   ]
  },
  {
   "cell_type": "code",
   "execution_count": null,
   "metadata": {},
   "outputs": [],
   "source": [
    "from evaluator import BasicEvaluator"
   ]
  },
  {
   "cell_type": "code",
   "execution_count": null,
   "metadata": {},
   "outputs": [],
   "source": [
    "%autoreload\n",
    "lcps = 2*PauliString.from_str('ZIXY') + 1*PauliString.from_str('IXYZ')\n",
    "measurement_circuits, interpreters = BasicEvaluator.prepare_measurement_circuits_and_interpreters(lcps)"
   ]
  },
  {
   "cell_type": "markdown",
   "metadata": {},
   "source": [
    "You can visualize the interpreter and the measurement circuit for each term in the `LCPS` by using `i = 0` and `i = 1`."
   ]
  },
  {
   "cell_type": "code",
   "execution_count": null,
   "metadata": {},
   "outputs": [],
   "source": [
    "i = 1\n",
    "print(interpreters[i])\n",
    "measurement_circuits[i].draw('mpl')"
   ]
  },
  {
   "cell_type": "markdown",
   "metadata": {},
   "source": [
    "The interpreters should be respectively :\n",
    "\n",
    "<code>\n",
    "[ 2 -2 -2  2  2 -2 -2  2 -2  2  2 -2 -2  2  2 -2]<br>[ 1 -1 -1  1 -1  1  1 -1  1 -1 -1  1 -1  1  1 -1]\n",
    "</code>"
   ]
  },
  {
   "cell_type": "markdown",
   "metadata": {},
   "source": [
    "### Set the LCPS\n",
    "The method `set_linear_combinaison_pauli_string(LCPS)` is already implemented inside the abstract class `Evaluator`. Please take a look at it to notice that this method makes an immediate call to the `prepare_measurement_circuits_and_interpreters(LCPS)` method you have just implemented. The `measurement_circuits` and `interpreters` are also stored in attributes of the same name."
   ]
  },
  {
   "cell_type": "markdown",
   "metadata": {},
   "source": [
    "## Methods called inside `eval(params)`\n",
    "Since we are entering the action of the `eval(params)` method we will need to instantiate an `Evaluator`. This will require a `backend`. We will use a local `qasm_simulator` for now, which is part of the `Aer` module. In the futur, you can use a different `backend`. We will also soon need the `execute` method."
   ]
  },
  {
   "cell_type": "code",
   "execution_count": null,
   "metadata": {},
   "outputs": [],
   "source": [
    "from qiskit import Aer, execute\n",
    "qasm_simulator = Aer.get_backend('qasm_simulator')"
   ]
  },
  {
   "cell_type": "markdown",
   "metadata": {},
   "source": [
    "### Circuit preparation\n",
    "The `prepare_eval_circuits(params)` will combine the variationnal form with these measurement `QuantumCircuit`s to form the complete circuit to be run. This method has 2 tasks :\n",
    "- Assign the `params` to the variationnal form to get a `QuantumCircuit` that prepares the quantum state\n",
    "- Combine this circuit with all the measurement circuits to return as many `QuantumCircuit` inside a `list`.\n",
    "\n",
    "Implement this method inside the `Evaluator` class and test it here."
   ]
  },
  {
   "cell_type": "code",
   "execution_count": null,
   "metadata": {},
   "outputs": [],
   "source": [
    "%autoreload\n",
    "lcps = 2*PauliString.from_str('ZXZX') + 1*PauliString.from_str('IIZZ')\n",
    "varform = varform_4qubits_1param\n",
    "backend = qasm_simulator\n",
    "evaluator = BasicEvaluator(varform,backend)\n",
    "evaluator.set_linear_combinaison_pauli_string(lcps)\n",
    "params = [0,]\n",
    "eval_circuits = evaluator.prepare_eval_circuits(params)"
   ]
  },
  {
   "cell_type": "markdown",
   "metadata": {},
   "source": [
    "You can take a look at the `QuantumCircuit` for the first (`i=0`) and second (`i=1`) PauliString. What you should get is a circuit that begins with the state preparation circuit with the `params` applied to it followed by the measurement circuit."
   ]
  },
  {
   "cell_type": "code",
   "execution_count": null,
   "metadata": {},
   "outputs": [],
   "source": [
    "i = 0\n",
    "eval_circuits[i].draw('mpl')"
   ]
  },
  {
   "cell_type": "markdown",
   "metadata": {},
   "source": [
    "### Execution\n",
    "The ultimate goal to the execution of a circuit is to get the number of times each basis state is measured. Let's execute our `eval_circuits`. We can run many `QuantumCircuit`s at the same time by placing them into a `list`, which they already are!"
   ]
  },
  {
   "cell_type": "code",
   "execution_count": null,
   "metadata": {},
   "outputs": [],
   "source": [
    "execute_opts = {'shots' : 1024}\n",
    "job = execute(eval_circuits,backend=qasm_simulator,**execute_opts)\n",
    "result = job.result()"
   ]
  },
  {
   "cell_type": "markdown",
   "metadata": {},
   "source": [
    "We can get the number of counts of each state for the execution of a given circuit with the follow lines. The counts are returned as a `dict`."
   ]
  },
  {
   "cell_type": "code",
   "execution_count": null,
   "metadata": {
    "scrolled": true
   },
   "outputs": [],
   "source": [
    "i = 0\n",
    "#i = 1\n",
    "counts = result.get_counts(eval_circuits[i])\n",
    "print(counts)"
   ]
  },
  {
   "cell_type": "markdown",
   "metadata": {},
   "source": [
    "If you `eval_circuits` are correct, you should get for, `i = 0` and `i = 1` respectively, something like this (exact value may vary since there is some randomness in the executation of a quantum circuit)\n",
    "\n",
    "<code>\n",
    "{'0000': 266, '0001': 262, '0100': 240, '0101': 256}<br>{'0101': 1024}  \n",
    "</code>"
   ]
  },
  {
   "cell_type": "markdown",
   "metadata": {},
   "source": [
    "### counts2array\n",
    "\n",
    "We will transform this `dict` into an array with the `counts2array` method.  Implement this method that will return the vector $N_q$. Be mindful of the order of the basis state.\n",
    "\n",
    "\\begin{align}\n",
    "    0000, 0001, 0010, \\ldots, 1110, 1111 \n",
    "\\end{align}\n",
    "\n",
    "**optional remark** While doing this will allow us to interpret the counts with a simple inner product, this implies creating an array of size $2^n$ where $n$ is the numbers of qubits. This might not be such a good idea for larger systems and the use of a `dict` might be more appropriate. Can you interpret the counts efficiently while keeping them into a `dict`?"
   ]
  },
  {
   "cell_type": "code",
   "execution_count": null,
   "metadata": {},
   "outputs": [],
   "source": [
    "%autoreload\n",
    "i = 0\n",
    "counts = result.get_counts(eval_circuits[i])\n",
    "evaluator.counts2array(counts)"
   ]
  },
  {
   "cell_type": "markdown",
   "metadata": {},
   "source": [
    "For `i=0` in particular you should get something similar to:\n",
    "\n",
    "<code>\n",
    "array([228., 276.,   0.,   0., 269., 251.,   0.,   0.,   0.,   0.,   0.,   0.,   0.,   0.,   0.,   0.])\n",
    "</code>"
   ]
  },
  {
   "cell_type": "markdown",
   "metadata": {},
   "source": [
    "### Interpret counts\n",
    "The action of interpreting the counts is actually the task of estimating the expectation value of a `PauliString` an multiplying by the coefficient associated with this `PauliString` in the LCPS. Implemented the `interpret_count_array` method that should return an array with the values for this expression.\n",
    "\n",
    "\\begin{align}\n",
    "    h_i \\langle \\hat{\\mathcal{P}}_i \\rangle = \\frac{h_i}{N_\\text{tot}}\\sum_{q} N_q \\Lambda_q^{(\\hat{\\mathcal{P}}_i)}\n",
    "\\end{align}"
   ]
  },
  {
   "cell_type": "code",
   "execution_count": null,
   "metadata": {},
   "outputs": [],
   "source": [
    "%autoreload\n",
    "i = 1\n",
    "counts_array = evaluator.counts2array(result.get_counts(eval_circuits[i]))\n",
    "interpreter = evaluator.interpreters[i]\n",
    "expected_value = evaluator.interpret_count_array(interpreter,counts_array)\n",
    "print(expected_value)"
   ]
  },
  {
   "cell_type": "markdown",
   "metadata": {},
   "source": [
    "You should get something close to `0` for the first one and `-1` for the second."
   ]
  },
  {
   "cell_type": "markdown",
   "metadata": {},
   "source": [
    "### Evaluation\n",
    "You have now all the pieces to complete the `eval(params)` method. This method should use all the methods you've implemented since the section *Methods called inside `eval(params)`* and then sum all the interpreted values. Mathematicaly, it should return the value of the expression\n",
    "\n",
    "\\begin{align}\n",
    "    E(\\boldsymbol{\\theta}) = \\sum_i h_i \\langle\\psi(\\boldsymbol{\\theta}) | \\hat{\\mathcal{P}}_i | \\psi(\\boldsymbol{\\theta}) \\rangle.\n",
    "\\end{align}"
   ]
  },
  {
   "cell_type": "code",
   "execution_count": null,
   "metadata": {},
   "outputs": [],
   "source": [
    "%autoreload\n",
    "lcps = 2*PauliString.from_str('ZXZX') + 1*PauliString.from_str('IIZZ')\n",
    "varform = varform_4qubits_1param\n",
    "backend = qasm_simulator\n",
    "execute_opts = {'shots' : 1024}\n",
    "evaluator = BasicEvaluator(varform,backend,execute_opts = execute_opts)\n",
    "evaluator.set_linear_combinaison_pauli_string(lcps)\n",
    "params = [0,]\n",
    "expected_value = evaluator.eval(params)\n",
    "print(expected_value)"
   ]
  },
  {
   "cell_type": "markdown",
   "metadata": {},
   "source": [
    "Yes that's right, your code now returns an estimate of the expression\n",
    "\n",
    "\\begin{align}\n",
    "    E(\\theta) = \\langle \\psi(\\theta) | \\hat{\\mathcal{H}} | \\psi(\\theta) \\rangle.\n",
    "\\end{align} \n",
    "\n",
    "for\n",
    "\n",
    "\\begin{align}\n",
    "    \\hat{\\mathcal{H}} = 2\\times \\hat{Z}\\hat{X}\\hat{Z}\\hat{X} + 1\\times \\hat{I}\\hat{I}\\hat{Z}\\hat{Z}\n",
    "\\end{align} \n",
    "\n",
    "and the varform `varform_4qubits_1param` for $\\theta = 0$. The `evaluator.eval(params)` is now a method you can call like a function and it will return the energy $E(\\theta)$.\n",
    "\n",
    "Now comes the time to test this on the $\\text{H}_2$ molecule Hamiltonian!"
   ]
  },
  {
   "cell_type": "markdown",
   "metadata": {},
   "source": [
    "## The Hamiltonian evaluation test\n",
    "\n",
    "We will now import the classes from the previous activity."
   ]
  },
  {
   "cell_type": "code",
   "execution_count": null,
   "metadata": {},
   "outputs": [],
   "source": [
    "from hamiltonian import MolecularFermionicHamiltonian\n",
    "from mapping import JordanWigner"
   ]
  },
  {
   "cell_type": "markdown",
   "metadata": {},
   "source": [
    "For ease of use we will import the integral values instead of using `pyscf`. We also import the Coulomb repulsion energy for later use. By now we are experts in building the Hamiltonian."
   ]
  },
  {
   "cell_type": "code",
   "execution_count": null,
   "metadata": {},
   "outputs": [],
   "source": [
    "with open('Integrals_sto-3g_H2_d_0.7350_no_spin.npz','rb') as f:\n",
    "    out = np.load(f)\n",
    "    h1_load_no_spin = out['h1']\n",
    "    h2_load_no_spin = out['h2']\n",
    "    energy_nuc =  out['energy_nuc']\n",
    "    \n",
    "molecular_hamiltonian = MolecularFermionicHamiltonian.from_integrals(h1_load_no_spin,h2_load_no_spin).include_spin()"
   ]
  },
  {
   "cell_type": "markdown",
   "metadata": {},
   "source": [
    "We use the Jordan-Wigner mapping to the get the `LCPS` for the H2 molecule with `d=0.735`. "
   ]
  },
  {
   "cell_type": "code",
   "execution_count": null,
   "metadata": {},
   "outputs": [],
   "source": [
    "%autoreload\n",
    "mapping = JordanWigner()\n",
    "lcps_h2 = mapping.fermionic_hamiltonian_to_linear_combinaison_pauli_string(molecular_hamiltonian).sort()\n",
    "print(lcps_h2)"
   ]
  },
  {
   "cell_type": "markdown",
   "metadata": {},
   "source": [
    "We build an evaluator and feed it the `LCPS` of H2. And them we evaluate the energy. Use `params` in order that your `varform` prepares the state $|0101\\rangle$."
   ]
  },
  {
   "cell_type": "code",
   "execution_count": null,
   "metadata": {},
   "outputs": [],
   "source": [
    "%autoreload\n",
    "varform = varform_4qubits_1param\n",
    "backend = qasm_simulator\n",
    "execute_opts = {'shots' : 2048}\n",
    "evaluator = BasicEvaluator(varform,backend,execute_opts = execute_opts)\n",
    "evaluator.set_linear_combinaison_pauli_string(lcps_h2)\n",
    "params = [0,]\n",
    "expected_value = evaluator.eval(params)\n",
    "print(expected_value)"
   ]
  },
  {
   "cell_type": "markdown",
   "metadata": {},
   "source": [
    "If your `varform` prepares the state $|0101\\rangle$, you should get something around `-1.83`. This energy is already close to the ground state energy because the ground state is close to $|0101\\rangle$, but still it's not the ground state. We need to find the `params` that will minimise the energy.\n",
    "\n",
    "\\begin{align}\n",
    "    E_0 = \\min_{\\boldsymbol{\\theta}} E(\\boldsymbol{\\theta})\n",
    "\\end{align}"
   ]
  },
  {
   "cell_type": "markdown",
   "metadata": {},
   "source": [
    "# Solver\n",
    "\n",
    "In a final step we need to implement a solver that will try to find the minimal energy. We will implement 2 solvers. The second is optionnal.\n",
    "- First the one using the VQE algo in conjunction with a minimizer to try to minimize `evaluator.eval(params)`.\n",
    "- Next we will make use of the `to_matrix()` method you implemented in the previous activity to find the exact value/solution.\n",
    "\n",
    "## VQE Solver\n",
    "\n",
    "Like any minimzation process this solver will need a couple of ingredients :\n",
    "- A function to minimize, we will provide this with the evaluator\n",
    "- A minimizer, an algorithm that generaly takes in a function and a set of starting parameters and returns the best guess for the optimal parameters that correspond to the minimal value of the function to minimize.\n",
    "- A set of starting parameters.\n",
    "\n",
    "### Minimizer\n",
    "\n",
    "A minimizer that works OK for the VQE algorithme is the  Sequential Least SQuares Programming (SLSQP) algorithm. It's available in the `minimize` sub-module of [scipy](https://docs.scipy.org/doc/scipy/reference/optimize.minimize-slsqp.html)."
   ]
  },
  {
   "cell_type": "code",
   "execution_count": null,
   "metadata": {},
   "outputs": [],
   "source": [
    "from scipy.optimize import minimize"
   ]
  },
  {
   "cell_type": "markdown",
   "metadata": {},
   "source": [
    "We will make a Lambda function with the minimizer so we can set all sorts of parameter before feeding it to the solver."
   ]
  },
  {
   "cell_type": "code",
   "execution_count": null,
   "metadata": {},
   "outputs": [],
   "source": [
    "minimizer = lambda fct, start_param_values : minimize(\n",
    "    fct,\n",
    "    start_param_values,\n",
    "    method = 'SLSQP', \n",
    "    options = {'maxiter' : 5,'eps' : 1e-1, 'ftol' : 1e-4, 'disp' : True, 'iprint' : 2})"
   ]
  },
  {
   "cell_type": "markdown",
   "metadata": {},
   "source": [
    "The `minimizer` now takes only 2 arguments : the function and the starting parameters values. We also specify some options :\n",
    "- A small value for the maximum number of iteration. You will find that running the VQE algorithm is expansive because of the `evaluator.eval(params)` method. Either it's long to simulate on `qasm_simulator` or because it's running on an actual quantum computer.\n",
    "- A `eps` of `0.1`. This is the size of the step the algorithm is going to change the values of the parameters to try to estimate the slope of the function. By the way, a lot of minimizing algorithms use the slope of the function to know in which direction is the minimum. Since our parameters are all angles in radians a value of 0.1 seems reasonnable. Play with this value if you like.\n",
    "- A `ftol` value of `1e-4`. This is the goal for the precision of the value of the minimum value. The chemical accuracy is around 1 milli-Hartree.\n",
    "- We set `iprint` to `2` so see what is going on. For your final implementation you can set this to `0`.\n",
    "\n",
    "Before implementing the `VQESolver` let's try this minimizer! The function is `evaluator.eval` and we start with a parameter of `0`. This will take a while."
   ]
  },
  {
   "cell_type": "code",
   "execution_count": null,
   "metadata": {},
   "outputs": [],
   "source": [
    "minimization_result = minimizer(evaluator.eval,[0,])"
   ]
  },
  {
   "cell_type": "markdown",
   "metadata": {},
   "source": [
    "In the end you should get an minimal energy around `1.86` Hartree. Which is a bit smaller then what we had before minimizing. You can explore the `minimization_result` to retreive this value but also the set of optimal parameters."
   ]
  },
  {
   "cell_type": "code",
   "execution_count": null,
   "metadata": {},
   "outputs": [],
   "source": [
    "opt_params = minimization_result.x\n",
    "opt_value = minimization_result.fun\n",
    "print(opt_params)\n",
    "print(opt_value)"
   ]
  },
  {
   "cell_type": "markdown",
   "metadata": {},
   "source": [
    "### VQE Solver\n",
    "\n",
    "Now you should be in good position to implement the `lowest_eig_value(lcps)` of the `VQESolver` class inside the `Solve.py` file. Test your method here."
   ]
  },
  {
   "cell_type": "code",
   "execution_count": null,
   "metadata": {},
   "outputs": [],
   "source": [
    "from solver import VQESolver"
   ]
  },
  {
   "cell_type": "code",
   "execution_count": null,
   "metadata": {},
   "outputs": [],
   "source": [
    "%autoreload\n",
    "vqe_solver = VQESolver(evaluator,minimizer,[0,],name = 'vqe_solver')\n",
    "opt_value, opt_params = vqe_solver.lowest_eig_value(lcps_h2)"
   ]
  },
  {
   "cell_type": "markdown",
   "metadata": {},
   "source": [
    "The is only one thing missing to have the complete molecular energy : the Coulomb repulsion energy from the nucleus. This value was loaded when we imported the integrals. Let's add it to the electronic energy."
   ]
  },
  {
   "cell_type": "code",
   "execution_count": null,
   "metadata": {},
   "outputs": [],
   "source": [
    "print('Ground state position estimate (vqe) : ',opt_params)\n",
    "print('Ground state energy estimate (electronic, vqe) : ',opt_value)\n",
    "print('Ground state energy estimate (molecular, vqe) : ',opt_value + energy_nuc)"
   ]
  },
  {
   "cell_type": "markdown",
   "metadata": {},
   "source": [
    "### The Eigenstate\n",
    "\n",
    "What is the eigenstate? We can partially find out by using the `varform` with the parameters we have found and measure everything in the Z basis."
   ]
  },
  {
   "cell_type": "code",
   "execution_count": null,
   "metadata": {},
   "outputs": [],
   "source": [
    "eigenstate_qc = varform.copy()\n",
    "eigenstate_qc.measure_all()\n",
    "\n",
    "param_dict = dict(zip(eigenstate_qc.parameters,opt_params))\n",
    "eigenstate_qc = eigenstate_qc.assign_parameters(param_dict)\n",
    "\n",
    "eigenstate_qc.draw('mpl')"
   ]
  },
  {
   "cell_type": "markdown",
   "metadata": {},
   "source": [
    "We now execute this circuit."
   ]
  },
  {
   "cell_type": "code",
   "execution_count": null,
   "metadata": {},
   "outputs": [],
   "source": [
    "execute_opts = {'shots' : 1024}\n",
    "job = execute(eigenstate_qc,backend=qasm_simulator,**execute_opts)\n",
    "result = job.result()\n",
    "counts = result.get_counts(eigenstate_qc)"
   ]
  },
  {
   "cell_type": "markdown",
   "metadata": {},
   "source": [
    "We will use the `plot_histogram` method from `qiskit.visualization` that takes the counts `dict` as an input. "
   ]
  },
  {
   "cell_type": "code",
   "execution_count": null,
   "metadata": {},
   "outputs": [],
   "source": [
    "from qiskit.visualization import plot_histogram"
   ]
  },
  {
   "cell_type": "code",
   "execution_count": null,
   "metadata": {},
   "outputs": [],
   "source": [
    "plot_histogram(counts)"
   ]
  },
  {
   "cell_type": "markdown",
   "metadata": {},
   "source": [
    "We see that the found solution is mostly the state $|0101\\rangle$ which is the Hartree-Fock solution when the 2-body Hamiltonian is not present. Adding this 2-body physics, shifts the energy down a bit by introducing a small contribution of $|1010\\rangle$. The actual statevector has a `-` sign between these two states.\n",
    "\n",
    "\\begin{align}\n",
    "\\alpha_{0101}|0101\\rangle - \\alpha_{1010}|0101\\rangle\n",
    "\\end{align}\n",
    "\n",
    "But this is not something we can know from this. Fortunatly, H2 is a small system which can be solved exactly and we can find out this phase."
   ]
  },
  {
   "cell_type": "markdown",
   "metadata": {},
   "source": [
    "## Exact Solver (optional)\n",
    "\n",
    "If you want to compare the value you get with the VQE algorithm it would be nice to have the exact value. If you were able to implement the `to_matrix()` method for `PauliString` and `LinearCombinaisonPauliString` then you can find the exact value of the ground state. All you need is to diagonalise the matrix reprensenting the whole Hamiltonian and find the lowest eigenvalue! Obviously this will not be possible to do for very large systems."
   ]
  },
  {
   "cell_type": "code",
   "execution_count": null,
   "metadata": {},
   "outputs": [],
   "source": [
    "hamiltonian_matrix_h2 = lcps_h2.to_matrix()\n",
    "eig_values, eig_vectors = np.linalg.eigh(hamiltonian_matrix_h2)\n",
    "eig_order = np.argsort(eig_values)\n",
    "eig_values = eig_values[eig_order]\n",
    "eig_vectors = eig_vectors[:,eig_order]\n",
    "ground_state_value, ground_state_vector = eig_values[0], eig_vectors[:,0]\n",
    "print('Ground state vector (exact) : ', ground_state_vector)\n",
    "print('Ground state energy (electronic, exact) : ', ground_state_value)\n",
    "print('Ground state energy (molecular, exact) : ', ground_state_value + energy_nuc)"
   ]
  },
  {
   "cell_type": "markdown",
   "metadata": {},
   "source": [
    "Now you can complete the `ExactSolver` in the `Solver.py` file."
   ]
  },
  {
   "cell_type": "code",
   "execution_count": null,
   "metadata": {},
   "outputs": [],
   "source": [
    "from solver import ExactSolver"
   ]
  },
  {
   "cell_type": "code",
   "execution_count": null,
   "metadata": {},
   "outputs": [],
   "source": [
    "%autoreload\n",
    "exact_solver = ExactSolver()\n",
    "ground_state_value, ground_state_vector = exact_solver.lowest_eig_value(lcps_h2)\n",
    "print('Ground state vector (exact) : ', ground_state_vector)\n",
    "print('Ground state energy (electronic, exact) : ', ground_state_value)\n",
    "print('Ground state energy (molecular, exact) : ', ground_state_value + energy_nuc)"
   ]
  },
  {
   "cell_type": "markdown",
   "metadata": {},
   "source": [
    "What are the two basis state involved in the ground state? Let's plot the state vector using `matplotlib`."
   ]
  },
  {
   "cell_type": "code",
   "execution_count": null,
   "metadata": {},
   "outputs": [],
   "source": [
    "import matplotlib.pyplot as plt"
   ]
  },
  {
   "cell_type": "code",
   "execution_count": null,
   "metadata": {},
   "outputs": [],
   "source": [
    "fig,ax = plt.subplots(1,1)\n",
    "i_max = np.argmax(np.abs(ground_state_vector))\n",
    "state = ground_state_vector * np.sign(ground_state_vector[i_max])\n",
    "ax.bar(range(len(state)),np.abs(state),color=(np.real(state) > 0).choose(['r','b']))\n",
    "plt.xticks(range(len(state)),[f\"{i:04b}\" for i in range(len(state))], size='small',rotation=60);"
   ]
  },
  {
   "cell_type": "markdown",
   "metadata": {},
   "source": [
    "# What's next?\n",
    "\n",
    "Now that you can find the ground state for a specific H2 molecule configuration (`d = 0.735`), you should be able to do that for many configurations, say `d = 0.2` to `2.5`. Doing that will enable you to plot the so-called dissociation curve : energy vs distance. Do not forget to include the Coulomb repulsion energy of the nucleus!\n",
    "\n",
    "You could also run your algorithm on a noisy backend, either a noisy simulator or a real quantum computer. You've already seen on day 1 how to set/get a noisy backend. You'll see that noise messes things up pretty bad.\n",
    "\n",
    "Running on real machine will introduce the problem of the qubit layout. You might want to change the `initial_layout` in the `execute_opts` so that your `varform` is not applying CNOT gates between qubits that are not connected. You know this needs to insert SWAP gate and this introduce more noise. Also covered in day 1.\n",
    "\n",
    "To limit the effect of readout noise, you could add a `measure_filter` to your `evaluator`, so that each time you execute the `eval_circuits` you apply the filter to the results. Also covered in day 1.\n",
    "\n",
    "Implement the simulatneous evaluation for bitwise commuting cliques or even for general commuting cliques."
   ]
  },
  {
   "cell_type": "markdown",
   "metadata": {},
   "source": [
    "Notebook by **Maxime Dion** <maxime.dion@usherbrooke.ca><br>\n",
    "For the QSciTech-QuantumBC virtual workshop on gate-based quantum computing"
   ]
  },
  {
   "cell_type": "code",
   "execution_count": null,
   "metadata": {},
   "outputs": [],
   "source": []
  }
 ],
 "metadata": {
  "kernelspec": {
   "display_name": "Python 3",
   "language": "python",
   "name": "python3"
  },
  "language_info": {
   "codemirror_mode": {
    "name": "ipython",
    "version": 3
   },
   "file_extension": ".py",
   "mimetype": "text/x-python",
   "name": "python",
   "nbconvert_exporter": "python",
   "pygments_lexer": "ipython3",
   "version": "3.8.3"
  },
  "toc": {
   "base_numbering": 1,
   "nav_menu": {},
   "number_sections": true,
   "sideBar": true,
   "skip_h1_title": false,
   "title_cell": "Table of Contents",
   "title_sidebar": "Contents",
   "toc_cell": false,
   "toc_position": {},
   "toc_section_display": true,
   "toc_window_display": false
  }
 },
 "nbformat": 4,
 "nbformat_minor": 2
}