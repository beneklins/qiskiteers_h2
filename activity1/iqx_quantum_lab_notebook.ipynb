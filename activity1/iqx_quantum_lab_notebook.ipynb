{
 "cells": [
  {
   "cell_type": "code",
   "execution_count": null,
   "metadata": {},
   "outputs": [],
   "source": [
    "from qiskit import QuantumCircuit, IBMQ, execute\n",
    "from qiskit.circuit import QuantumRegister\n",
    "from qiskit.ignis.mitigation.measurement import complete_meas_cal, CompleteMeasFitter\n",
    "from qiskit.tools.monitor import job_monitor\n",
    "\n",
    "def bv_oracle(secret_string):\n",
    "    s = secret_string[::-1]\n",
    "    secret_string_length = len(secret_string)\n",
    "    qc = QuantumCircuit(secret_string_length + 1, name='oracle')\n",
    "    for i in range(secret_string_length):\n",
    "        if s[i] == '1':\n",
    "            qc.cx(i, secret_string_length)\n",
    "    return qc\n",
    "\n",
    "def bv_circuit(n, oracle):\n",
    "    qc = QuantumCircuit(n+1, n)\n",
    "    qc.h(range(n+1))\n",
    "    qc.z(n)\n",
    "    qc.append(oracle, [0,1,2,3])\n",
    "    qc.h(range(n))    \n",
    "    qc.measure(range(n), range(n))\n",
    "    return qc\n",
    "\n",
    "IBMQ.load_account()\n",
    "provider = IBMQ.get_provider(hub='ibm-q-education')\n",
    "bogota = provider.get_backend('ibmq_bogota')\n",
    "\n",
    "SECRET_STRING = '011'\n",
    "N = len(SECRET_STRING)\n",
    "oracle011 = bv_oracle(SECRET_STRING)\n",
    "oracle_breaker_qc = bv_circuit(N, oracle011)\n",
    "\n",
    "layout = [3,1,0,2]\n",
    "calibration_layout = [3,1,0]\n",
    "qr = QuantumRegister(3)\n",
    "qubit_list = [0,1,2]\n",
    "meas_calibs, state_labels = complete_meas_cal(qubit_list=qubit_list, qr=qr, circlabel='mcal')\n",
    "\n",
    "job = execute(oracle_breaker_qc, bogota)\n",
    "BOGOTA_NAIVE_JOB_ID = job.job_id()\n",
    "print('\\n'.join(['---------------------------------------------', f'BOGOTA_NAIVE_JOB_ID: {BOGOTA_NAIVE_JOB_ID}', '---------------------------------------------']))\n",
    "job_monitor(job)\n",
    "\n",
    "print('\\n')\n",
    "\n",
    "job = execute(meas_calibs, bogota, shots=8192, initial_layout=calibration_layout)\n",
    "BOGOTA_MEASCAL_JOB_ID = job.job_id()\n",
    "print('\\n'.join(['-----------------------------------------------', f'BOGOTA_MEASCAL_JOB_ID: {BOGOTA_MEASCAL_JOB_ID}', '-----------------------------------------------']))\n",
    "job_monitor(job)\n",
    "\n",
    "print('\\n')\n",
    "\n",
    "job = execute(oracle_breaker_qc, bogota, initial_layout=layout)\n",
    "BOGOTA_EDUCATED_JOB_ID = job.job_id()\n",
    "print('\\n'.join(['------------------------------------------------', f'BOGOTA_EDUCATED_JOB_ID: {BOGOTA_EDUCATED_JOB_ID}', '------------------------------------------------']))\n",
    "job_monitor(job)"
   ]
  }
 ],
 "metadata": {
  "kernelspec": {
   "display_name": "Python 3",
   "language": "python",
   "name": "python3"
  },
  "language_info": {
   "codemirror_mode": {
    "name": "ipython",
    "version": 3
   },
   "file_extension": ".py",
   "mimetype": "text/x-python",
   "name": "python",
   "nbconvert_exporter": "python",
   "pygments_lexer": "ipython3",
   "version": "3.7.7"
  }
 },
 "nbformat": 4,
 "nbformat_minor": 2
}
