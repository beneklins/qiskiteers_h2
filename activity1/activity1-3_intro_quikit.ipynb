{
 "cells": [
  {
   "cell_type": "code",
   "execution_count": null,
   "metadata": {},
   "outputs": [],
   "source": [
    "import matplotlib.pyplot as pl\n",
    "import numpy as np\n",
    "import typing"
   ]
  },
  {
   "cell_type": "markdown",
   "metadata": {},
   "source": [
    "# An Introduction to Qiskit\n",
    "\n",
    "Objectives\n",
    "* Experiment with the Qiskit framework\n",
    "* Build and execute quantum circuits\n",
    "* Characterize and mitigate noise\n",
    "* Measurements in different basis"
   ]
  },
  {
   "cell_type": "markdown",
   "metadata": {},
   "source": [
    "## The Qiskit library\n",
    "\n",
    "Open source framework is composed of 4 modules\n",
    "* Terra\n",
    "  * Composing quantum programs at the level of circuits and pulses with the code foundation\n",
    "* Ignis\n",
    "  * Addressing noise and errors\n",
    "* Aer\n",
    "  * Developing via simulators and noise models\n",
    "* Aqua\n",
    "  * Building algorithms and applications\n",
    "\n",
    "Today (and for the whole workshop) we will be using classes defined in Terra, Ignis and Aer. "
   ]
  },
  {
   "cell_type": "code",
   "execution_count": null,
   "metadata": {},
   "outputs": [],
   "source": [
    "import qiskit\n",
    "\n",
    "# Make sure that you have qiskit >= 0.23.1\n",
    "qiskit.__qiskit_version__"
   ]
  },
  {
   "cell_type": "markdown",
   "metadata": {},
   "source": [
    "## Bernstein-Vazirani algorithm\n",
    "\n",
    "For the first part of this activity, we will use the [Bernstein-Vazirani algorithm](https://qiskit.org/textbook/ch-algorithms/bernstein-vazirani.html) to study quantum circuits with Qiskit. Note that this algorithm will not be used in the solution of the $H_2$ molecule!\n",
    "\n",
    "A quick refresher on the Bernstein-Vazirani algorithm:\n",
    "* A black-box function $f$ (the oracle), takes as input a string of $n$ bits $x = \\{x_1, x_2, \\ldots, x_n\\}$, and returns the bitwise product of the input $x$ with some $n$-bits string $s$, $f(x) = x \\cdot s \\; (\\text{mod } 2)$.\n",
    "  * For example, if $s=011$ and $x=101$, then the oracle returns $(0\\cdot1 + 1\\cdot0 + 1\\cdot1)\\; (\\text{mod } 2) = 1$\n",
    "* The oracle returns the answer in an output bit (hence the oracle uses $n+1$ bits). \n",
    "* The objective is to find the string $s$.\n",
    "\n",
    "Classically, this is achieved with $n$ calls to the oracle. With a quantum computer, we break the oracle's secret key with a single call to the oracle!"
   ]
  },
  {
   "cell_type": "markdown",
   "metadata": {},
   "source": [
    "### Quantum algorithm\n",
    "\n",
    "1. Initialise the inputs qubits to the $|0\\rangle^{\\otimes n}$ state, and the output qubit to $|−\\rangle$.\n",
    "2. Apply Hadamard gates to the input register\n",
    "3. Query the oracle\n",
    "4. Apply Hadamard gates to the input register\n",
    "5. Measure\n",
    "\n",
    "<img src=\"images/bernstein_vazirani_algo.svg\"/>"
   ]
  },
  {
   "cell_type": "markdown",
   "metadata": {},
   "source": [
    "# Quantum Circuits\n",
    "\n",
    "Objectives\n",
    "\n",
    "1. Build quantum circuits\n",
    "2. Choose backend\n",
    "3. Execute quantum circuits"
   ]
  },
  {
   "cell_type": "markdown",
   "metadata": {},
   "source": [
    "## Building quantum circuits\n",
    "* [QuantumRegister](https://qiskit.org/documentation/stubs/qiskit.circuit.QuantumRegister.html#qiskit.circuit.QuantumRegister)\n",
    "  * Collection of qubits\n",
    "  * Indexed to reference individual qubit (e.g. `qr[0]`)\n",
    "\n",
    "* [ClassicalRegister](https://qiskit.org/documentation/stubs/qiskit.circuit.ClassicalRegister.html#qiskit.circuit.ClassicalRegister)\n",
    "  * Collection of bits\n",
    "  * Used as the receiver of measurements on qubits\n",
    "\n",
    "* [QuantumCircuit](https://qiskit.org/documentation/stubs/qiskit.circuit.QuantumCircuit.html#qiskit.circuit.QuantumCircuit)\n",
    "  * Contains QuantumRegister and ClassicalRegister\n",
    "  * Add gates specifying registers/qubits as arguments\n"
   ]
  },
  {
   "cell_type": "markdown",
   "metadata": {},
   "source": [
    "### Bernstein-Vazirani circuit\n",
    "\n",
    "Circuit for hidden string $s=011$ from the Qiskit textbook.<br>\n",
    "Measure is made on the three input qubits ($q_0$, $q_1$ and $q_2$).\n",
    "\n",
    "<img src=\"images/bernstein-vazirani_circuit.png\">"
   ]
  },
  {
   "cell_type": "code",
   "execution_count": null,
   "metadata": {},
   "outputs": [],
   "source": [
    "from qiskit import QuantumCircuit\n",
    "\n",
    "def bv_oracle(secret_string:str) -> QuantumCircuit:\n",
    "    \"\"\"\n",
    "    Build the oracle corresponding to the input string.\n",
    "\n",
    "    Parameters\n",
    "    ----------\n",
    "    secret_string: str\n",
    "        The hidden string, composed of '0's and/or '1'\n",
    "    \"\"\"\n",
    "\n",
    "    s = secret_string[::-1] # index in string match qubit position\n",
    "    secret_string_length = len(secret_string)\n",
    "\n",
    "    qc = QuantumCircuit(secret_string_length + 1, name='oracle') # one extra qubit for the output\n",
    "\n",
    "    for i in range(secret_string_length):\n",
    "        if s[i] == '1':\n",
    "            qc.cx(i, secret_string_length)\n",
    "\n",
    "    return qc"
   ]
  },
  {
   "cell_type": "code",
   "execution_count": null,
   "metadata": {},
   "outputs": [],
   "source": [
    "def bv_circuit(oracle: QuantumCircuit) -> QuantumCircuit:\n",
    "    \"\"\"\n",
    "    Implementation of the Bernstein-Vazirani algorithm.\n",
    "\n",
    "    Parameters\n",
    "    ----------\n",
    "    oracle: Instruction\n",
    "        The oracle encoding the hidden string\n",
    "    \"\"\"\n",
    "    # Number of qubits, including output qubit\n",
    "    n = oracle.num_qubits\n",
    "    \n",
    "    # Initialize the QuantumCircuit\n",
    "    qc = QuantumCircuit(n, n-1)\n",
    "    \n",
    "    # Put all qubits in superposition and add phase to the ancilla qubit\n",
    "    qc.h(range(n))\n",
    "    qc.z(n-1)\n",
    "    \n",
    "    # Add the oracle\n",
    "    qc.append(oracle, [0,1,2,3]) # can be achieved with \n",
    "                                 # qc.compose(oracle, [0,1,2,3], inplace=True)\n",
    "\n",
    "    # Restore input qubits\n",
    "    qc.h(range(n-1))\n",
    "    \n",
    "    # Measure\n",
    "    qc.measure(range(n-1), range(n-1))\n",
    "\n",
    "    return qc"
   ]
  },
  {
   "cell_type": "markdown",
   "metadata": {},
   "source": [
    "### Visualize the implementation\n",
    "\n",
    "Let's see how our implementation of the Bernstein-Vazirani looks like.\n"
   ]
  },
  {
   "cell_type": "code",
   "execution_count": null,
   "metadata": {},
   "outputs": [],
   "source": [
    "SECRET_STRING = '011'\n",
    "'''\n",
    "# The oracle corresponding to the secret_string\n",
    "oracle011 = bv_oracle(SECRET_STRING)\n",
    "\n",
    "# The quantum circuit implementing B-V algorithm\n",
    "oracle_breaker_qc = bv_circuit(oracle011)\n",
    "oracle_breaker_qc.draw()\n",
    "'''"
   ]
  },
  {
   "cell_type": "markdown",
   "metadata": {},
   "source": [
    "## Choosing a backend\n",
    "\n"
   ]
  },
  {
   "cell_type": "markdown",
   "metadata": {},
   "source": [
    "### Providers\n",
    "\n",
    "A [provider](https://quantum-computing.ibm.com/docs/manage/provider/) is defined by a hierarchical organization of hub, group, and project.\n",
    "\n",
    "<img src=\"images/providers.png\"  width=\"500\">"
   ]
  },
  {
   "cell_type": "code",
   "execution_count": null,
   "metadata": {},
   "outputs": [],
   "source": [
    "from qiskit import IBMQ\n",
    "\n",
    "# IBMQ.save_account(TOKEN)\n",
    "IBMQ.load_account()\n",
    "IBMQ.providers()"
   ]
  },
  {
   "cell_type": "markdown",
   "metadata": {},
   "source": [
    "The method `IBMQ.save_account(<TOKEN>)` will store your access token under `$HOME/.qiskit/qiskitrc`."
   ]
  },
  {
   "cell_type": "markdown",
   "metadata": {},
   "source": [
    "### Fair-share algorithm\n",
    "\n",
    "When submitting jobs to the IBM Q Experience, the order which these jobs are executed is determined by a [fair-share queuing formula](https://quantum-computing.ibm.com/docs/manage/backends/queue/).\n",
    "\n",
    "As the queue order is calculated dynamically as new jobs arrive, it is impossible to guarantee when a fair-share job will be executed.\n",
    "\n",
    "A provider’s dynamic priority depends on how much of the provider’s allotted system time has been consumed over a given floating window of time (about 1 week). \n",
    "\n",
    "The fair-share algorithm works as follow:\n",
    "\n",
    "1. Look at each hub in a device's queue and select the one with the largest dynamic priority at that time.\n",
    "2. With the hub selected, repeat the same process but at the group level.\n",
    "3. With hub and group selected, repeat one last time at the project level.\n",
    "4. For the given provider, select the oldest job in queue from that provider.\n",
    "5. Execute the job\n",
    "6. Recompute the dynamic priorities for the providers by using the amount of time the job consumed on the system."
   ]
  },
  {
   "cell_type": "markdown",
   "metadata": {},
   "source": [
    "### Running jobs through the Sherbrooke hub\n",
    "\n",
    "Advantages\n",
    "* Devices with up to 63 qubits\n",
    "* One quantum processor is assigned to Sherbrooke: *ibmq_sydney*. We have guarantee 5% use on this device.\n",
    "* Reservations\n",
    "* OpenPulse (other than _armonk_)"
   ]
  },
  {
   "cell_type": "code",
   "execution_count": null,
   "metadata": {},
   "outputs": [],
   "source": [
    "# provider = IBMQ.get_provider(hub='ibm-q-sherbrooke')\n",
    "provider = IBMQ.get_provider(hub='ibm-q-education')"
   ]
  },
  {
   "cell_type": "markdown",
   "metadata": {},
   "source": [
    "### Choosing a backend\n",
    "\n",
    "* Simulator  \n",
    "\n",
    "    * QasmSimulator: Simulates experiments\n",
    "      * Designed to mimic an actual device.\n",
    "      * Executes `QuantumCircuit` for $N$ shots.\n",
    "      * Returns count dictionary containing $N$ final values of `ClassicalRegister` in the circuit.\n",
    "      * The circuit may contain gates, measure, reset, conditionals.\n",
    "      * Can run on your machine ([qiskit.providers.aer.QasmSimulator](https://qiskit.org/documentation/stubs/qiskit.providers.aer.QasmSimulator.html)) and in the cloud ('*ibmq_qasm_simulator*').\n",
    "      * Jobs sent to the *ibmq_qasm_simulator* are limited to run times under 10,000 seconds (~2.75 hours).\n",
    "\n",
    "    * StatevectorSimulator: Simulates an ideal shot of an experiment (returns statevector)\n",
    "      * Simulates a single-shot of a `QuantumCircuit` and returns the final quantum statevector.\n",
    "      * The circuit may contain gates, and also measure, reset, and conditional operations.\n",
    "      * Available locally ([qiskit.providers.aer.StatevectorSimulator](https://qiskit.org/documentation/stubs/qiskit.providers.aer.StatevectorSimulator.html)).\n",
    "\n",
    "  * UnitarySimulator: Simulates an ideal circuit (return circuit unitary)\n",
    "    * Constructs the full $n$-qubit unitary matrix for a QuantumCircuit.\n",
    "    * Done by applying each gate matrix to an initial identity matrix.\n",
    "    * Circuit may only contain gates.\n",
    "    * Available locally ([qiskit.providers.aer.UnitarySimulator](https://qiskit.org/documentation/stubs/qiskit.providers.aer.UnitarySimulator.html)).\n",
    "\n",
    "* Real device\n",
    "  * Best practices\n",
    "    * Debug circuits using simulators before going to hardware.\n",
    "    * In general, it is preferable to use the smallest processor that provides the required capability and acceptable queue (though this information is not so relevant... see 'Fair-share queueing').\n",
    "    * Use smaller number of shots for initial hardware runs (e.g., 1024 instead of 8192).\n",
    "    * Overhead associated with preparing a job which can be significant for small circuits. Think at bundling circuits (more on this later).\n"
   ]
  },
  {
   "cell_type": "code",
   "execution_count": null,
   "metadata": {},
   "outputs": [],
   "source": [
    "# List available backends for provider\n",
    "provider.backends()"
   ]
  },
  {
   "cell_type": "code",
   "execution_count": null,
   "metadata": {},
   "outputs": [],
   "source": [
    "simulator = provider.get_backend('ibmq_qasm_simulator')\n",
    "bogota = provider.get_backend('ibmq_bogota')"
   ]
  },
  {
   "cell_type": "markdown",
   "metadata": {},
   "source": [
    "### Backend properties\n",
    "\n",
    "* Qubit's calibration data\n",
    "* Gate's calibration data\n",
    "\n",
    "You can access a description of the `BackendProperties` class [here](https://quantum-computing.ibm.com/docs/manage/backends/properties)\n"
   ]
  },
  {
   "cell_type": "code",
   "execution_count": null,
   "metadata": {},
   "outputs": [],
   "source": [
    "bogota_prop = bogota.properties()\n",
    "#bogota_prop.to_dict()"
   ]
  },
  {
   "cell_type": "markdown",
   "metadata": {},
   "source": [
    "### Backend configuration\n",
    "\n",
    "* Basis gates\n",
    "* Coupling map\n",
    "* Supported instructions\n",
    "* Max experiments\n",
    "* Max shots\n",
    "* etc.\n",
    "\n",
    "You can access a description of the `BackendConfiguration` class [here](https://quantum-computing.ibm.com/docs/manage/backends/configuration)"
   ]
  },
  {
   "cell_type": "code",
   "execution_count": null,
   "metadata": {},
   "outputs": [],
   "source": [
    "bogota_conf = bogota.configuration()\n",
    "#bogota_conf.to_dict()"
   ]
  },
  {
   "cell_type": "markdown",
   "metadata": {},
   "source": [
    "### Experiment 1\n",
    "\n",
    "Back to our Bernstein-Vazirani circuit, let's execute the circuit see if we can find the hidden string.\n",
    "\n",
    "The `execute()` method can be [highly customized](https://qiskit.org/documentation/apidoc/execute.html).\n",
    "\n",
    "We will start by leaving all parameters to their default values and by running the circuit on the *ibmq_qasm_simulator*."
   ]
  },
  {
   "cell_type": "code",
   "execution_count": null,
   "metadata": {},
   "outputs": [],
   "source": [
    "from qiskit import execute\n",
    "from qiskit.visualization import plot_histogram\n",
    "'''\n",
    "job = execute(oracle_breaker_qc, simulator)\n",
    "\n",
    "print(f'--------------------------------\\nJob ID: {job.job_id()}\\n--------------------------------')\n",
    "\n",
    "# result() is blocking\n",
    "counts = job.result().get_counts()\n",
    "plot_histogram(counts)\n",
    "'''"
   ]
  },
  {
   "cell_type": "markdown",
   "metadata": {},
   "source": [
    "Awesome! We find the hidden string with a single execution (nb shots default to 1024).\n",
    "\n",
    "Instead of using the blocking `result()` method, we can also retrieve a job using the ID of the job and the `IBMQBackendService.retrieve_job()` method."
   ]
  },
  {
   "cell_type": "code",
   "execution_count": null,
   "metadata": {},
   "outputs": [],
   "source": [
    "'''\n",
    "counts = provider.backends.retrieve_job('5ffb6e77de0e058b1fa7e7a8').result().get_counts()\n",
    "plot_histogram(counts)\n",
    "'''"
   ]
  },
  {
   "cell_type": "markdown",
   "metadata": {},
   "source": [
    "Since our algorithm works perfectly, let's try it on Bogota."
   ]
  },
  {
   "cell_type": "code",
   "execution_count": null,
   "metadata": {},
   "outputs": [],
   "source": [
    "# Modify this variable to use your job ID\n",
    "BOGOTA_NAIVE_JOB_ID = \"5fff524b20543fff779973fd\""
   ]
  },
  {
   "cell_type": "code",
   "execution_count": null,
   "metadata": {},
   "outputs": [],
   "source": [
    "from qiskit.tools.monitor import job_monitor\n",
    "'''\n",
    "job = execute(oracle_breaker_qc, bogota)\n",
    "BOGOTA_NAIVE_JOB_ID = job.job_id()\n",
    "\n",
    "print(f'--------------------------------\\nJob ID: {BOGOTA_NAIVE_JOB_ID}\\n--------------------------------')\n",
    "\n",
    "job_monitor(job)\n",
    "'''"
   ]
  },
  {
   "cell_type": "code",
   "execution_count": null,
   "metadata": {},
   "outputs": [],
   "source": [
    "counts = provider.backends.retrieve_job(BOGOTA_NAIVE_JOB_ID).result().get_counts()\n",
    "plot_histogram(counts)"
   ]
  },
  {
   "cell_type": "markdown",
   "metadata": {},
   "source": [
    "Oops, the probability to measure the secret string in down to 69.4%\n",
    "\n",
    "In the next section, we will see different techniques we can try to improve our results."
   ]
  },
  {
   "cell_type": "markdown",
   "metadata": {},
   "source": [
    "# Errors\n",
    "\n",
    "Current quantum processors are noisy and Qiskit offers different ways to model and study noisy on a quantum channel.\n",
    "\n",
    "Objectives:\n",
    "* Characterize the noise present on quantum devices\n",
    "* Understand the role of the transpiler and the optimization process\n",
    "* Mitigate noise present in quantum computations\n"
   ]
  },
  {
   "cell_type": "markdown",
   "metadata": {},
   "source": [
    "## Calibration\n",
    "\n",
    "<img src=\"images/bogota_calibration.png\" width=\"500\">"
   ]
  },
  {
   "cell_type": "markdown",
   "metadata": {},
   "source": [
    "### Decoherence error\n",
    "\n",
    "<img src=\"images/decoherence.png\" width=\"600\"><br>\n",
    "Source: Krantz, P., _et al._ (2019). A quantum engineer’s guide to superconducting qubits. Applied Physics Reviews, 6(2). https://doi.org/10.1063/1.5089550\n",
    "\n",
    "__Relaxation__\n",
    "\n",
    "By convention, the higher energy state of the qubit is denoted $|1 \\rangle$, so decoherence is the physical relaxation of the qubit from the $|1\\rangle$ state to the $|0\\rangle$ state (aka the ground state). \n",
    "\n",
    "A qubit prepared in the $|1\\rangle$ state has probability $\\mathcal{P}(|1\\rangle) = \\exp{(-t/T_1)}$ to be measured in the state $|1\\rangle$ after time $t$. $T_1$ is the _energy relaxation time_.\n",
    "\n",
    "__Dephasing__\n",
    "\n",
    "Corresponds to the random change in the phase of a qubit.\n",
    "\n",
    "Can be characterized by a Ramsay or a Hahn echo experiment from which we can extract the _dephasing time_ $T_2$.\n",
    "\n",
    "<img src=\"images/t1_t2.png\" width=\"500\"><br>\n",
    "Source: Krantz, P., _et al._ (2019). A quantum engineer’s guide to superconducting qubits. Applied Physics Reviews, 6(2). https://doi.org/10.1063/1.5089550\n",
    "\n",
    "To learn more on decoherence with Qiskit, you can have a look at [this tutorial](https://qiskit.org/documentation/tutorials/noise/2_relaxation_and_decoherence.html) and [this section](https://qiskit.org/textbook/ch-quantum-hardware/calibrating-qubits-pulse.html) in the Qiskit textbook."
   ]
  },
  {
   "cell_type": "markdown",
   "metadata": {},
   "source": [
    "### Readout error\n",
    "\n",
    "Refer to the classification error that can occur from kerneled measurement. \n",
    "\n",
    "<img src=\"images/calibrating-qubits.png\" width=\"200\"><br>\n",
    "Source: https://qiskit.org/textbook/ch-quantum-hardware/calibrating-qubits-pulse.html\n"
   ]
  },
  {
   "cell_type": "markdown",
   "metadata": {},
   "source": [
    "### Gate error\n",
    "\n",
    "The calibration error of single-qubit ($SX$) and two-qubits ($CNOT$) gates is determined using randomized benchmarking.\n",
    "\n",
    "This protocol consists in the generation of a sequence of $m$ gates with the particularity that the resulting circuit is the identity, for example\n",
    "\n",
    "<img src=\"images/randomized_benchmarking_circuit.png\" width=\"500\">\n",
    "\n",
    "We extract the gate errors from the RB curve.\n",
    "\n",
    "<img src=\"images/randomized_benchmarking_results.png\" width=\"300\"><br>\n",
    "Source: https://qiskit.org/textbook/ch-quantum-hardware/randomized-benchmarking.html\n"
   ]
  },
  {
   "cell_type": "markdown",
   "metadata": {},
   "source": [
    "### Statistical error\n",
    "\n",
    "Statistical error refers to the fact that a finite number of measurements is made for each experiment.\n",
    "\n",
    "For $N$ measurements of some state $|\\psi \\rangle = \\alpha |0\\rangle + \\beta |1 \\rangle$, if the counts are $\\{0: N_0, 1:N_1\\}$ with $N_0 + N_1 = N$, then \n",
    "\n",
    "\\begin{align}\n",
    "\\frac{N_{0}}{N} &\\approx |\\alpha|^{2}\\\\\n",
    "\\frac{N_{1}}{N} &\\approx |\\beta|^{2}\n",
    "\\end{align}\n",
    "\n",
    "We can get a more accurate outcome of some quantum experiment by increasing the number of shots."
   ]
  },
  {
   "cell_type": "code",
   "execution_count": null,
   "metadata": {},
   "outputs": [],
   "source": [
    "# default is 1024\n",
    "bogota_conf.max_shots"
   ]
  },
  {
   "cell_type": "markdown",
   "metadata": {},
   "source": [
    "### Experiment 2\n",
    "\n",
    "Let's go back to our Bernstein-Vazirani circuit and add a `NoiseModel` to our computation.\n"
   ]
  },
  {
   "cell_type": "code",
   "execution_count": null,
   "metadata": {},
   "outputs": [],
   "source": [
    "from qiskit.providers.aer.noise import NoiseModel\n",
    "'''\n",
    "## Retreive the noise model corresponding to Bogota\n",
    "bogota_nm = NoiseModel.from_backend(bogota_prop)\n",
    "\n",
    "job = execute(oracle_breaker_qc,\n",
    "              simulator,\n",
    "              noise_model=bogota_nm)\n",
    "\n",
    "counts = job.result().get_counts()\n",
    "plot_histogram(counts)\n",
    "'''"
   ]
  },
  {
   "cell_type": "markdown",
   "metadata": {},
   "source": [
    "Not bad, we find the right string ~80% percent of the time.\n",
    "\n",
    "This is indeed much better than the results we obtained with the real device (69%)...\n",
    "\n",
    "Where this difference comes from?"
   ]
  },
  {
   "cell_type": "markdown",
   "metadata": {},
   "source": [
    "### Experiment 3\n",
    "\n",
    "To get closer to the real device, we can use the same topology and the same basis gates as the Bogota device. Let's do it!"
   ]
  },
  {
   "cell_type": "code",
   "execution_count": null,
   "metadata": {},
   "outputs": [],
   "source": [
    "'''\n",
    "job = execute(oracle_breaker_qc,\n",
    "              simulator,\n",
    "              noise_model=bogota_nm,\n",
    "              coupling_map=bogota_conf.coupling_map,\n",
    "              basis_gates=bogota_conf.basis_gates)\n",
    "\n",
    "counts = job.result().get_counts()\n",
    "plot_histogram(counts)\n",
    "'''"
   ]
  },
  {
   "cell_type": "markdown",
   "metadata": {},
   "source": [
    "So, using Bogota's topology and basis gates has a significant impact on the performance of our model and bring us pretty close to the results we obtained with the real device.\n",
    "\n",
    "Wait, what is the actual circuit being executed?"
   ]
  },
  {
   "cell_type": "markdown",
   "metadata": {},
   "source": [
    "### Transpiling\n",
    "\n",
    "[Transpilation](https://qiskit.org/documentation/apidoc/transpiler.html) is the process of rewriting a given input circuit to match the topology of a specific quantum device, and/or to optimize the circuit for execution on present day noisy quantum systems.\n",
    "\n",
    "<img src=\"images/transpiling_core_steps.png\" width=\"500\">\n"
   ]
  },
  {
   "cell_type": "markdown",
   "metadata": {},
   "source": [
    "### Pass manager and optimization levels\n",
    "\n",
    "The circuit transformations taking place during transpiling are known as [transpiler passes](https://qiskit.org/documentation/tutorials/circuits_advanced/04_transpiler_passes_and_passmanager.html).\n",
    "The `PassManager` is responsible to chain together the different passes.\n",
    "\n",
    "Qiskit define a variety of `Passe` that can be added to a custom `PassManager` object.\n",
    "By setting the `optimization_level` argument in `execute()` and `transpile()` methods, we pick one of the pre-build pass manager defined in Qiskit.\n",
    "\n",
    "* *optimization_level=0*: just maps the circuit to the backend, with no explicit optimization.\n",
    "* *optimization_level=1*: maps the circuit, but also does light-weight optimizations by collapsing adjacent gates.\n",
    "* *optimization_level=2*: medium-weight optimization, including a noise-adaptive layout and a gate-cancellation procedure based on gate commutation relationships.\n",
    "* *optimization_level=3*: heavy-weight optimization, which in addition to previous steps, does resynthesis of two-qubit blocks of gates in the circuit.\n",
    "\n",
    "By default, *optimization_level* is set to 1."
   ]
  },
  {
   "cell_type": "code",
   "execution_count": null,
   "metadata": {},
   "outputs": [],
   "source": [
    "from qiskit import transpile\n",
    "from qiskit.transpiler import PassManager, passes\n",
    "'''\n",
    "qc = transpile(oracle_breaker_qc,\n",
    "               coupling_map=bogota_conf.coupling_map,\n",
    "               basis_gates=bogota_conf.basis_gates)\n",
    "qc.draw()\n",
    "'''"
   ]
  },
  {
   "cell_type": "code",
   "execution_count": null,
   "metadata": {},
   "outputs": [],
   "source": [
    "print(f'Original circuit depth: {oracle_breaker_qc.depth()} - Transpiled circuit depth: {qc.depth()}')"
   ]
  },
  {
   "cell_type": "markdown",
   "metadata": {},
   "source": [
    "What a mess!\n",
    "\n",
    "Our circuit, which should have depth 5 turned to a depth 13.<br>\n",
    "Moreover, instead of having 2 $\\text{CNOT}$ gates, it has ~10 of them.\n",
    "\n",
    "In the original circuit, the 2 $\\text{CNOT}$ gates are applied to the qubits (0,3) and (1,3) respectively. But those qubits are not coupled!"
   ]
  },
  {
   "cell_type": "code",
   "execution_count": null,
   "metadata": {},
   "outputs": [],
   "source": [
    "bogota_conf.coupling_map"
   ]
  },
  {
   "cell_type": "markdown",
   "metadata": {},
   "source": [
    "In order to execute the circuit that we submit, the transpiler has to do 2 things:\n",
    "* Insert $\\text{SWAP}$ gates to \"_move_\" qubits around and be able to apply $\\text{CNOT}$ gates to coupled qubits (_Note that the optimal swapping of qubits is an NP-hard task, hence heuristics are used to find such an assignment._)\n",
    "* Since $\\text{SWAP}$ gates do not belong to the basis gate set of Bogota, each $\\text{SWAP}$ gate is expressed using three $\\text{CNOT}$ gates.\n",
    "\n",
    "A quick look should convince you that swapping qubits should not be necessary for this very simple circuit.\n",
    "\n",
    "All we need to do is to assign qubits from our circuits to the physical qubits in a clever way!\n",
    "\n",
    "One possible solution:\n",
    "* virtual qubit $q_0 \\rightarrow$ physical qubit 3\n",
    "* virtual qubit $q_1 \\rightarrow$ physical qubit 1\n",
    "* virtual qubit $q_2 \\rightarrow$ physical qubit 0\n",
    "* virtual qubit $q_3 \\rightarrow$ physical qubit 2"
   ]
  },
  {
   "cell_type": "markdown",
   "metadata": {},
   "source": [
    "This mapping implied application of $CNOT$ gates between qubit pairs `[[1,2],[2,3]]`.\n",
    "\n",
    "Is the **best solution**?"
   ]
  },
  {
   "cell_type": "code",
   "execution_count": null,
   "metadata": {},
   "outputs": [],
   "source": [
    "'''\n",
    "# Print CNOT error from Bogota calibration data\n",
    "cx_errors = list(map(lambda cm: bogota_prop.gate_error(\"cx\", cm), bogota_conf.coupling_map))\n",
    "for i in range(len(bogota_conf.coupling_map)):\n",
    "    print(f'      -> qubits {bogota_conf.coupling_map[i]} CNOT error: {cx_errors[i]}')\n",
    "'''"
   ]
  },
  {
   "cell_type": "markdown",
   "metadata": {},
   "source": [
    "Of course, the transpiler also translate the circuit to use the basis gates set of the targeted device"
   ]
  },
  {
   "cell_type": "code",
   "execution_count": null,
   "metadata": {},
   "outputs": [],
   "source": [
    "bogota_conf.basis_gates"
   ]
  },
  {
   "cell_type": "code",
   "execution_count": null,
   "metadata": {},
   "outputs": [],
   "source": [
    "'''\n",
    "# Print U2 error from Bogota calibration data\n",
    "u2_errors = list(map(lambda q: bogota_prop.gate_error(\"sx\", q), range(bogota_conf.num_qubits)))\n",
    "for i in range(bogota_conf.num_qubits):\n",
    "    print(f'      -> qubits {i} U2 error: {u2_errors[i]}')\n",
    "'''"
   ]
  },
  {
   "cell_type": "markdown",
   "metadata": {},
   "source": [
    "By inspection, we see that we should avoid using CNOT gates between qubits {0,1} and aim for CNOT gates between `[[1,2],[2,3]]`.\n",
    "\n",
    "Also, we find that $SX$ gate error is the largest for qubit 2.\n",
    "\n",
    "Fair enough, our solution seems acceptable. Let's see what the circuit looks like with this mapping!"
   ]
  },
  {
   "cell_type": "code",
   "execution_count": null,
   "metadata": {},
   "outputs": [],
   "source": [
    "'''\n",
    "# when a list argument is used, virtual qubits are ordered\n",
    "layout = [3,1,0,2]\n",
    "\n",
    "qc_il = transpile(oracle_breaker_qc,\n",
    "                  coupling_map=bogota_conf.coupling_map,\n",
    "                  basis_gates=bogota_conf.basis_gates,\n",
    "                  initial_layout=layout)\n",
    "qc_il.draw()\n",
    "'''"
   ]
  },
  {
   "cell_type": "code",
   "execution_count": null,
   "metadata": {},
   "outputs": [],
   "source": [
    "print(f'Original circuit depth: {oracle_breaker_qc.depth()} - Transpiled circuit depth: {qc.depth()} - Transpiled circuit with physical qubit mapping depth: {qc_il.depth()}')"
   ]
  },
  {
   "cell_type": "code",
   "execution_count": null,
   "metadata": {},
   "outputs": [],
   "source": [
    "# Now, compare circuit depth for different optimization levels\n",
    "'''\n",
    "qc_opt0 = transpile(oracle_breaker_qc,\n",
    "                       coupling_map=bogota_conf.coupling_map,\n",
    "                       basis_gates=bogota_conf.basis_gates,\n",
    "                       initial_layout=layout,\n",
    "                       optimization_level=0)\n",
    "qc_opt1 = transpile(oracle_breaker_qc,\n",
    "                       coupling_map=bogota_conf.coupling_map,\n",
    "                       basis_gates=bogota_conf.basis_gates,\n",
    "                       initial_layout=layout,\n",
    "                       optimization_level=1)\n",
    "qc_opt2 = transpile(oracle_breaker_qc,\n",
    "                       coupling_map=bogota_conf.coupling_map,\n",
    "                       basis_gates=bogota_conf.basis_gates,\n",
    "                       initial_layout=layout,\n",
    "                       optimization_level=2)\n",
    "qc_opt3 = transpile(oracle_breaker_qc,\n",
    "                       coupling_map=bogota_conf.coupling_map,\n",
    "                       basis_gates=bogota_conf.basis_gates,\n",
    "                       initial_layout=layout,\n",
    "                       optimization_level=3)\n",
    "\n",
    "print(f'Depth for transpiled circuits with optimization levels {0,1,2,3} respectively: ({qc_opt0.depth()}, {qc_opt1.depth()}, {qc_opt2.depth()}, {qc_opt3.depth()})')\n",
    "'''"
   ]
  },
  {
   "cell_type": "markdown",
   "metadata": {},
   "source": [
    "### Experiment 4\n",
    "\n",
    "Execute our Bernstein-Vazirani circuit by specifying the mapping of the quantum circuit to the device with optimization level 1."
   ]
  },
  {
   "cell_type": "code",
   "execution_count": null,
   "metadata": {},
   "outputs": [],
   "source": [
    "'''\n",
    "qc_opt1_result = execute(qc_opt1,\n",
    "                         simulator,\n",
    "                         noise_model=bogota_nm,\n",
    "                         coupling_map=bogota_conf.coupling_map,\n",
    "                         basis_gates=bogota_conf.basis_gates).result()\n",
    "\n",
    "counts = qc_opt1_result.get_counts()\n",
    "plot_histogram(counts)\n",
    "'''"
   ]
  },
  {
   "cell_type": "markdown",
   "metadata": {},
   "source": [
    "**Conclusion**\n",
    "\n",
    "By carefully analysing our quantum circuit and choosing a logical to physical qubit mapping leading to an _error aware_ assignation, we can greatly improve the result of our experiments!\n",
    "\n",
    "With around 80% for state 011, we are back to the results we obtained at Experiment 2."
   ]
  },
  {
   "cell_type": "markdown",
   "metadata": {},
   "source": [
    "## Error mitigation\n",
    "\n",
    "We improved the output of our Bernstein-Vazirani circuit by cleverly mapping logical qubits to physical qubits... can we do better?\n",
    "\n",
    "* Error correction<br>\n",
    "  Out of reach with current devices having\n",
    "  1. limited number of qubits\n",
    "  2. limited connectivity between qubits\n",
    "  3. limited coherence time\n",
    "* Error mitigation<br>\n",
    "  * Gate errors: hard to mitigate\n",
    "  * Decoherence errors: should not be significant given our shallow circuit\n",
    "  * Readout errors: let's try!"
   ]
  },
  {
   "cell_type": "markdown",
   "metadata": {},
   "source": [
    "### Calibration matrix\n",
    "\n",
    "As a simple model of the measurement noise, we can imagine that the measurement first selects one of these outputs in a perfect and noiseless manner, and then noise subsequently causes this perfect output to be perturbed before it is returned to the user.\n",
    "\n",
    "\\begin{equation}\n",
    "R_{noisy} = MR_{ideal} \\Leftrightarrow R_{ideal} = M^{-1}R_{noisy}\n",
    "\\end{equation}\n",
    "\n",
    "where $R_\\text{noisy}$ and $R_\\text{ideal}$ stands for the ideal and noisy results respectively and $M$ is the perturbation matrix representing readout errors.\n",
    "\n",
    "If we can approximate $M$, then we should be able to get closer to $R_\\text{ideal}$.\n"
   ]
  },
  {
   "cell_type": "markdown",
   "metadata": {},
   "source": [
    "\n",
    "The Ignis module provides all the [tooling for this purpose](https://qiskit.org/documentation/apidoc/mitigation.html#measurement) and a [tutorial](https://qiskit.org/documentation/tutorials/noise/3_measurement_error_mitigation.html) is also available in Qiskit.\n",
    "\n",
    "The idea is to prepare all $2^n$ basis input states and compute the probability of measuring counts in the other basis states.\n",
    "\n",
    "From these calibrations, it is possible to correct the average results of another experiment of interest."
   ]
  },
  {
   "cell_type": "code",
   "execution_count": null,
   "metadata": {},
   "outputs": [],
   "source": [
    "from qiskit.circuit import QuantumRegister\n",
    "from qiskit.ignis.mitigation.measurement import complete_meas_cal\n",
    "'''\n",
    "# Generate the calibration circuits for the 3 qubits we measure\n",
    "qr = QuantumRegister(3)\n",
    "qubit_list = [0,1,2]\n",
    "\n",
    "# meas_calibs is a list containing 2^n circuits, one for each state.\n",
    "meas_calibs, state_labels = complete_meas_cal(qubit_list=qubit_list, qr=qr, circlabel='mcal')\n",
    "\n",
    "print(f'Number of circuits: {len(meas_calibs)}')\n",
    "meas_calibs[1].draw()\n",
    "'''"
   ]
  },
  {
   "cell_type": "markdown",
   "metadata": {},
   "source": [
    "### Circuit bundling\n",
    "\n",
    "To compute the calibration matrix we will have to execute these $2^n$ circuits which, in our case, turns out to be 16.\n",
    "\n",
    "There is some overhead with each individual job that is processed. So, when sending multiple jobs, this overhead adds up and negatively impact our priority in the fair-share queuing algorithm.\n",
    "\n",
    "This is where **circuit bundling** comes in: it is possible include multiple circuits into one job.\n",
    "\n",
    "To _bundle_ multiple circuits into one job, all you have to do is to submit a list of `QuantumCircuit` to the `execute()` method."
   ]
  },
  {
   "cell_type": "code",
   "execution_count": null,
   "metadata": {},
   "outputs": [],
   "source": [
    "# maximum number of circuits that can be bundled in a single job\n",
    "bogota_conf.max_experiments"
   ]
  },
  {
   "cell_type": "code",
   "execution_count": null,
   "metadata": {},
   "outputs": [],
   "source": [
    "from qiskit.ignis.mitigation.measurement import complete_meas_cal\n",
    "'''\n",
    "# since we measure only {q_0, q_1, q_2} we will compute the calibration matrix for these 3 qubits\n",
    "calibration_layout = [3,1,0]\n",
    "\n",
    "result = execute(meas_calibs,\n",
    "                 simulator,\n",
    "                 shots=8192,\n",
    "                 noise_model=bogota_nm,\n",
    "                 coupling_map=bogota_conf.coupling_map,\n",
    "                 basis_gates=bogota_conf.basis_gates,\n",
    "                 initial_layout=calibration_layout).result()\n",
    "'''"
   ]
  },
  {
   "cell_type": "markdown",
   "metadata": {},
   "source": [
    "We can then retrieve the counts for individual experiments"
   ]
  },
  {
   "cell_type": "code",
   "execution_count": null,
   "metadata": {},
   "outputs": [],
   "source": [
    "# For example, plot histogram for circuit corresponding to state '001' (index 1)\n",
    "plot_histogram(result.get_counts(meas_calibs[1]))"
   ]
  },
  {
   "cell_type": "markdown",
   "metadata": {},
   "source": [
    "### Error mitigation with calibration matrix\n",
    "\n",
    "Now that we know what circuit bundling is, we can use the result of the basis states experiments to mitigate the error of the Bernstein-Vazirani circuit."
   ]
  },
  {
   "cell_type": "code",
   "execution_count": null,
   "metadata": {},
   "outputs": [],
   "source": [
    "from qiskit.ignis.mitigation.measurement import CompleteMeasFitter\n",
    "'''\n",
    "# Initialize the measurement correction fitter for a full calibration\n",
    "meas_fitter = CompleteMeasFitter(result, state_labels)\n",
    "meas_fitter.plot_calibration()\n",
    "'''"
   ]
  },
  {
   "cell_type": "code",
   "execution_count": null,
   "metadata": {},
   "outputs": [],
   "source": [
    "'''\n",
    "# Get the filter object\n",
    "meas_filter = meas_fitter.filter\n",
    "\n",
    "# Apply the calibration matrix to the results of our Bernstein-Vazirani circuit\n",
    "counts = meas_filter.apply(qc_opt1_result).get_counts(0)\n",
    "plot_histogram(counts)\n",
    "'''"
   ]
  },
  {
   "cell_type": "markdown",
   "metadata": {},
   "source": [
    "Impressive, by applying the inverse of the calibration matrix to our results we achieve 100% accuracy with the simulator using the Bogota noise model (remember we were around 85%)!\n",
    "\n",
    "Let's try it with the real device!"
   ]
  },
  {
   "cell_type": "code",
   "execution_count": null,
   "metadata": {},
   "outputs": [],
   "source": [
    "'''\n",
    "BOGOTA_MEASCAL_JOB_ID = \"6002116d25c4183b28234d45\"\n",
    "result = provider.backends.retrieve_job(BOGOTA_MEASCAL_JOB_ID).result()\n",
    "'''"
   ]
  },
  {
   "cell_type": "code",
   "execution_count": null,
   "metadata": {},
   "outputs": [],
   "source": [
    "'''\n",
    "meas_fitter = CompleteMeasFitter(result, state_labels)\n",
    "meas_fitter.plot_calibration()\n",
    "'''"
   ]
  },
  {
   "cell_type": "code",
   "execution_count": null,
   "metadata": {},
   "outputs": [],
   "source": [
    "'''\n",
    "BOGOTA_EDUCATED_JOB_ID = \"600223ed25c418d649234e02\"\n",
    "result = provider.backends.retrieve_job(BOGOTA_EDUCATED_JOB_ID).result()\n",
    "meas_filter = meas_fitter.filter\n",
    "\n",
    "# Apply the calibration matrix to the results of our Bernstein-Vazirani circuit\n",
    "counts = meas_filter.apply(result).get_counts(0)\n",
    "plot_histogram(counts)\n",
    "'''"
   ]
  },
  {
   "cell_type": "markdown",
   "metadata": {},
   "source": [
    "By applying this error mitigation strategy, we measure the expected state 89.4% of the time (recall that without error mitigation, we were at 79.7%)"
   ]
  },
  {
   "cell_type": "markdown",
   "metadata": {},
   "source": [
    "# Measurement\n",
    "\n",
    "Objectives:\n",
    "* Understand what is a measurement in the computational basis states\n",
    "* Perform measurements in different basis state"
   ]
  },
  {
   "cell_type": "markdown",
   "metadata": {},
   "source": [
    "## Projective measurement\n",
    "\n",
    "The measurement of an observable $M$ can be described by a collection ${P_m}$ of projectors onto the eigenspace of $M$ where $m$ refers to the measurement outcomes that may occur in the experiment\n",
    "\n",
    "\\begin{align}\n",
    "M = \\sum_m mP_m.\n",
    "\\end{align}\n",
    "\n",
    "This is known as the spectral decomposition of the operator $M$.\n",
    "\n",
    "If the state of the quantum system is $|\\psi\\rangle$ immediately before the measurement then the probability that result $m$ occurs:\n",
    "\n",
    "\\begin{align}\n",
    "\\mathcal{P}(m) = \\langle \\psi |P_m | \\psi \\rangle\n",
    "\\end{align}"
   ]
  },
  {
   "cell_type": "markdown",
   "metadata": {},
   "source": [
    "## Computational basis states\n",
    "\n",
    "Let's consider a qubit in an arbitrary state $|\\psi \\rangle = \\alpha |0 \\rangle + \\beta |1 \\rangle$ where the states $|0 \\rangle$ and $|1 \\rangle$ are known as **computational basis states**.\n",
    "\n",
    "The Born's rule tells us that if we measure the qubit, we will obtain either '0' or '1' with probability $|\\alpha|^2$ and $|\\beta|^2$ respectively.\n",
    "\n",
    "The projectors allowing us to measure the state of a qubit in the computational basis states are $P_0 = |0\\rangle \\langle 0|$ and $P_1 = |1\\rangle \\langle 1|$.\n",
    "\n",
    "Therefore, the probability of measuring '0' is given by\n",
    "\n",
    "\\begin{align}\n",
    "\\mathcal{P}(0) &= \\langle \\psi |P_0 | \\psi \\rangle \\\\\n",
    "&= (\\alpha^\\dagger  \\langle 0| + \\beta^\\dagger \\langle 1| ) \\ |0\\rangle \\langle 0| \\ (\\alpha |0 \\rangle + \\beta |1 \\rangle) \\\\\n",
    "&= |\\alpha|^2\n",
    "\\end{align}"
   ]
  },
  {
   "cell_type": "markdown",
   "metadata": {},
   "source": [
    "## Measurement in other basis states\n",
    "\n",
    "Given any basis states $|a\\rangle$ and $|b\\rangle$ for a qubit, it is possible to express an arbitrary state as a linear combination $\\gamma |a\\rangle + \\delta |b\\rangle$ of those states.\n",
    "\n",
    "Furthermore, provided $|a\\rangle$ and $|b\\rangle$ are orthonormal, it is possible to perform a measurement with respect to the $|a\\rangle$, $|b\\rangle$ basis, giving the result $a$ with probability $|\\gamma|^2$ and $b$ with probability $|\\delta|^2$.\n",
    "\n",
    "<p style=\"text-align: center; font-weight: bold;\">But with a quantum computer, we only have access to measurements in the computational basis set</p>\n",
    "\n",
    "To perform a measurement in another basis states set, we simply have to unitarily transform from the basis we wish to perform the measurement into the computational basis, then measure."
   ]
  },
  {
   "cell_type": "markdown",
   "metadata": {},
   "source": [
    "## Pauli measurements\n",
    "\n",
    "### Pauli-Z\n",
    "The basis states of Pauli-$Z$ observable correspond to the computational basis states, with eigenvalues $\\{+1, -1\\}$ respectively.\n",
    "\n",
    "<table><tr>\n",
    "<td> <img src=\"images/Bloch_Sphere.png\" width=\"200\"/> </td>\n",
    "<td>\n",
    "\\begin{align}|\\psi\\rangle &= \\alpha|0\\rangle + \\beta |1\\rangle \\;\\, \\text{where}\\\\\n",
    "\\alpha &= \\cos(\\frac{\\theta}{2}) \\\\\n",
    "\\beta &= e^{i\\phi}\\sin(\\frac{\\theta}{2})\\end{align}\n",
    "</td>\n",
    "</tr></table>\n",
    "\n",
    "\n",
    "\n",
    "We have\n",
    "\n",
    "\\begin{align}\n",
    "Z = \\sum_{m_z \\in \\{\\pm 1\\}} m_zP_{m_z} = |0\\rangle \\langle 0| - |1\\rangle \\langle 1|\n",
    "\\end{align}\n",
    "\n",
    "### Pauli-X\n",
    "We use symbols $|+\\rangle$ and $|-\\rangle$ to define the basis states of the Pauli-$X$ observable, with eigenvalues $\\{+1, -1\\}$ respectively.\n",
    "\n",
    "The $X$ basis states can be expressed in the computational basis states with the following unitary transform\n",
    "\n",
    "\\begin{align}\n",
    "|+\\rangle &= \\cos(\\frac{\\pi}{4})|0\\rangle + \\sin(\\frac{\\pi}{4})|1\\rangle = \\frac{|0\\rangle + |1\\rangle}{\\sqrt{2}} \\equiv H|0\\rangle \\\\\n",
    "|-\\rangle &= \\cos(\\frac{\\pi}{4})|0\\rangle + e^{i\\pi}\\sin(\\frac{\\pi}{4})|1\\rangle = \\frac{|0\\rangle - |1\\rangle}{\\sqrt{2}} \\equiv H|1\\rangle\n",
    "\\end{align}\n",
    "where $H$ is the Hadamard transform.\n",
    "\n",
    "Therefore, a Pauli-$X$ measurement in the computational basis corresponds to \n",
    "\n",
    "\\begin{align}\n",
    "X &= \\sum_{m_x \\in \\{\\pm 1\\}} m_xP_{m_x} \\\\\n",
    "&= |+\\rangle \\langle +| - |-\\rangle \\langle -| \\\\\n",
    "&= H|0\\rangle \\langle 0|H - H|1\\rangle \\langle 1|H\n",
    "\\end{align}\n",
    "\n",
    "where we have used the fact that $H^\\dagger = H$.\n",
    "\n",
    "### Pauli-Y\n",
    "We use symbols $|\\circlearrowleft \\rangle$ and $|\\circlearrowright\\rangle$ to define the basis states of the Pauli-$Y$ observable, with eigenvalues $\\{+1, -1\\}$ respectively.\n",
    "\n",
    "The $Y$ basis states can be expressed in the computational basis states with the following unitary transform\n",
    "\n",
    "\\begin{align}\n",
    "|\\circlearrowleft\\rangle &= \\cos(\\frac{\\pi}{4})|0\\rangle + e^{i\\pi/2}\\sin(\\frac{\\pi}{4})|1\\rangle = \\frac{|0\\rangle + i|1\\rangle}{\\sqrt{2}} \\equiv SH|0\\rangle \\\\\n",
    "|\\circlearrowright\\rangle &= \\cos(\\frac{\\pi}{4})|0\\rangle + e^{i3\\pi/2}\\sin(\\frac{\\pi}{4})|1\\rangle = \\frac{|0\\rangle - i|1\\rangle}{\\sqrt{2}} \\equiv SH|1\\rangle\n",
    "\\end{align}\n",
    "where the $S$ gate performs a rotation of $\\phi = \\frac{\\pi}{2}$ around the Z-axis direction.\n",
    "\n",
    "Therefore, a Pauli-$Y$ measurement in the computational basis corresponds to \n",
    "\n",
    "\\begin{align}\n",
    "Y &= \\sum_{m_y \\in \\{\\pm 1\\}} m_yP_{m_y} \\\\\n",
    "&= |\\circlearrowleft\\rangle \\langle \\circlearrowleft| - |\\circlearrowright\\rangle \\langle \\circlearrowright| \\\\\n",
    "&= SH|0\\rangle \\langle 0|HS^\\dagger - SH|1\\rangle \\langle 1|HS^\\dagger.\n",
    "\\end{align}\n",
    "\n",
    "### Identity\n",
    "\n",
    "Measuring the identity operator is trivial since its eigenvectors are degenerate with eigenvalue $\\{+1\\}$.\n",
    "\n",
    "\\begin{align}\n",
    "I = \\sum_{m_z \\in \\{\\pm 1\\}} m_zP_{m_z} = |0\\rangle \\langle 0| + |1\\rangle \\langle 1|\n",
    "\\end{align}\n",
    "which corresponds to the _completeness relation_."
   ]
  },
  {
   "cell_type": "markdown",
   "metadata": {},
   "source": [
    "## Measurement's average value\n",
    "\n",
    "Since $\\sum_m \\mathcal{P}(m) = 1$, the average value of an observable $M$ is given by:\n",
    "\n",
    "\\begin{align}\n",
    "\\mathbb{E}(M) &= \\sum_m m \\mathcal{P}(m) \\\\\n",
    "&= \\sum_m m \\langle \\psi|P_m|\\psi\\rangle \\\\\n",
    "&= \\langle \\psi| \\big( \\sum_m m P_m \\big)|\\psi\\rangle \\\\\n",
    "&= \\langle \\psi| M|\\psi\\rangle \\\\\n",
    "&\\equiv \\langle M \\rangle\n",
    "\\end{align}\n",
    "\n",
    "Consider a general one-qubit state $|\\psi \\rangle = \\alpha |0\\rangle + \\beta |1 \\rangle$ and let's compute the average value of the three Pauli observables.\n",
    "\n",
    "**Pauli-X**\n",
    "\n",
    "\\begin{align}\n",
    "\\langle X \\rangle &= \\langle \\psi | \\big (H|0\\rangle \\langle 0|H - H|1\\rangle \\langle 1|H \\big ) | \\psi \\rangle \\\\\n",
    "&= \\langle \\psi | H|0\\rangle \\langle 0|H |\\psi \\rangle - \\langle \\psi | H|1\\rangle \\langle 1|H |\\psi \\rangle \\\\\n",
    "&= \\langle \\psi' |0\\rangle \\langle 0| \\psi' \\rangle - \\langle \\psi'|1\\rangle \\langle 1 |\\psi'\\rangle \\\\\n",
    "&=  |\\langle 0|\\psi'\\rangle |^2 -  | \\langle 1|\\psi' \\rangle |^2\n",
    "\\end{align}\n",
    "\n",
    "where $|\\psi'\\rangle = H|\\psi\\rangle$.\n",
    "\n",
    "**Pauli-Y**\n",
    "\n",
    "\\begin{align}\n",
    "\\langle Y \\rangle &= \\langle \\psi | \\big (SH|0\\rangle \\langle 0|HS^\\dagger - SH|1\\rangle \\langle 1|HS^\\dagger \\big ) | \\psi \\rangle \\\\\n",
    "&= \\langle \\psi | SH|0\\rangle \\langle 0|HS^\\dagger |\\psi \\rangle - \\langle \\psi | SH|1\\rangle \\langle 1|HS^\\dagger |\\psi \\rangle \\\\\n",
    "&= \\langle \\psi'' |0\\rangle \\langle 0| \\psi'' \\rangle - \\langle \\psi''|1\\rangle \\langle 1 |\\psi''\\rangle \\\\\n",
    "&=  |\\langle 0|\\psi'' \\rangle |^2 -  | \\langle 1|\\psi'' \\rangle |^2\n",
    "\\end{align}\n",
    "\n",
    "where $|\\psi''\\rangle = HS^\\dagger|\\psi\\rangle$.\n",
    "\n",
    "**Pauli-Z**\n",
    "\n",
    "Finally,\n",
    "\n",
    "\\begin{align}\n",
    "\\langle Z \\rangle &= \\langle \\psi | \\big (|0\\rangle \\langle 0| - |1\\rangle \\langle 1| \\big ) | \\psi \\rangle \\\\\n",
    "&= \\langle \\psi |0\\rangle \\langle 0|\\psi \\rangle - \\langle \\psi |1\\rangle \\langle 1|\\psi \\rangle \\\\\n",
    "&=  |\\langle 0|\\psi \\rangle |^2 -  | \\langle 1|\\psi \\rangle |^2\n",
    "\\end{align}\n",
    "\n",
    "**Identity**\n",
    "\n",
    "Of course, $\\langle I \\rangle = \\langle \\psi | \\psi \\rangle = 1$."
   ]
  },
  {
   "cell_type": "markdown",
   "metadata": {},
   "source": [
    "When running an experiment, we prepare a state $|\\psi \\rangle = \\alpha |0\\rangle + \\beta |1 \\rangle$ and measure the qubit.\n",
    "\n",
    "If we repeat the same experiment for $N$ shots and the counts are $\\{0: N_0, 1:N_1\\}$ with $N_0 + N_1 = N$, then \n",
    "\n",
    "\\begin{align}\n",
    "p_{0} & = \\frac{N_{0}}{N}\\approx\\left|\\left\\langle 0|\\psi\\right\\rangle \\right|^{2}=\\left|\\alpha\\right|^{2}\\\\\n",
    "p_{1}&=\\frac{N_{1}}{N}\\approx\\left|\\left\\langle 1|\\psi\\right\\rangle \\right|^{2}=\\left|\\beta\\right|^{2}. \\\\\n",
    "\\end{align}"
   ]
  },
  {
   "cell_type": "markdown",
   "metadata": {},
   "source": [
    "## Measurement along an arbitrary axis\n",
    "\n",
    "Suppose $\\overrightarrow{v} = (v_x, v_y, v_z)$ is a three dimension unit vector with $\\{v_x, v_y, v_z\\} \\in \\Re$. We can define an observable\n",
    "\n",
    "\\begin{align}\n",
    "\\mathcal{O} = \\overrightarrow{v} \\cdot \\overrightarrow{\\sigma} = v_xX + v_yY + v_zZ\n",
    "\\end{align}\n",
    "\n",
    "where $X$, $Y$ and $Z$ are the Pauli operators.\n",
    "\n",
    "Measurement of this observable - a _measurement of spin along the $\\overrightarrow{v}$ axis_ - correspond to\n",
    "\n",
    "\\begin{align}\n",
    "\\langle \\mathcal{O} \\rangle &= \\langle v_xX + v_yY + v_zZ \\rangle \\\\\n",
    "&= v_x\\langle X \\rangle + v_y\\langle Y \\rangle + v_z\\langle Z \\rangle\n",
    "\\end{align}"
   ]
  },
  {
   "cell_type": "markdown",
   "metadata": {},
   "source": [
    "## Summary\n",
    "\n",
    "To measure a Pauli operator, one needs to apply the following unitary transformation to the qubit state and perform a measure in the computational basis states\n",
    "\n",
    "Pauli measurement &nbsp; &nbsp; &nbsp; | Unitary transformation\n",
    ":-|:-\n",
    "X | $H$\n",
    "Y | $HS^\\dagger$\n",
    "Z | $I$"
   ]
  },
  {
   "cell_type": "markdown",
   "metadata": {},
   "source": [
    "## Let's code!\n",
    "\n",
    "We will measure the average value of the Pauli operators for a randomly picked initial state."
   ]
  },
  {
   "cell_type": "code",
   "execution_count": null,
   "metadata": {},
   "outputs": [],
   "source": [
    "from qiskit.result import Counts\n",
    "\n",
    "def one_qubit_pauli_average_from_counts(counts: Counts) -> float:\n",
    "    \"\"\"\n",
    "    Compute the average of a measurement made in the Z-basis.\n",
    "\n",
    "    In the Z-basis, the eigenvalues are +1 and -1 for the '0' state and\n",
    "    '1' states respectively.\n",
    "\n",
    "    Parameters\n",
    "    ----------\n",
    "    counts: Counts\n",
    "        The counts that result from the execution of a job. \n",
    "    \"\"\"\n",
    "    \n",
    "    Z_EIGENVALUES = np.array([1,-1])\n",
    "    \n",
    "    counts_vector = np.array([counts['0'], counts['1']])\n",
    "    counts_vector = counts_vector / np.linalg.norm(counts_vector)\n",
    "    \n",
    "    return Z_EIGENVALUES.dot(counts_vector)"
   ]
  },
  {
   "cell_type": "code",
   "execution_count": null,
   "metadata": {},
   "outputs": [],
   "source": [
    "from qiskit.extensions import Initialize\n",
    "from qiskit.quantum_info import random_statevector\n",
    "from qiskit.visualization import plot_bloch_multivector\n",
    "'''\n",
    "# Create random 1-qubit state\n",
    "psi = random_statevector(2)\n",
    "print(psi)\n",
    "# Show it on a Bloch sphere\n",
    "plot_bloch_multivector(psi)\n",
    "'''"
   ]
  },
  {
   "cell_type": "markdown",
   "metadata": {},
   "source": [
    "### Pauli-Z measurement with Qiskit"
   ]
  },
  {
   "cell_type": "code",
   "execution_count": null,
   "metadata": {},
   "outputs": [],
   "source": [
    "'''\n",
    "# Circuit with a single qubit\n",
    "qc = QuantumCircuit(1)\n",
    "\n",
    "# Initialization of the circuit with random state\n",
    "qc.initialize(psi.data, [0])\n",
    "\n",
    "# Measure Pauli-Z operator\n",
    "qc.measure_all()\n",
    "qc.draw()\n",
    "'''"
   ]
  },
  {
   "cell_type": "code",
   "execution_count": null,
   "metadata": {},
   "outputs": [],
   "source": [
    "counts = execute(qc, simulator).result().get_counts()\n",
    "plot_histogram(counts)"
   ]
  },
  {
   "cell_type": "code",
   "execution_count": null,
   "metadata": {},
   "outputs": [],
   "source": [
    "print(f'Pauli-Z measurement average for random state vector: {one_qubit_pauli_average_from_counts(counts):.3f}')"
   ]
  },
  {
   "cell_type": "markdown",
   "metadata": {},
   "source": [
    "### Pauli-X measurement with Qiskit"
   ]
  },
  {
   "cell_type": "code",
   "execution_count": null,
   "metadata": {},
   "outputs": [],
   "source": [
    "'''\n",
    "# Circuit with a single qubit\n",
    "qc = QuantumCircuit(1)\n",
    "\n",
    "# Initialization of the circuit with random state\n",
    "qc.initialize(psi.data, [0])\n",
    "\n",
    "# Apply unitary to qubit state\n",
    "qc.h(0)\n",
    "\n",
    "# Measure Pauli-X operator\n",
    "qc.measure_all()\n",
    "qc.draw()\n",
    "'''"
   ]
  },
  {
   "cell_type": "code",
   "execution_count": null,
   "metadata": {},
   "outputs": [],
   "source": [
    "counts = execute(qc, simulator).result().get_counts()\n",
    "plot_histogram(counts)"
   ]
  },
  {
   "cell_type": "code",
   "execution_count": null,
   "metadata": {},
   "outputs": [],
   "source": [
    "print(f'Pauli-X measurement average for random state vector: {one_qubit_pauli_average_from_counts(counts):.3f}')"
   ]
  },
  {
   "cell_type": "markdown",
   "metadata": {},
   "source": [
    "### Pauli-Y measurement with Qiskit"
   ]
  },
  {
   "cell_type": "code",
   "execution_count": null,
   "metadata": {},
   "outputs": [],
   "source": [
    "'''\n",
    "# Circuit with a single qubit\n",
    "qc = QuantumCircuit(1)\n",
    "\n",
    "# Initialization of the circuit with random state\n",
    "qc.initialize(psi.data, [0])\n",
    "\n",
    "# Apply unitary to qubit state\n",
    "qc.sdg(0)\n",
    "qc.h(0)\n",
    "\n",
    "# Measure Pauli-Y operator\n",
    "qc.measure_all()\n",
    "qc.draw()\n",
    "'''"
   ]
  },
  {
   "cell_type": "code",
   "execution_count": null,
   "metadata": {},
   "outputs": [],
   "source": [
    "counts = execute(qc, simulator).result().get_counts()\n",
    "plot_histogram(counts)"
   ]
  },
  {
   "cell_type": "code",
   "execution_count": null,
   "metadata": {},
   "outputs": [],
   "source": [
    "print(f'Pauli-Y measurement average for random state vector: {one_qubit_pauli_average_from_counts(counts):.3f}')"
   ]
  },
  {
   "cell_type": "markdown",
   "metadata": {},
   "source": [
    "### Spin measurement along an arbitrary axis with Qiskit\n",
    "\n",
    "Suppose $\\overrightarrow{v} = (v_x, v_y, v_z)$ is a three dimension unit vector with $\\{v_x, v_y, v_z\\} \\in \\Re$. We can define an observable\n",
    "\n",
    "\\begin{align}\n",
    "\\mathcal{O} = \\overrightarrow{v} \\cdot \\overrightarrow{\\sigma} = v_xX + v_yY + v_zZ\n",
    "\\end{align}\n",
    "\n",
    "where $X$, $Y$ and $Z$ are the Pauli operators."
   ]
  },
  {
   "cell_type": "code",
   "execution_count": null,
   "metadata": {},
   "outputs": [],
   "source": [
    "'''\n",
    "# Create a random real unitary vector\n",
    "v = np.random.rand(3)\n",
    "v /= np.linalg.norm(v)\n",
    "\n",
    "# 3 circuits with a single qubit\n",
    "qcs = [QuantumCircuit(1) for _ in range(3)]\n",
    "\n",
    "# Initialization of the circuits with random state\n",
    "[qc.initialize(psi.data, [0]) for qc in qcs]\n",
    "\n",
    "# Apply unitary to qubit state\n",
    "# Measurement along the X-axis\n",
    "qcs[0].h(0)\n",
    "# Measurement along the Y-axis\n",
    "qcs[1].sdg(0)\n",
    "qcs[1].h(0)\n",
    "# Nothing to do for Z-axis\n",
    "\n",
    "# Measure\n",
    "[qc.measure_all() for qc in qcs]\n",
    "'''"
   ]
  },
  {
   "cell_type": "code",
   "execution_count": null,
   "metadata": {},
   "outputs": [],
   "source": [
    "# Job with bundled circuits\n",
    "counts = execute(qcs, simulator).result().get_counts()"
   ]
  },
  {
   "cell_type": "code",
   "execution_count": null,
   "metadata": {},
   "outputs": [],
   "source": [
    "# Average for X, Y and Z measurement respectively\n",
    "avgs = list(map(one_qubit_pauli_average_from_counts, counts))\n",
    "list(map(lambda v,s: v*s, v, avgs))"
   ]
  },
  {
   "cell_type": "code",
   "execution_count": null,
   "metadata": {},
   "outputs": [],
   "source": [
    "print(f\"Measurement average for random state vector along v-axis: {sum(map(lambda v,s: v*s, v, avgs)):.3f}\")"
   ]
  },
  {
   "cell_type": "markdown",
   "metadata": {},
   "source": [
    "## Measure a composite system\n",
    "\n",
    "The state space of a composite physical system is the tensor product of the state spaces of the component physical systems.\n",
    "\n",
    "For a system of $n$ qubits where qubit $i$ is in state $| \\psi_i \\rangle$, the state of the system is\n",
    "\n",
    "\\begin{align}\n",
    "|\\psi \\rangle = |\\psi_1 \\rangle \\otimes |\\psi_2 \\rangle \\otimes \\ldots \\otimes |\\psi_n \\rangle \n",
    "\\end{align}\n",
    "\n",
    "We denote an operator $M$ acting on qubit $i$ of a system with $M_i$. For example, the Pauli string $Z_1Y_2X_3Z_4$ correspond to an operator where Pauli-$Z$ is applied to qubits 1 and 4, Pauli-$Y$ is applied to qubit 2 and Pauli-$X$ is applied to quibit 3.\n",
    "\n",
    "Measurement of Pauli strings for composite systems will be important in studying the $H_2$ molecule. With this in mind, you have the task to implement the following method:"
   ]
  },
  {
   "cell_type": "code",
   "execution_count": null,
   "metadata": {},
   "outputs": [],
   "source": [
    "def pauli_string_based_measurement(pauli_str: str) -> QuantumCircuit:\n",
    "    \"\"\"\n",
    "    Creates a quantum circuit corresponding to the Pauli string passed \n",
    "    as a parameter.\n",
    "    \n",
    "    Parameters\n",
    "    ----------\n",
    "    pauli_str: str\n",
    "        The Pauli string to measure with the quantum circuit.\n",
    "\n",
    "        A Pauli string must be composed of the following characters:\n",
    "          'X': measure the Pauli-X operator\n",
    "          'Y': measure the Pauli-Y operator\n",
    "          'Z': measure the Pauli-Z operator\n",
    "          'I': measure the Identity operator\n",
    "        \n",
    "        This method is not case sensitive: 'XYZI', 'xyzi' and 'XyZi' are\n",
    "        all valid strings.\n",
    "        \n",
    "        The length of the string determines the number of qubits in the\n",
    "        quantum circuit. If `len(pauli_str)` is n, then the quantum\n",
    "        circuit will have a n-qubits quantum register.\n",
    "        \n",
    "        To follow Qiskit convention, the string must be read from right to\n",
    "        left. The last character of the string determines the Pauli\n",
    "        operator to apply to qubit 0. The second to last character the\n",
    "        Pauli operator to apply to qubit 1, etc. The first character of\n",
    "        the string is for qubit (n-1)\n",
    "\n",
    "        \n",
    "    Raises\n",
    "    ------\n",
    "    ValueError\n",
    "        If the the pauli_string passed as a parameter contains characters\n",
    "        other that 'X','Y','Z' and 'I', or if the string is empty.\n",
    "        \n",
    "    \"\"\"\n",
    "\n",
    "    NotImplementedError()"
   ]
  },
  {
   "cell_type": "code",
   "execution_count": null,
   "metadata": {},
   "outputs": [],
   "source": [
    "def pauli_average_from_counts(counts: Counts, pauli_str: str) -> float:\n",
    "    \"\"\"\n",
    "    Computes the average value of a Pauli string from counts.\n",
    "    \n",
    "    Parameters\n",
    "    ----------\n",
    "    counts: Counts\n",
    "        The counts that result from the execution of a job.\n",
    "        \n",
    "    pauli_str: str\n",
    "        The Pauli string that was used to generate the circuit\n",
    "        performing measurement in the computational basis.\n",
    "        \n",
    "    A Pauli string must be composed of the following characters:\n",
    "          'X': measure the Pauli-X operator\n",
    "          'Y': measure the Pauli-Y operator\n",
    "          'Z': measure the Pauli-Z operator\n",
    "          'I': measure the Identity operator\n",
    "    \n",
    "    This method is not case sensitive: 'XYZI', 'xyzi' and 'XyZi' are\n",
    "    all valid strings.\n",
    "        \n",
    "    The length of the string determines the size of the basis set,\n",
    "    hence the states present in the `counts` object.\n",
    "            \n",
    "    To follow Qiskit convention, the string must be read from right to\n",
    "    left, which corresponds the bit ordering of the basis states.\n",
    "    \n",
    "    Raises\n",
    "    ------\n",
    "    ValueError\n",
    "        If the the pauli_string passed as a parameter contains characters\n",
    "        other that 'X','Y','Z' and 'I', or if the string is empty.\n",
    "    \"\"\"\n",
    "    \n",
    "    raise NotImplementedError()"
   ]
  },
  {
   "cell_type": "markdown",
   "metadata": {},
   "source": [
    "### Typical workflow \n",
    "\n",
    "1. Setup a quantum circuit preparing some quantum state.\n",
    "2. Identify a Pauli string representing the basis in which you want to perform the measurement and call your implementation of `pauli_string_based_measurement()`.\n",
    "3. Append the measurement circuit to the circuit preparing the quantum state.\n",
    "4. Execute the circuit and get the counts.\n",
    "5. Call your `pauli_average_from_counts()` method to obtain the average."
   ]
  }
 ],
 "metadata": {
  "kernelspec": {
   "display_name": "Python 3",
   "language": "python",
   "name": "python3"
  },
  "language_info": {
   "codemirror_mode": {
    "name": "ipython",
    "version": 3
   },
   "file_extension": ".py",
   "mimetype": "text/x-python",
   "name": "python",
   "nbconvert_exporter": "python",
   "pygments_lexer": "ipython3",
   "version": "3.7.7"
  }
 },
 "nbformat": 4,
 "nbformat_minor": 4
}
